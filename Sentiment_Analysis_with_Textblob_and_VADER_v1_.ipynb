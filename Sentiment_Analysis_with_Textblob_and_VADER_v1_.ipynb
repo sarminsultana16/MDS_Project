{
  "nbformat": 4,
  "nbformat_minor": 0,
  "metadata": {
    "colab": {
      "provenance": []
    },
    "kernelspec": {
      "name": "python3",
      "display_name": "Python 3"
    },
    "language_info": {
      "name": "python"
    }
  },
  "cells": [
    {
      "cell_type": "code",
      "execution_count": null,
      "metadata": {
        "id": "Re8gpQHoJfD_",
        "colab": {
          "base_uri": "https://localhost:8080/"
        },
        "outputId": "8a2d785c-85f3-4567-a851-a772b554b43e"
      },
      "outputs": [
        {
          "output_type": "stream",
          "name": "stderr",
          "text": [
            "[nltk_data] Downloading package vader_lexicon to /root/nltk_data...\n"
          ]
        }
      ],
      "source": [
        "# General dependencies\n",
        "import tweepy\n",
        "import numpy as np\n",
        "import pandas as pd\n",
        "import matplotlib.pyplot as plt\n",
        "%matplotlib inline\n",
        "import seaborn as sns\n",
        "import re\n",
        "import os\n",
        "import time\n",
        "from datetime import datetime, date, timedelta\n",
        "\n",
        "# For Twitter API extraction\n",
        "import tweepy\n",
        "#!pip install python-dotenv\n",
        "#from dotenv import load_dotenv\n",
        "\n",
        "# Tweet pre-processor\n",
        "#import preprocessor as p\n",
        "\n",
        "# NLTK\n",
        "import nltk\n",
        "nltk.download('vader_lexicon')\n",
        "from nltk.sentiment.vader import SentimentIntensityAnalyzer\n",
        "\n",
        "# TextBlob\n",
        "from textblob import TextBlob\n",
        "\n"
      ]
    },
    {
      "cell_type": "code",
      "source": [
        "\n",
        "import tweepy\n",
        "\n",
        "\n",
        "# Authenticate with Twitter API\n",
        "consumer_key = '' # insert twitter api consumer key here\n",
        "consumer_secret = ''  # insert twitter api consumer_secret key here\n",
        "access_token = ''  # insert twitter api access_token key here\n",
        "access_token_secret = ''  # insert twitter api access_token_secret key here\n",
        "\n",
        "auth = tweepy.OAuthHandler(consumer_key, consumer_secret)\n",
        "auth.set_access_token(access_token, access_token_secret)\n",
        "api = tweepy.API(auth)\n",
        "\n",
        "# Search for tweets containing specific keywords\n",
        "tweets = tweepy.Cursor(api.search, \n",
        "                      q='covid-19 vaccine', \n",
        "                      lang='en', \n",
        "                      tweet_mode='extended').items(1000)\n",
        "\n",
        "# Create a list to store the tweets\n",
        "tweet_list = []\n",
        "\n",
        "# Iterate over the tweets and store them in the list\n",
        "for tweet in tweets:\n",
        "    tweet_list.append({\n",
        "        'created_at': tweet.created_at,\n",
        "        'text': tweet.full_text,\n",
        "        'user': tweet.user.screen_name,\n",
        "        'location': tweet.user.location\n",
        "    })"
      ],
      "metadata": {
        "id": "evz5V9BElOJb"
      },
      "execution_count": null,
      "outputs": []
    },
    {
      "cell_type": "code",
      "source": [
        "# Create a dataframe from the list of tweets\n",
        "tweet_df = pd.DataFrame(tweet_list)\n",
        "\n",
        "# View the dataframe\n",
        "print(tweet_df)"
      ],
      "metadata": {
        "id": "tKPtVdlqlb5_"
      },
      "execution_count": null,
      "outputs": []
    },
    {
      "cell_type": "code",
      "source": [
        "tweet_df.tail()"
      ],
      "metadata": {
        "id": "_Q46vJgLmjNy"
      },
      "execution_count": null,
      "outputs": []
    },
    {
      "cell_type": "code",
      "source": [
        "# Save the dataframe to csv file\n",
        "tweet_df.to_csv('tweets_updated.csv', index=False)"
      ],
      "metadata": {
        "id": "hQ3VHF7lmZS_"
      },
      "execution_count": null,
      "outputs": []
    },
    {
      "cell_type": "code",
      "source": [
        "from google.colab import drive\n",
        "drive.mount('/content/drive')"
      ],
      "metadata": {
        "colab": {
          "base_uri": "https://localhost:8080/"
        },
        "id": "uckrjvNBJ_cV",
        "outputId": "428549bb-ab7f-418d-b685-b519a04890f6"
      },
      "execution_count": null,
      "outputs": [
        {
          "output_type": "stream",
          "name": "stdout",
          "text": [
            "Drive already mounted at /content/drive; to attempt to forcibly remount, call drive.mount(\"/content/drive\", force_remount=True).\n"
          ]
        }
      ]
    },
    {
      "cell_type": "code",
      "source": [
        "tweets_df1 = pd.read_csv(\"/content/drive/MyDrive/P2/topic_v1.csv\")\n",
        "#tweets_df = tweets_df.dropna()\n",
        "#tweets_df = tweets_df.reset_index()"
      ],
      "metadata": {
        "id": "gPX40Vj_J_zw"
      },
      "execution_count": null,
      "outputs": []
    },
    {
      "cell_type": "code",
      "source": [
        "tweets_df = tweets_df1[['text','date','user_country','Tweets','Dominant_Topic','Perc_Dominant_Topic']]"
      ],
      "metadata": {
        "id": "Br7CEXk_LwHi"
      },
      "execution_count": null,
      "outputs": []
    },
    {
      "cell_type": "markdown",
      "source": [
        "**Topic Aspect**"
      ],
      "metadata": {
        "id": "pdFHmZZY53-j"
      }
    },
    {
      "cell_type": "markdown",
      "source": [
        "The generated topics topic modeling are given below:"
      ],
      "metadata": {
        "id": "5OM5ukLC6h6Z"
      }
    },
    {
      "cell_type": "code",
      "source": [
        "\n",
        "# [(0, '0.020*\"kid\" + 0.018*\"trial\" + 0.016*\"efficacy\" + 0.014*\"available\" + 0.013*\"decision\" + 0.012*\"recognise\" + 0.012*\"say\" + 0.011*\"datum\" + 0.010*\"include\" + 0.010*\"enter\"'),\n",
        "\n",
        "#  (1, '0.035*\"vaccinate\" + 0.033*\"vaccine\" + 0.032*\"today\" + 0.030*\"covaxin\" + 0.029*\"take\" + 0.027*\"finally\" + 0.024*\"people\" + 0.018*\"thank\" + 0.017*\"fully\" + 0.017*\"administer\"'),\n",
        "\n",
        "#  (2, '0.333*\"slot\" + 0.245*\"age\" + 0.162*\"dose\" + 0.115*\"date\" + 0.058*\"fee\" + 0.024*\"sep\" + 0.006*\"hospital\" + 0.003*\"sunny\" + 0.003*\"jul\" + 0.002*\"miracle\"'), \n",
        " \n",
        "#  (3, '0.298*\"dose\" + 0.229*\"free\" + 0.228*\"availability\" + 0.132*\"pay\" + 0.005*\"government\" + 0.004*\"group\" + 0.003*\"health\" + 0.002*\"city\" + 0.002*\"consider\" + 0.002*\"high\"'),\n",
        "\n",
        "#  (4, '0.080*\"approve\" + 0.070*\"vaccine\" + 0.059*\"use\" + 0.056*\"approval\" + 0.049*\"emergency\" + 0.032*\"list\" + 0.025*\"child\" + 0.024*\"year\" + 0.021*\"covid\" + 0.016*\"say\"')]"
      ],
      "metadata": {
        "id": "doRk6wbL6VS4"
      },
      "execution_count": null,
      "outputs": []
    },
    {
      "cell_type": "code",
      "source": [
        "def categorise(row):  \n",
        "    if row['Dominant_Topic'] == 'Topic 0':\n",
        "        return 'Clinical Trials'\n",
        "    elif row['Dominant_Topic'] == 'Topic 1':\n",
        "        return 'Administration Coverage'\n",
        "    elif row['Dominant_Topic'] == 'Topic 2':\n",
        "        return 'Slot Distribution'\n",
        "    elif row['Dominant_Topic'] == 'Topic 3':\n",
        "        return 'Dose Availability'\n",
        "    elif row['Dominant_Topic'] == 'Topic 4':\n",
        "        return 'Usage Approval'\n",
        "    return ''"
      ],
      "metadata": {
        "id": "o_wlxYGyQimn"
      },
      "execution_count": null,
      "outputs": []
    },
    {
      "cell_type": "code",
      "source": [
        "#assignin the dominent topic with aspect on the basis of keyword in the topic\n",
        "\n",
        "tweets_df['Dominant_Topic_rev'] = tweets_df.apply(lambda row: categorise(row), axis=1)\n",
        "tweets_df =tweets_df[tweets_df['Dominant_Topic_rev'] != '']"
      ],
      "metadata": {
        "id": "lTz7EE_2ZCXL"
      },
      "execution_count": null,
      "outputs": []
    },
    {
      "cell_type": "code",
      "source": [
        "tweets_df.rename(columns = {'Tweets':'text_cleaned'}, inplace = True)"
      ],
      "metadata": {
        "colab": {
          "base_uri": "https://localhost:8080/"
        },
        "id": "Pi9LjK5uMCH6",
        "outputId": "e607fd81-1ca0-46ee-ee60-1634e9cc09e1"
      },
      "execution_count": null,
      "outputs": [
        {
          "output_type": "stream",
          "name": "stderr",
          "text": [
            "/usr/local/lib/python3.8/dist-packages/pandas/core/frame.py:5039: SettingWithCopyWarning: \n",
            "A value is trying to be set on a copy of a slice from a DataFrame\n",
            "\n",
            "See the caveats in the documentation: https://pandas.pydata.org/pandas-docs/stable/user_guide/indexing.html#returning-a-view-versus-a-copy\n",
            "  return super().rename(\n"
          ]
        }
      ]
    },
    {
      "cell_type": "code",
      "source": [],
      "metadata": {
        "id": "Y8Hn94iDLdva"
      },
      "execution_count": null,
      "outputs": []
    },
    {
      "cell_type": "markdown",
      "source": [
        "# Sentiment Analysis"
      ],
      "metadata": {
        "id": "pT5JDtjXK31T"
      }
    },
    {
      "cell_type": "code",
      "source": [
        "# Define function to get value counts\n",
        "def get_value_counts(col_name, analyzer_name):\n",
        "    count = pd.DataFrame(tweets_df[col_name].value_counts())\n",
        "    percentage = pd.DataFrame(tweets_df[col_name].value_counts(normalize=True).mul(100))\n",
        "    value_counts_df = pd.concat([count, percentage], axis = 1)\n",
        "    value_counts_df = value_counts_df.reset_index()\n",
        "    value_counts_df.columns = ['sentiment', 'counts', 'percentage']\n",
        "    value_counts_df.sort_values('sentiment', inplace = True)\n",
        "    value_counts_df['percentage'] = value_counts_df['percentage'].apply(lambda x: round(x,2))\n",
        "    value_counts_df = value_counts_df.reset_index(drop = True)\n",
        "    value_counts_df['analyzer'] = analyzer_name\n",
        "    return value_counts_df"
      ],
      "metadata": {
        "id": "g16iLqWeJ_8P"
      },
      "execution_count": null,
      "outputs": []
    },
    {
      "cell_type": "markdown",
      "source": [
        "**Vader**"
      ],
      "metadata": {
        "id": "-GRT5mFIK8eB"
      }
    },
    {
      "cell_type": "code",
      "source": [
        "tweets_df['text_cleaned'] = tweets_df['text_cleaned'].astype(str)"
      ],
      "metadata": {
        "colab": {
          "base_uri": "https://localhost:8080/"
        },
        "id": "ao6Rzf1yMiiJ",
        "outputId": "35024883-eb55-4288-a1b5-541b44891853"
      },
      "execution_count": null,
      "outputs": [
        {
          "output_type": "stream",
          "name": "stderr",
          "text": [
            "<ipython-input-19-fc05607a96f1>:1: SettingWithCopyWarning: \n",
            "A value is trying to be set on a copy of a slice from a DataFrame.\n",
            "Try using .loc[row_indexer,col_indexer] = value instead\n",
            "\n",
            "See the caveats in the documentation: https://pandas.pydata.org/pandas-docs/stable/user_guide/indexing.html#returning-a-view-versus-a-copy\n",
            "  tweets_df['text_cleaned'] = tweets_df['text_cleaned'].astype(str)\n"
          ]
        }
      ]
    },
    {
      "cell_type": "code",
      "source": [
        "sia = SentimentIntensityAnalyzer()\n",
        "# Obtaining NLTK scores\n",
        "tweets_df['nltk_scores'] = tweets_df['text_cleaned'].apply(lambda x: sia.polarity_scores(x))\n",
        "\n",
        "# Obtaining NLTK compound score\n",
        "tweets_df['nltk_cmp_score'] = tweets_df['nltk_scores'].apply(lambda score_dict: score_dict['compound'])"
      ],
      "metadata": {
        "colab": {
          "base_uri": "https://localhost:8080/"
        },
        "id": "RFr_E0xzK7kx",
        "outputId": "3f7ecf73-673f-4b71-9004-687b6d4c3237"
      },
      "execution_count": null,
      "outputs": [
        {
          "output_type": "stream",
          "name": "stderr",
          "text": [
            "<ipython-input-20-c77abfbe6166>:3: SettingWithCopyWarning: \n",
            "A value is trying to be set on a copy of a slice from a DataFrame.\n",
            "Try using .loc[row_indexer,col_indexer] = value instead\n",
            "\n",
            "See the caveats in the documentation: https://pandas.pydata.org/pandas-docs/stable/user_guide/indexing.html#returning-a-view-versus-a-copy\n",
            "  tweets_df['nltk_scores'] = tweets_df['text_cleaned'].apply(lambda x: sia.polarity_scores(x))\n",
            "<ipython-input-20-c77abfbe6166>:6: SettingWithCopyWarning: \n",
            "A value is trying to be set on a copy of a slice from a DataFrame.\n",
            "Try using .loc[row_indexer,col_indexer] = value instead\n",
            "\n",
            "See the caveats in the documentation: https://pandas.pydata.org/pandas-docs/stable/user_guide/indexing.html#returning-a-view-versus-a-copy\n",
            "  tweets_df['nltk_cmp_score'] = tweets_df['nltk_scores'].apply(lambda score_dict: score_dict['compound'])\n"
          ]
        }
      ]
    },
    {
      "cell_type": "code",
      "source": [
        "tweets_df.head()"
      ],
      "metadata": {
        "colab": {
          "base_uri": "https://localhost:8080/",
          "height": 250
        },
        "id": "_tiP3HnyMyrC",
        "outputId": "33a82b63-f3ab-4a3a-b36d-044a704c58e5"
      },
      "execution_count": null,
      "outputs": [
        {
          "output_type": "execute_result",
          "data": {
            "text/plain": [
              "                                                text              date  \\\n",
              "0  The agency also released new information for h...  12/12/2020 17:45   \n",
              "1  The US Food and Drug Administration (FDA) has ...  12/12/2020 14:58   \n",
              "2  I’ve never been so excited to get a vaccine 💉💉...  12/14/2020 23:48   \n",
              "3  #UgurSahin #ozlemtureci the #Muslim Scientists...  12/14/2020 20:00   \n",
              "4  Toronto to receive Ontario's 1st doses of Pfiz...  12/14/2020 18:27   \n",
              "\n",
              "  user_country                                       text_cleaned  \\\n",
              "0        India  release new information health care provider p...   \n",
              "1        India                       emergency authorization mrna   \n",
              "2        India                                            excited   \n",
              "3        India                                         save world   \n",
              "4        India                                covid vaccine today   \n",
              "\n",
              "  Dominant_Topic  Perc_Dominant_Topic  \\\n",
              "0        Topic 1                 0.80   \n",
              "1        Topic 4                 0.80   \n",
              "2        Topic 0                 0.60   \n",
              "3        Topic 0                 0.73   \n",
              "4        Topic 1                 0.51   \n",
              "\n",
              "                                         nltk_scores  nltk_cmp_score  \n",
              "0  {'neg': 0.0, 'neu': 0.686, 'pos': 0.314, 'comp...          0.4939  \n",
              "1  {'neg': 0.565, 'neu': 0.435, 'pos': 0.0, 'comp...         -0.3818  \n",
              "2  {'neg': 0.0, 'neu': 0.0, 'pos': 1.0, 'compound...          0.3400  \n",
              "3  {'neg': 0.0, 'neu': 0.238, 'pos': 0.762, 'comp...          0.4939  \n",
              "4  {'neg': 0.0, 'neu': 1.0, 'pos': 0.0, 'compound...          0.0000  "
            ],
            "text/html": [
              "\n",
              "  <div id=\"df-402ecb99-48ec-4636-9de0-0af43c191fe2\">\n",
              "    <div class=\"colab-df-container\">\n",
              "      <div>\n",
              "<style scoped>\n",
              "    .dataframe tbody tr th:only-of-type {\n",
              "        vertical-align: middle;\n",
              "    }\n",
              "\n",
              "    .dataframe tbody tr th {\n",
              "        vertical-align: top;\n",
              "    }\n",
              "\n",
              "    .dataframe thead th {\n",
              "        text-align: right;\n",
              "    }\n",
              "</style>\n",
              "<table border=\"1\" class=\"dataframe\">\n",
              "  <thead>\n",
              "    <tr style=\"text-align: right;\">\n",
              "      <th></th>\n",
              "      <th>text</th>\n",
              "      <th>date</th>\n",
              "      <th>user_country</th>\n",
              "      <th>text_cleaned</th>\n",
              "      <th>Dominant_Topic</th>\n",
              "      <th>Perc_Dominant_Topic</th>\n",
              "      <th>nltk_scores</th>\n",
              "      <th>nltk_cmp_score</th>\n",
              "    </tr>\n",
              "  </thead>\n",
              "  <tbody>\n",
              "    <tr>\n",
              "      <th>0</th>\n",
              "      <td>The agency also released new information for h...</td>\n",
              "      <td>12/12/2020 17:45</td>\n",
              "      <td>India</td>\n",
              "      <td>release new information health care provider p...</td>\n",
              "      <td>Topic 1</td>\n",
              "      <td>0.80</td>\n",
              "      <td>{'neg': 0.0, 'neu': 0.686, 'pos': 0.314, 'comp...</td>\n",
              "      <td>0.4939</td>\n",
              "    </tr>\n",
              "    <tr>\n",
              "      <th>1</th>\n",
              "      <td>The US Food and Drug Administration (FDA) has ...</td>\n",
              "      <td>12/12/2020 14:58</td>\n",
              "      <td>India</td>\n",
              "      <td>emergency authorization mrna</td>\n",
              "      <td>Topic 4</td>\n",
              "      <td>0.80</td>\n",
              "      <td>{'neg': 0.565, 'neu': 0.435, 'pos': 0.0, 'comp...</td>\n",
              "      <td>-0.3818</td>\n",
              "    </tr>\n",
              "    <tr>\n",
              "      <th>2</th>\n",
              "      <td>I’ve never been so excited to get a vaccine 💉💉...</td>\n",
              "      <td>12/14/2020 23:48</td>\n",
              "      <td>India</td>\n",
              "      <td>excited</td>\n",
              "      <td>Topic 0</td>\n",
              "      <td>0.60</td>\n",
              "      <td>{'neg': 0.0, 'neu': 0.0, 'pos': 1.0, 'compound...</td>\n",
              "      <td>0.3400</td>\n",
              "    </tr>\n",
              "    <tr>\n",
              "      <th>3</th>\n",
              "      <td>#UgurSahin #ozlemtureci the #Muslim Scientists...</td>\n",
              "      <td>12/14/2020 20:00</td>\n",
              "      <td>India</td>\n",
              "      <td>save world</td>\n",
              "      <td>Topic 0</td>\n",
              "      <td>0.73</td>\n",
              "      <td>{'neg': 0.0, 'neu': 0.238, 'pos': 0.762, 'comp...</td>\n",
              "      <td>0.4939</td>\n",
              "    </tr>\n",
              "    <tr>\n",
              "      <th>4</th>\n",
              "      <td>Toronto to receive Ontario's 1st doses of Pfiz...</td>\n",
              "      <td>12/14/2020 18:27</td>\n",
              "      <td>India</td>\n",
              "      <td>covid vaccine today</td>\n",
              "      <td>Topic 1</td>\n",
              "      <td>0.51</td>\n",
              "      <td>{'neg': 0.0, 'neu': 1.0, 'pos': 0.0, 'compound...</td>\n",
              "      <td>0.0000</td>\n",
              "    </tr>\n",
              "  </tbody>\n",
              "</table>\n",
              "</div>\n",
              "      <button class=\"colab-df-convert\" onclick=\"convertToInteractive('df-402ecb99-48ec-4636-9de0-0af43c191fe2')\"\n",
              "              title=\"Convert this dataframe to an interactive table.\"\n",
              "              style=\"display:none;\">\n",
              "        \n",
              "  <svg xmlns=\"http://www.w3.org/2000/svg\" height=\"24px\"viewBox=\"0 0 24 24\"\n",
              "       width=\"24px\">\n",
              "    <path d=\"M0 0h24v24H0V0z\" fill=\"none\"/>\n",
              "    <path d=\"M18.56 5.44l.94 2.06.94-2.06 2.06-.94-2.06-.94-.94-2.06-.94 2.06-2.06.94zm-11 1L8.5 8.5l.94-2.06 2.06-.94-2.06-.94L8.5 2.5l-.94 2.06-2.06.94zm10 10l.94 2.06.94-2.06 2.06-.94-2.06-.94-.94-2.06-.94 2.06-2.06.94z\"/><path d=\"M17.41 7.96l-1.37-1.37c-.4-.4-.92-.59-1.43-.59-.52 0-1.04.2-1.43.59L10.3 9.45l-7.72 7.72c-.78.78-.78 2.05 0 2.83L4 21.41c.39.39.9.59 1.41.59.51 0 1.02-.2 1.41-.59l7.78-7.78 2.81-2.81c.8-.78.8-2.07 0-2.86zM5.41 20L4 18.59l7.72-7.72 1.47 1.35L5.41 20z\"/>\n",
              "  </svg>\n",
              "      </button>\n",
              "      \n",
              "  <style>\n",
              "    .colab-df-container {\n",
              "      display:flex;\n",
              "      flex-wrap:wrap;\n",
              "      gap: 12px;\n",
              "    }\n",
              "\n",
              "    .colab-df-convert {\n",
              "      background-color: #E8F0FE;\n",
              "      border: none;\n",
              "      border-radius: 50%;\n",
              "      cursor: pointer;\n",
              "      display: none;\n",
              "      fill: #1967D2;\n",
              "      height: 32px;\n",
              "      padding: 0 0 0 0;\n",
              "      width: 32px;\n",
              "    }\n",
              "\n",
              "    .colab-df-convert:hover {\n",
              "      background-color: #E2EBFA;\n",
              "      box-shadow: 0px 1px 2px rgba(60, 64, 67, 0.3), 0px 1px 3px 1px rgba(60, 64, 67, 0.15);\n",
              "      fill: #174EA6;\n",
              "    }\n",
              "\n",
              "    [theme=dark] .colab-df-convert {\n",
              "      background-color: #3B4455;\n",
              "      fill: #D2E3FC;\n",
              "    }\n",
              "\n",
              "    [theme=dark] .colab-df-convert:hover {\n",
              "      background-color: #434B5C;\n",
              "      box-shadow: 0px 1px 3px 1px rgba(0, 0, 0, 0.15);\n",
              "      filter: drop-shadow(0px 1px 2px rgba(0, 0, 0, 0.3));\n",
              "      fill: #FFFFFF;\n",
              "    }\n",
              "  </style>\n",
              "\n",
              "      <script>\n",
              "        const buttonEl =\n",
              "          document.querySelector('#df-402ecb99-48ec-4636-9de0-0af43c191fe2 button.colab-df-convert');\n",
              "        buttonEl.style.display =\n",
              "          google.colab.kernel.accessAllowed ? 'block' : 'none';\n",
              "\n",
              "        async function convertToInteractive(key) {\n",
              "          const element = document.querySelector('#df-402ecb99-48ec-4636-9de0-0af43c191fe2');\n",
              "          const dataTable =\n",
              "            await google.colab.kernel.invokeFunction('convertToInteractive',\n",
              "                                                     [key], {});\n",
              "          if (!dataTable) return;\n",
              "\n",
              "          const docLinkHtml = 'Like what you see? Visit the ' +\n",
              "            '<a target=\"_blank\" href=https://colab.research.google.com/notebooks/data_table.ipynb>data table notebook</a>'\n",
              "            + ' to learn more about interactive tables.';\n",
              "          element.innerHTML = '';\n",
              "          dataTable['output_type'] = 'display_data';\n",
              "          await google.colab.output.renderOutput(dataTable, element);\n",
              "          const docLink = document.createElement('div');\n",
              "          docLink.innerHTML = docLinkHtml;\n",
              "          element.appendChild(docLink);\n",
              "        }\n",
              "      </script>\n",
              "    </div>\n",
              "  </div>\n",
              "  "
            ]
          },
          "metadata": {},
          "execution_count": 21
        }
      ]
    },
    {
      "cell_type": "code",
      "source": [
        "neutral_thresh = 0.05"
      ],
      "metadata": {
        "id": "9sE6-XWOM2Jr"
      },
      "execution_count": null,
      "outputs": []
    },
    {
      "cell_type": "code",
      "source": [
        "# Categorize scores into the sentiments of positive, neutral or negative\n",
        "tweets_df['nltk_sentiment'] = tweets_df['nltk_cmp_score'].apply(lambda c: 'Positive' if c >= neutral_thresh else ('Negative' if c <= -(neutral_thresh) else 'Neutral'))\n",
        "\n",
        "# Neutral score = 0\n",
        "# tweets_df['nltk_sentiment'] = tweets_df['nltk_cmp_score'].apply(lambda c: 'Positive' if c > 0 else ('Negative' if c < 0 else 'Neutral'))"
      ],
      "metadata": {
        "colab": {
          "base_uri": "https://localhost:8080/"
        },
        "id": "1iDAaGykNAiD",
        "outputId": "3231f48b-1e4f-4fbd-d2f5-9e2924138a5f"
      },
      "execution_count": null,
      "outputs": [
        {
          "output_type": "stream",
          "name": "stderr",
          "text": [
            "<ipython-input-23-b7e7a98d7229>:2: SettingWithCopyWarning: \n",
            "A value is trying to be set on a copy of a slice from a DataFrame.\n",
            "Try using .loc[row_indexer,col_indexer] = value instead\n",
            "\n",
            "See the caveats in the documentation: https://pandas.pydata.org/pandas-docs/stable/user_guide/indexing.html#returning-a-view-versus-a-copy\n",
            "  tweets_df['nltk_sentiment'] = tweets_df['nltk_cmp_score'].apply(lambda c: 'Positive' if c >= neutral_thresh else ('Negative' if c <= -(neutral_thresh) else 'Neutral'))\n"
          ]
        }
      ]
    },
    {
      "cell_type": "code",
      "source": [
        "tweets_df['nltk_cmp_score'].describe()\n"
      ],
      "metadata": {
        "colab": {
          "base_uri": "https://localhost:8080/"
        },
        "id": "Sf54ME5TNJY6",
        "outputId": "e32469ef-59ef-465c-d7c9-9abbb4afe81c"
      },
      "execution_count": null,
      "outputs": [
        {
          "output_type": "execute_result",
          "data": {
            "text/plain": [
              "count    49920.000000\n",
              "mean         0.109696\n",
              "std          0.265768\n",
              "min         -0.937100\n",
              "25%          0.000000\n",
              "50%          0.000000\n",
              "75%          0.381800\n",
              "max          0.969800\n",
              "Name: nltk_cmp_score, dtype: float64"
            ]
          },
          "metadata": {},
          "execution_count": 24
        }
      ]
    },
    {
      "cell_type": "code",
      "source": [
        "nltk_sentiment_df = get_value_counts('nltk_sentiment','NLTK Vader')\n",
        "nltk_sentiment_df"
      ],
      "metadata": {
        "colab": {
          "base_uri": "https://localhost:8080/",
          "height": 143
        },
        "id": "NKe6dKe1NMUr",
        "outputId": "af9f13e4-39b7-4a90-9997-c473347f140a"
      },
      "execution_count": null,
      "outputs": [
        {
          "output_type": "execute_result",
          "data": {
            "text/plain": [
              "  sentiment  counts  percentage    analyzer\n",
              "0  Negative    3956        7.92  NLTK Vader\n",
              "1   Neutral   30605       61.31  NLTK Vader\n",
              "2  Positive   15359       30.77  NLTK Vader"
            ],
            "text/html": [
              "\n",
              "  <div id=\"df-3b6d6d23-a274-4482-9fb2-d083367c9902\">\n",
              "    <div class=\"colab-df-container\">\n",
              "      <div>\n",
              "<style scoped>\n",
              "    .dataframe tbody tr th:only-of-type {\n",
              "        vertical-align: middle;\n",
              "    }\n",
              "\n",
              "    .dataframe tbody tr th {\n",
              "        vertical-align: top;\n",
              "    }\n",
              "\n",
              "    .dataframe thead th {\n",
              "        text-align: right;\n",
              "    }\n",
              "</style>\n",
              "<table border=\"1\" class=\"dataframe\">\n",
              "  <thead>\n",
              "    <tr style=\"text-align: right;\">\n",
              "      <th></th>\n",
              "      <th>sentiment</th>\n",
              "      <th>counts</th>\n",
              "      <th>percentage</th>\n",
              "      <th>analyzer</th>\n",
              "    </tr>\n",
              "  </thead>\n",
              "  <tbody>\n",
              "    <tr>\n",
              "      <th>0</th>\n",
              "      <td>Negative</td>\n",
              "      <td>3956</td>\n",
              "      <td>7.92</td>\n",
              "      <td>NLTK Vader</td>\n",
              "    </tr>\n",
              "    <tr>\n",
              "      <th>1</th>\n",
              "      <td>Neutral</td>\n",
              "      <td>30605</td>\n",
              "      <td>61.31</td>\n",
              "      <td>NLTK Vader</td>\n",
              "    </tr>\n",
              "    <tr>\n",
              "      <th>2</th>\n",
              "      <td>Positive</td>\n",
              "      <td>15359</td>\n",
              "      <td>30.77</td>\n",
              "      <td>NLTK Vader</td>\n",
              "    </tr>\n",
              "  </tbody>\n",
              "</table>\n",
              "</div>\n",
              "      <button class=\"colab-df-convert\" onclick=\"convertToInteractive('df-3b6d6d23-a274-4482-9fb2-d083367c9902')\"\n",
              "              title=\"Convert this dataframe to an interactive table.\"\n",
              "              style=\"display:none;\">\n",
              "        \n",
              "  <svg xmlns=\"http://www.w3.org/2000/svg\" height=\"24px\"viewBox=\"0 0 24 24\"\n",
              "       width=\"24px\">\n",
              "    <path d=\"M0 0h24v24H0V0z\" fill=\"none\"/>\n",
              "    <path d=\"M18.56 5.44l.94 2.06.94-2.06 2.06-.94-2.06-.94-.94-2.06-.94 2.06-2.06.94zm-11 1L8.5 8.5l.94-2.06 2.06-.94-2.06-.94L8.5 2.5l-.94 2.06-2.06.94zm10 10l.94 2.06.94-2.06 2.06-.94-2.06-.94-.94-2.06-.94 2.06-2.06.94z\"/><path d=\"M17.41 7.96l-1.37-1.37c-.4-.4-.92-.59-1.43-.59-.52 0-1.04.2-1.43.59L10.3 9.45l-7.72 7.72c-.78.78-.78 2.05 0 2.83L4 21.41c.39.39.9.59 1.41.59.51 0 1.02-.2 1.41-.59l7.78-7.78 2.81-2.81c.8-.78.8-2.07 0-2.86zM5.41 20L4 18.59l7.72-7.72 1.47 1.35L5.41 20z\"/>\n",
              "  </svg>\n",
              "      </button>\n",
              "      \n",
              "  <style>\n",
              "    .colab-df-container {\n",
              "      display:flex;\n",
              "      flex-wrap:wrap;\n",
              "      gap: 12px;\n",
              "    }\n",
              "\n",
              "    .colab-df-convert {\n",
              "      background-color: #E8F0FE;\n",
              "      border: none;\n",
              "      border-radius: 50%;\n",
              "      cursor: pointer;\n",
              "      display: none;\n",
              "      fill: #1967D2;\n",
              "      height: 32px;\n",
              "      padding: 0 0 0 0;\n",
              "      width: 32px;\n",
              "    }\n",
              "\n",
              "    .colab-df-convert:hover {\n",
              "      background-color: #E2EBFA;\n",
              "      box-shadow: 0px 1px 2px rgba(60, 64, 67, 0.3), 0px 1px 3px 1px rgba(60, 64, 67, 0.15);\n",
              "      fill: #174EA6;\n",
              "    }\n",
              "\n",
              "    [theme=dark] .colab-df-convert {\n",
              "      background-color: #3B4455;\n",
              "      fill: #D2E3FC;\n",
              "    }\n",
              "\n",
              "    [theme=dark] .colab-df-convert:hover {\n",
              "      background-color: #434B5C;\n",
              "      box-shadow: 0px 1px 3px 1px rgba(0, 0, 0, 0.15);\n",
              "      filter: drop-shadow(0px 1px 2px rgba(0, 0, 0, 0.3));\n",
              "      fill: #FFFFFF;\n",
              "    }\n",
              "  </style>\n",
              "\n",
              "      <script>\n",
              "        const buttonEl =\n",
              "          document.querySelector('#df-3b6d6d23-a274-4482-9fb2-d083367c9902 button.colab-df-convert');\n",
              "        buttonEl.style.display =\n",
              "          google.colab.kernel.accessAllowed ? 'block' : 'none';\n",
              "\n",
              "        async function convertToInteractive(key) {\n",
              "          const element = document.querySelector('#df-3b6d6d23-a274-4482-9fb2-d083367c9902');\n",
              "          const dataTable =\n",
              "            await google.colab.kernel.invokeFunction('convertToInteractive',\n",
              "                                                     [key], {});\n",
              "          if (!dataTable) return;\n",
              "\n",
              "          const docLinkHtml = 'Like what you see? Visit the ' +\n",
              "            '<a target=\"_blank\" href=https://colab.research.google.com/notebooks/data_table.ipynb>data table notebook</a>'\n",
              "            + ' to learn more about interactive tables.';\n",
              "          element.innerHTML = '';\n",
              "          dataTable['output_type'] = 'display_data';\n",
              "          await google.colab.output.renderOutput(dataTable, element);\n",
              "          const docLink = document.createElement('div');\n",
              "          docLink.innerHTML = docLinkHtml;\n",
              "          element.appendChild(docLink);\n",
              "        }\n",
              "      </script>\n",
              "    </div>\n",
              "  </div>\n",
              "  "
            ]
          },
          "metadata": {},
          "execution_count": 25
        }
      ]
    },
    {
      "cell_type": "code",
      "source": [
        "sns.set_theme(style=\"white\")\n",
        "ax = plt.pie(nltk_sentiment_df['percentage'], labels=nltk_sentiment_df['sentiment'], autopct='%1.1f%%')\n",
        "plt.title('NLTK Vader')\n",
        "plt.show()"
      ],
      "metadata": {
        "colab": {
          "base_uri": "https://localhost:8080/",
          "height": 264
        },
        "id": "br8HQ8koNpYi",
        "outputId": "9ceb7b4c-b171-4de6-e7ba-6801a66fb7af"
      },
      "execution_count": null,
      "outputs": [
        {
          "output_type": "display_data",
          "data": {
            "text/plain": [
              "<Figure size 432x288 with 1 Axes>"
            ],
            "image/png": "[encoded data removed]"
          },
          "metadata": {}
        }
      ]
    },
    {
      "cell_type": "markdown",
      "source": [
        "**TextBlob**"
      ],
      "metadata": {
        "id": "9d3PG8nlOG1c"
      }
    },
    {
      "cell_type": "code",
      "source": [
        "# Obtain polarity scores generated by TextBlob\n",
        "tweets_df['textblob_score'] = tweets_df['text_cleaned'].apply(lambda x: TextBlob(x).sentiment.polarity)"
      ],
      "metadata": {
        "colab": {
          "base_uri": "https://localhost:8080/"
        },
        "id": "HRwjI5KxOIhh",
        "outputId": "432e40c3-54cd-461a-934f-5b83bc4a8e33"
      },
      "execution_count": null,
      "outputs": [
        {
          "output_type": "stream",
          "name": "stderr",
          "text": [
            "<ipython-input-29-b22fc0c26e1c>:2: SettingWithCopyWarning: \n",
            "A value is trying to be set on a copy of a slice from a DataFrame.\n",
            "Try using .loc[row_indexer,col_indexer] = value instead\n",
            "\n",
            "See the caveats in the documentation: https://pandas.pydata.org/pandas-docs/stable/user_guide/indexing.html#returning-a-view-versus-a-copy\n",
            "  tweets_df['textblob_score'] = tweets_df['text_cleaned'].apply(lambda x: TextBlob(x).sentiment.polarity)\n"
          ]
        }
      ]
    },
    {
      "cell_type": "code",
      "source": [
        "neutral_thresh = 0.05"
      ],
      "metadata": {
        "id": "IEBRJRE-OO8b"
      },
      "execution_count": null,
      "outputs": []
    },
    {
      "cell_type": "code",
      "source": [
        "# Convert polarity score into sentiment categories\n",
        "tweets_df['textblob_sentiment'] = tweets_df['textblob_score'].apply(lambda c: 'Positive' if c >= neutral_thresh else ('Negative' if c <= -(neutral_thresh) else 'Neutral'))\n"
      ],
      "metadata": {
        "id": "CPkAKULOOUsz"
      },
      "execution_count": null,
      "outputs": []
    },
    {
      "cell_type": "code",
      "source": [
        "tweets_df['textblob_score'].describe()\n"
      ],
      "metadata": {
        "colab": {
          "base_uri": "https://localhost:8080/"
        },
        "id": "mEZ0AlKWOgeA",
        "outputId": "51f7d49c-878e-46f0-8fe2-7bd41355016d"
      },
      "execution_count": null,
      "outputs": [
        {
          "output_type": "execute_result",
          "data": {
            "text/plain": [
              "count    49920.000000\n",
              "mean         0.089173\n",
              "std          0.203127\n",
              "min         -1.000000\n",
              "25%          0.000000\n",
              "50%          0.000000\n",
              "75%          0.100000\n",
              "max          1.000000\n",
              "Name: textblob_score, dtype: float64"
            ]
          },
          "metadata": {},
          "execution_count": 33
        }
      ]
    },
    {
      "cell_type": "code",
      "source": [
        "textblob_sentiment_df = get_value_counts('textblob_sentiment','TextBlob')\n",
        "textblob_sentiment_df"
      ],
      "metadata": {
        "colab": {
          "base_uri": "https://localhost:8080/",
          "height": 143
        },
        "id": "Rq-L-gnZOiyl",
        "outputId": "be22c049-e981-4daf-f2d1-78852d675d81"
      },
      "execution_count": null,
      "outputs": [
        {
          "output_type": "execute_result",
          "data": {
            "text/plain": [
              "  sentiment  counts  percentage  analyzer\n",
              "0  Negative    1915        3.84  TextBlob\n",
              "1   Neutral   34832       69.78  TextBlob\n",
              "2  Positive   13173       26.39  TextBlob"
            ],
            "text/html": [
              "\n",
              "  <div id=\"df-0b1500e0-8412-48a5-8c5b-87e720b500b1\">\n",
              "    <div class=\"colab-df-container\">\n",
              "      <div>\n",
              "<style scoped>\n",
              "    .dataframe tbody tr th:only-of-type {\n",
              "        vertical-align: middle;\n",
              "    }\n",
              "\n",
              "    .dataframe tbody tr th {\n",
              "        vertical-align: top;\n",
              "    }\n",
              "\n",
              "    .dataframe thead th {\n",
              "        text-align: right;\n",
              "    }\n",
              "</style>\n",
              "<table border=\"1\" class=\"dataframe\">\n",
              "  <thead>\n",
              "    <tr style=\"text-align: right;\">\n",
              "      <th></th>\n",
              "      <th>sentiment</th>\n",
              "      <th>counts</th>\n",
              "      <th>percentage</th>\n",
              "      <th>analyzer</th>\n",
              "    </tr>\n",
              "  </thead>\n",
              "  <tbody>\n",
              "    <tr>\n",
              "      <th>0</th>\n",
              "      <td>Negative</td>\n",
              "      <td>1915</td>\n",
              "      <td>3.84</td>\n",
              "      <td>TextBlob</td>\n",
              "    </tr>\n",
              "    <tr>\n",
              "      <th>1</th>\n",
              "      <td>Neutral</td>\n",
              "      <td>34832</td>\n",
              "      <td>69.78</td>\n",
              "      <td>TextBlob</td>\n",
              "    </tr>\n",
              "    <tr>\n",
              "      <th>2</th>\n",
              "      <td>Positive</td>\n",
              "      <td>13173</td>\n",
              "      <td>26.39</td>\n",
              "      <td>TextBlob</td>\n",
              "    </tr>\n",
              "  </tbody>\n",
              "</table>\n",
              "</div>\n",
              "      <button class=\"colab-df-convert\" onclick=\"convertToInteractive('df-0b1500e0-8412-48a5-8c5b-87e720b500b1')\"\n",
              "              title=\"Convert this dataframe to an interactive table.\"\n",
              "              style=\"display:none;\">\n",
              "        \n",
              "  <svg xmlns=\"http://www.w3.org/2000/svg\" height=\"24px\"viewBox=\"0 0 24 24\"\n",
              "       width=\"24px\">\n",
              "    <path d=\"M0 0h24v24H0V0z\" fill=\"none\"/>\n",
              "    <path d=\"M18.56 5.44l.94 2.06.94-2.06 2.06-.94-2.06-.94-.94-2.06-.94 2.06-2.06.94zm-11 1L8.5 8.5l.94-2.06 2.06-.94-2.06-.94L8.5 2.5l-.94 2.06-2.06.94zm10 10l.94 2.06.94-2.06 2.06-.94-2.06-.94-.94-2.06-.94 2.06-2.06.94z\"/><path d=\"M17.41 7.96l-1.37-1.37c-.4-.4-.92-.59-1.43-.59-.52 0-1.04.2-1.43.59L10.3 9.45l-7.72 7.72c-.78.78-.78 2.05 0 2.83L4 21.41c.39.39.9.59 1.41.59.51 0 1.02-.2 1.41-.59l7.78-7.78 2.81-2.81c.8-.78.8-2.07 0-2.86zM5.41 20L4 18.59l7.72-7.72 1.47 1.35L5.41 20z\"/>\n",
              "  </svg>\n",
              "      </button>\n",
              "      \n",
              "  <style>\n",
              "    .colab-df-container {\n",
              "      display:flex;\n",
              "      flex-wrap:wrap;\n",
              "      gap: 12px;\n",
              "    }\n",
              "\n",
              "    .colab-df-convert {\n",
              "      background-color: #E8F0FE;\n",
              "      border: none;\n",
              "      border-radius: 50%;\n",
              "      cursor: pointer;\n",
              "      display: none;\n",
              "      fill: #1967D2;\n",
              "      height: 32px;\n",
              "      padding: 0 0 0 0;\n",
              "      width: 32px;\n",
              "    }\n",
              "\n",
              "    .colab-df-convert:hover {\n",
              "      background-color: #E2EBFA;\n",
              "      box-shadow: 0px 1px 2px rgba(60, 64, 67, 0.3), 0px 1px 3px 1px rgba(60, 64, 67, 0.15);\n",
              "      fill: #174EA6;\n",
              "    }\n",
              "\n",
              "    [theme=dark] .colab-df-convert {\n",
              "      background-color: #3B4455;\n",
              "      fill: #D2E3FC;\n",
              "    }\n",
              "\n",
              "    [theme=dark] .colab-df-convert:hover {\n",
              "      background-color: #434B5C;\n",
              "      box-shadow: 0px 1px 3px 1px rgba(0, 0, 0, 0.15);\n",
              "      filter: drop-shadow(0px 1px 2px rgba(0, 0, 0, 0.3));\n",
              "      fill: #FFFFFF;\n",
              "    }\n",
              "  </style>\n",
              "\n",
              "      <script>\n",
              "        const buttonEl =\n",
              "          document.querySelector('#df-0b1500e0-8412-48a5-8c5b-87e720b500b1 button.colab-df-convert');\n",
              "        buttonEl.style.display =\n",
              "          google.colab.kernel.accessAllowed ? 'block' : 'none';\n",
              "\n",
              "        async function convertToInteractive(key) {\n",
              "          const element = document.querySelector('#df-0b1500e0-8412-48a5-8c5b-87e720b500b1');\n",
              "          const dataTable =\n",
              "            await google.colab.kernel.invokeFunction('convertToInteractive',\n",
              "                                                     [key], {});\n",
              "          if (!dataTable) return;\n",
              "\n",
              "          const docLinkHtml = 'Like what you see? Visit the ' +\n",
              "            '<a target=\"_blank\" href=https://colab.research.google.com/notebooks/data_table.ipynb>data table notebook</a>'\n",
              "            + ' to learn more about interactive tables.';\n",
              "          element.innerHTML = '';\n",
              "          dataTable['output_type'] = 'display_data';\n",
              "          await google.colab.output.renderOutput(dataTable, element);\n",
              "          const docLink = document.createElement('div');\n",
              "          docLink.innerHTML = docLinkHtml;\n",
              "          element.appendChild(docLink);\n",
              "        }\n",
              "      </script>\n",
              "    </div>\n",
              "  </div>\n",
              "  "
            ]
          },
          "metadata": {},
          "execution_count": 34
        }
      ]
    },
    {
      "cell_type": "code",
      "source": [
        "sns.set_theme(style=\"dark\")\n",
        "ax = sns.barplot(x=\"sentiment\", y=\"percentage\", data=textblob_sentiment_df)\n",
        "ax.set_title('TextBlob')\n",
        "\n",
        "for index, row in textblob_sentiment_df.iterrows():\n",
        "    ax.text(row.name,row.percentage, round(row.percentage,1), color='black', ha=\"center\")"
      ],
      "metadata": {
        "colab": {
          "base_uri": "https://localhost:8080/",
          "height": 301
        },
        "id": "LpF-uobUO5bl",
        "outputId": "58b8e091-7720-494f-85b8-17550675dcdd"
      },
      "execution_count": null,
      "outputs": [
        {
          "output_type": "display_data",
          "data": {
            "text/plain": [
              "<Figure size 432x288 with 1 Axes>"
            ],
            "image/png": "[encoded data removed]"
          },
          "metadata": {}
        }
      ]
    },
    {
      "cell_type": "code",
      "source": [
        "sns.set_theme(style=\"dark\")\n",
        "ax = plt.pie(textblob_sentiment_df['percentage'], labels=textblob_sentiment_df['sentiment'], autopct='%1.1f%%')\n",
        "plt.title('TextBlob')\n",
        "plt.show()"
      ],
      "metadata": {
        "colab": {
          "base_uri": "https://localhost:8080/",
          "height": 264
        },
        "id": "GrxuIDyuPHKf",
        "outputId": "e6a26fa6-005e-4cd9-9514-24bcb959ef1c"
      },
      "execution_count": null,
      "outputs": [
        {
          "output_type": "display_data",
          "data": {
            "text/plain": [
              "<Figure size 432x288 with 1 Axes>"
            ],
            "image/png": "[encoded data removed]"
          },
          "metadata": {}
        }
      ]
    },
    {
      "cell_type": "code",
      "source": [
        " "
      ],
      "metadata": {
        "id": "4BlhHSogPejX"
      },
      "execution_count": null,
      "outputs": []
    },
    {
      "cell_type": "markdown",
      "source": [
        "Insights from Sentiment Analyses"
      ],
      "metadata": {
        "id": "7KiALWTx7J_i"
      }
    },
    {
      "cell_type": "code",
      "source": [
        "df_sentiments = pd.concat([nltk_sentiment_df, \n",
        "                           textblob_sentiment_df, \n",
        "                           #stanza_sentiment_df,\n",
        "                           #flair_sentiment_df,\n",
        "                           #corenlp_sentiment_df,\n",
        "                          ]).reset_index(drop=True)\n",
        "df_sentiments"
      ],
      "metadata": {
        "colab": {
          "base_uri": "https://localhost:8080/",
          "height": 237
        },
        "id": "nACv0kSsPfhF",
        "outputId": "73049508-6b53-4139-97fe-e10ef5e15c47"
      },
      "execution_count": null,
      "outputs": [
        {
          "output_type": "execute_result",
          "data": {
            "text/plain": [
              "  sentiment  counts  percentage    analyzer\n",
              "0  Negative    3956        7.92  NLTK Vader\n",
              "1   Neutral   30605       61.31  NLTK Vader\n",
              "2  Positive   15359       30.77  NLTK Vader\n",
              "3  Negative    1915        3.84    TextBlob\n",
              "4   Neutral   34832       69.78    TextBlob\n",
              "5  Positive   13173       26.39    TextBlob"
            ],
            "text/html": [
              "\n",
              "  <div id=\"df-293e5c66-6bc4-47c8-83d6-8e59b7e2b59a\">\n",
              "    <div class=\"colab-df-container\">\n",
              "      <div>\n",
              "<style scoped>\n",
              "    .dataframe tbody tr th:only-of-type {\n",
              "        vertical-align: middle;\n",
              "    }\n",
              "\n",
              "    .dataframe tbody tr th {\n",
              "        vertical-align: top;\n",
              "    }\n",
              "\n",
              "    .dataframe thead th {\n",
              "        text-align: right;\n",
              "    }\n",
              "</style>\n",
              "<table border=\"1\" class=\"dataframe\">\n",
              "  <thead>\n",
              "    <tr style=\"text-align: right;\">\n",
              "      <th></th>\n",
              "      <th>sentiment</th>\n",
              "      <th>counts</th>\n",
              "      <th>percentage</th>\n",
              "      <th>analyzer</th>\n",
              "    </tr>\n",
              "  </thead>\n",
              "  <tbody>\n",
              "    <tr>\n",
              "      <th>0</th>\n",
              "      <td>Negative</td>\n",
              "      <td>3956</td>\n",
              "      <td>7.92</td>\n",
              "      <td>NLTK Vader</td>\n",
              "    </tr>\n",
              "    <tr>\n",
              "      <th>1</th>\n",
              "      <td>Neutral</td>\n",
              "      <td>30605</td>\n",
              "      <td>61.31</td>\n",
              "      <td>NLTK Vader</td>\n",
              "    </tr>\n",
              "    <tr>\n",
              "      <th>2</th>\n",
              "      <td>Positive</td>\n",
              "      <td>15359</td>\n",
              "      <td>30.77</td>\n",
              "      <td>NLTK Vader</td>\n",
              "    </tr>\n",
              "    <tr>\n",
              "      <th>3</th>\n",
              "      <td>Negative</td>\n",
              "      <td>1915</td>\n",
              "      <td>3.84</td>\n",
              "      <td>TextBlob</td>\n",
              "    </tr>\n",
              "    <tr>\n",
              "      <th>4</th>\n",
              "      <td>Neutral</td>\n",
              "      <td>34832</td>\n",
              "      <td>69.78</td>\n",
              "      <td>TextBlob</td>\n",
              "    </tr>\n",
              "    <tr>\n",
              "      <th>5</th>\n",
              "      <td>Positive</td>\n",
              "      <td>13173</td>\n",
              "      <td>26.39</td>\n",
              "      <td>TextBlob</td>\n",
              "    </tr>\n",
              "  </tbody>\n",
              "</table>\n",
              "</div>\n",
              "      <button class=\"colab-df-convert\" onclick=\"convertToInteractive('df-293e5c66-6bc4-47c8-83d6-8e59b7e2b59a')\"\n",
              "              title=\"Convert this dataframe to an interactive table.\"\n",
              "              style=\"display:none;\">\n",
              "        \n",
              "  <svg xmlns=\"http://www.w3.org/2000/svg\" height=\"24px\"viewBox=\"0 0 24 24\"\n",
              "       width=\"24px\">\n",
              "    <path d=\"M0 0h24v24H0V0z\" fill=\"none\"/>\n",
              "    <path d=\"M18.56 5.44l.94 2.06.94-2.06 2.06-.94-2.06-.94-.94-2.06-.94 2.06-2.06.94zm-11 1L8.5 8.5l.94-2.06 2.06-.94-2.06-.94L8.5 2.5l-.94 2.06-2.06.94zm10 10l.94 2.06.94-2.06 2.06-.94-2.06-.94-.94-2.06-.94 2.06-2.06.94z\"/><path d=\"M17.41 7.96l-1.37-1.37c-.4-.4-.92-.59-1.43-.59-.52 0-1.04.2-1.43.59L10.3 9.45l-7.72 7.72c-.78.78-.78 2.05 0 2.83L4 21.41c.39.39.9.59 1.41.59.51 0 1.02-.2 1.41-.59l7.78-7.78 2.81-2.81c.8-.78.8-2.07 0-2.86zM5.41 20L4 18.59l7.72-7.72 1.47 1.35L5.41 20z\"/>\n",
              "  </svg>\n",
              "      </button>\n",
              "      \n",
              "  <style>\n",
              "    .colab-df-container {\n",
              "      display:flex;\n",
              "      flex-wrap:wrap;\n",
              "      gap: 12px;\n",
              "    }\n",
              "\n",
              "    .colab-df-convert {\n",
              "      background-color: #E8F0FE;\n",
              "      border: none;\n",
              "      border-radius: 50%;\n",
              "      cursor: pointer;\n",
              "      display: none;\n",
              "      fill: #1967D2;\n",
              "      height: 32px;\n",
              "      padding: 0 0 0 0;\n",
              "      width: 32px;\n",
              "    }\n",
              "\n",
              "    .colab-df-convert:hover {\n",
              "      background-color: #E2EBFA;\n",
              "      box-shadow: 0px 1px 2px rgba(60, 64, 67, 0.3), 0px 1px 3px 1px rgba(60, 64, 67, 0.15);\n",
              "      fill: #174EA6;\n",
              "    }\n",
              "\n",
              "    [theme=dark] .colab-df-convert {\n",
              "      background-color: #3B4455;\n",
              "      fill: #D2E3FC;\n",
              "    }\n",
              "\n",
              "    [theme=dark] .colab-df-convert:hover {\n",
              "      background-color: #434B5C;\n",
              "      box-shadow: 0px 1px 3px 1px rgba(0, 0, 0, 0.15);\n",
              "      filter: drop-shadow(0px 1px 2px rgba(0, 0, 0, 0.3));\n",
              "      fill: #FFFFFF;\n",
              "    }\n",
              "  </style>\n",
              "\n",
              "      <script>\n",
              "        const buttonEl =\n",
              "          document.querySelector('#df-293e5c66-6bc4-47c8-83d6-8e59b7e2b59a button.colab-df-convert');\n",
              "        buttonEl.style.display =\n",
              "          google.colab.kernel.accessAllowed ? 'block' : 'none';\n",
              "\n",
              "        async function convertToInteractive(key) {\n",
              "          const element = document.querySelector('#df-293e5c66-6bc4-47c8-83d6-8e59b7e2b59a');\n",
              "          const dataTable =\n",
              "            await google.colab.kernel.invokeFunction('convertToInteractive',\n",
              "                                                     [key], {});\n",
              "          if (!dataTable) return;\n",
              "\n",
              "          const docLinkHtml = 'Like what you see? Visit the ' +\n",
              "            '<a target=\"_blank\" href=https://colab.research.google.com/notebooks/data_table.ipynb>data table notebook</a>'\n",
              "            + ' to learn more about interactive tables.';\n",
              "          element.innerHTML = '';\n",
              "          dataTable['output_type'] = 'display_data';\n",
              "          await google.colab.output.renderOutput(dataTable, element);\n",
              "          const docLink = document.createElement('div');\n",
              "          docLink.innerHTML = docLinkHtml;\n",
              "          element.appendChild(docLink);\n",
              "        }\n",
              "      </script>\n",
              "    </div>\n",
              "  </div>\n",
              "  "
            ]
          },
          "metadata": {},
          "execution_count": 37
        }
      ]
    },
    {
      "cell_type": "code",
      "source": [
        "df_sentiments_pivot = df_sentiments.pivot(index='sentiment', columns='analyzer', values='percentage')\n",
        "df_sentiments_pivot"
      ],
      "metadata": {
        "colab": {
          "base_uri": "https://localhost:8080/",
          "height": 175
        },
        "id": "-K7Z5Aq3Pn8-",
        "outputId": "c17ddb68-e97c-4b9a-d2b0-8a74ed7eaf0c"
      },
      "execution_count": null,
      "outputs": [
        {
          "output_type": "execute_result",
          "data": {
            "text/plain": [
              "analyzer   NLTK Vader  TextBlob\n",
              "sentiment                      \n",
              "Negative         7.92      3.84\n",
              "Neutral         61.31     69.78\n",
              "Positive        30.77     26.39"
            ],
            "text/html": [
              "\n",
              "  <div id=\"df-dbea3ded-5396-4923-a36b-00055348d5ae\">\n",
              "    <div class=\"colab-df-container\">\n",
              "      <div>\n",
              "<style scoped>\n",
              "    .dataframe tbody tr th:only-of-type {\n",
              "        vertical-align: middle;\n",
              "    }\n",
              "\n",
              "    .dataframe tbody tr th {\n",
              "        vertical-align: top;\n",
              "    }\n",
              "\n",
              "    .dataframe thead th {\n",
              "        text-align: right;\n",
              "    }\n",
              "</style>\n",
              "<table border=\"1\" class=\"dataframe\">\n",
              "  <thead>\n",
              "    <tr style=\"text-align: right;\">\n",
              "      <th>analyzer</th>\n",
              "      <th>NLTK Vader</th>\n",
              "      <th>TextBlob</th>\n",
              "    </tr>\n",
              "    <tr>\n",
              "      <th>sentiment</th>\n",
              "      <th></th>\n",
              "      <th></th>\n",
              "    </tr>\n",
              "  </thead>\n",
              "  <tbody>\n",
              "    <tr>\n",
              "      <th>Negative</th>\n",
              "      <td>7.92</td>\n",
              "      <td>3.84</td>\n",
              "    </tr>\n",
              "    <tr>\n",
              "      <th>Neutral</th>\n",
              "      <td>61.31</td>\n",
              "      <td>69.78</td>\n",
              "    </tr>\n",
              "    <tr>\n",
              "      <th>Positive</th>\n",
              "      <td>30.77</td>\n",
              "      <td>26.39</td>\n",
              "    </tr>\n",
              "  </tbody>\n",
              "</table>\n",
              "</div>\n",
              "      <button class=\"colab-df-convert\" onclick=\"convertToInteractive('df-dbea3ded-5396-4923-a36b-00055348d5ae')\"\n",
              "              title=\"Convert this dataframe to an interactive table.\"\n",
              "              style=\"display:none;\">\n",
              "        \n",
              "  <svg xmlns=\"http://www.w3.org/2000/svg\" height=\"24px\"viewBox=\"0 0 24 24\"\n",
              "       width=\"24px\">\n",
              "    <path d=\"M0 0h24v24H0V0z\" fill=\"none\"/>\n",
              "    <path d=\"M18.56 5.44l.94 2.06.94-2.06 2.06-.94-2.06-.94-.94-2.06-.94 2.06-2.06.94zm-11 1L8.5 8.5l.94-2.06 2.06-.94-2.06-.94L8.5 2.5l-.94 2.06-2.06.94zm10 10l.94 2.06.94-2.06 2.06-.94-2.06-.94-.94-2.06-.94 2.06-2.06.94z\"/><path d=\"M17.41 7.96l-1.37-1.37c-.4-.4-.92-.59-1.43-.59-.52 0-1.04.2-1.43.59L10.3 9.45l-7.72 7.72c-.78.78-.78 2.05 0 2.83L4 21.41c.39.39.9.59 1.41.59.51 0 1.02-.2 1.41-.59l7.78-7.78 2.81-2.81c.8-.78.8-2.07 0-2.86zM5.41 20L4 18.59l7.72-7.72 1.47 1.35L5.41 20z\"/>\n",
              "  </svg>\n",
              "      </button>\n",
              "      \n",
              "  <style>\n",
              "    .colab-df-container {\n",
              "      display:flex;\n",
              "      flex-wrap:wrap;\n",
              "      gap: 12px;\n",
              "    }\n",
              "\n",
              "    .colab-df-convert {\n",
              "      background-color: #E8F0FE;\n",
              "      border: none;\n",
              "      border-radius: 50%;\n",
              "      cursor: pointer;\n",
              "      display: none;\n",
              "      fill: #1967D2;\n",
              "      height: 32px;\n",
              "      padding: 0 0 0 0;\n",
              "      width: 32px;\n",
              "    }\n",
              "\n",
              "    .colab-df-convert:hover {\n",
              "      background-color: #E2EBFA;\n",
              "      box-shadow: 0px 1px 2px rgba(60, 64, 67, 0.3), 0px 1px 3px 1px rgba(60, 64, 67, 0.15);\n",
              "      fill: #174EA6;\n",
              "    }\n",
              "\n",
              "    [theme=dark] .colab-df-convert {\n",
              "      background-color: #3B4455;\n",
              "      fill: #D2E3FC;\n",
              "    }\n",
              "\n",
              "    [theme=dark] .colab-df-convert:hover {\n",
              "      background-color: #434B5C;\n",
              "      box-shadow: 0px 1px 3px 1px rgba(0, 0, 0, 0.15);\n",
              "      filter: drop-shadow(0px 1px 2px rgba(0, 0, 0, 0.3));\n",
              "      fill: #FFFFFF;\n",
              "    }\n",
              "  </style>\n",
              "\n",
              "      <script>\n",
              "        const buttonEl =\n",
              "          document.querySelector('#df-dbea3ded-5396-4923-a36b-00055348d5ae button.colab-df-convert');\n",
              "        buttonEl.style.display =\n",
              "          google.colab.kernel.accessAllowed ? 'block' : 'none';\n",
              "\n",
              "        async function convertToInteractive(key) {\n",
              "          const element = document.querySelector('#df-dbea3ded-5396-4923-a36b-00055348d5ae');\n",
              "          const dataTable =\n",
              "            await google.colab.kernel.invokeFunction('convertToInteractive',\n",
              "                                                     [key], {});\n",
              "          if (!dataTable) return;\n",
              "\n",
              "          const docLinkHtml = 'Like what you see? Visit the ' +\n",
              "            '<a target=\"_blank\" href=https://colab.research.google.com/notebooks/data_table.ipynb>data table notebook</a>'\n",
              "            + ' to learn more about interactive tables.';\n",
              "          element.innerHTML = '';\n",
              "          dataTable['output_type'] = 'display_data';\n",
              "          await google.colab.output.renderOutput(dataTable, element);\n",
              "          const docLink = document.createElement('div');\n",
              "          docLink.innerHTML = docLinkHtml;\n",
              "          element.appendChild(docLink);\n",
              "        }\n",
              "      </script>\n",
              "    </div>\n",
              "  </div>\n",
              "  "
            ]
          },
          "metadata": {},
          "execution_count": 38
        }
      ]
    },
    {
      "cell_type": "code",
      "source": [
        "plt.figure(figsize=(10,6))\n",
        "ax = sns.barplot(x=\"analyzer\", y=\"percentage\",\n",
        "                 hue=\"sentiment\", data=df_sentiments)\n",
        "\n",
        "# Display annotations\n",
        "for p in ax.patches:\n",
        "    ax.annotate(f\"{round(p.get_height(),1)}%\", \n",
        "                   (p.get_x() + p.get_width() / 2., p.get_height()), \n",
        "                   ha = 'center', va = 'center', \n",
        "                   size=12,\n",
        "                   xytext = (0, -12), \n",
        "                   textcoords = 'offset points')"
      ],
      "metadata": {
        "colab": {
          "base_uri": "https://localhost:8080/",
          "height": 394
        },
        "id": "hK-AxI7VPqY9",
        "outputId": "e5e2038b-a97e-4f0e-bdfe-fed9ef5d2987"
      },
      "execution_count": null,
      "outputs": [
        {
          "output_type": "display_data",
          "data": {
            "text/plain": [
              "<Figure size 720x432 with 1 Axes>"
            ],
            "image/png": "[encoded data removed]"
          },
          "metadata": {}
        }
      ]
    },
    {
      "cell_type": "code",
      "source": [
        "df_sentiments"
      ],
      "metadata": {
        "colab": {
          "base_uri": "https://localhost:8080/",
          "height": 237
        },
        "id": "Wh11Hu5Bb5kB",
        "outputId": "41a5b9dc-fd43-44d1-aa88-9a1008063af8"
      },
      "execution_count": null,
      "outputs": [
        {
          "output_type": "execute_result",
          "data": {
            "text/plain": [
              "  sentiment  counts  percentage    analyzer\n",
              "0  Negative    3956        7.92  NLTK Vader\n",
              "1   Neutral   30605       61.31  NLTK Vader\n",
              "2  Positive   15359       30.77  NLTK Vader\n",
              "3  Negative    1915        3.84    TextBlob\n",
              "4   Neutral   34832       69.78    TextBlob\n",
              "5  Positive   13173       26.39    TextBlob"
            ],
            "text/html": [
              "\n",
              "  <div id=\"df-0228e028-83c3-4da6-b423-8b77c57f16e2\">\n",
              "    <div class=\"colab-df-container\">\n",
              "      <div>\n",
              "<style scoped>\n",
              "    .dataframe tbody tr th:only-of-type {\n",
              "        vertical-align: middle;\n",
              "    }\n",
              "\n",
              "    .dataframe tbody tr th {\n",
              "        vertical-align: top;\n",
              "    }\n",
              "\n",
              "    .dataframe thead th {\n",
              "        text-align: right;\n",
              "    }\n",
              "</style>\n",
              "<table border=\"1\" class=\"dataframe\">\n",
              "  <thead>\n",
              "    <tr style=\"text-align: right;\">\n",
              "      <th></th>\n",
              "      <th>sentiment</th>\n",
              "      <th>counts</th>\n",
              "      <th>percentage</th>\n",
              "      <th>analyzer</th>\n",
              "    </tr>\n",
              "  </thead>\n",
              "  <tbody>\n",
              "    <tr>\n",
              "      <th>0</th>\n",
              "      <td>Negative</td>\n",
              "      <td>3956</td>\n",
              "      <td>7.92</td>\n",
              "      <td>NLTK Vader</td>\n",
              "    </tr>\n",
              "    <tr>\n",
              "      <th>1</th>\n",
              "      <td>Neutral</td>\n",
              "      <td>30605</td>\n",
              "      <td>61.31</td>\n",
              "      <td>NLTK Vader</td>\n",
              "    </tr>\n",
              "    <tr>\n",
              "      <th>2</th>\n",
              "      <td>Positive</td>\n",
              "      <td>15359</td>\n",
              "      <td>30.77</td>\n",
              "      <td>NLTK Vader</td>\n",
              "    </tr>\n",
              "    <tr>\n",
              "      <th>3</th>\n",
              "      <td>Negative</td>\n",
              "      <td>1915</td>\n",
              "      <td>3.84</td>\n",
              "      <td>TextBlob</td>\n",
              "    </tr>\n",
              "    <tr>\n",
              "      <th>4</th>\n",
              "      <td>Neutral</td>\n",
              "      <td>34832</td>\n",
              "      <td>69.78</td>\n",
              "      <td>TextBlob</td>\n",
              "    </tr>\n",
              "    <tr>\n",
              "      <th>5</th>\n",
              "      <td>Positive</td>\n",
              "      <td>13173</td>\n",
              "      <td>26.39</td>\n",
              "      <td>TextBlob</td>\n",
              "    </tr>\n",
              "  </tbody>\n",
              "</table>\n",
              "</div>\n",
              "      <button class=\"colab-df-convert\" onclick=\"convertToInteractive('df-0228e028-83c3-4da6-b423-8b77c57f16e2')\"\n",
              "              title=\"Convert this dataframe to an interactive table.\"\n",
              "              style=\"display:none;\">\n",
              "        \n",
              "  <svg xmlns=\"http://www.w3.org/2000/svg\" height=\"24px\"viewBox=\"0 0 24 24\"\n",
              "       width=\"24px\">\n",
              "    <path d=\"M0 0h24v24H0V0z\" fill=\"none\"/>\n",
              "    <path d=\"M18.56 5.44l.94 2.06.94-2.06 2.06-.94-2.06-.94-.94-2.06-.94 2.06-2.06.94zm-11 1L8.5 8.5l.94-2.06 2.06-.94-2.06-.94L8.5 2.5l-.94 2.06-2.06.94zm10 10l.94 2.06.94-2.06 2.06-.94-2.06-.94-.94-2.06-.94 2.06-2.06.94z\"/><path d=\"M17.41 7.96l-1.37-1.37c-.4-.4-.92-.59-1.43-.59-.52 0-1.04.2-1.43.59L10.3 9.45l-7.72 7.72c-.78.78-.78 2.05 0 2.83L4 21.41c.39.39.9.59 1.41.59.51 0 1.02-.2 1.41-.59l7.78-7.78 2.81-2.81c.8-.78.8-2.07 0-2.86zM5.41 20L4 18.59l7.72-7.72 1.47 1.35L5.41 20z\"/>\n",
              "  </svg>\n",
              "      </button>\n",
              "      \n",
              "  <style>\n",
              "    .colab-df-container {\n",
              "      display:flex;\n",
              "      flex-wrap:wrap;\n",
              "      gap: 12px;\n",
              "    }\n",
              "\n",
              "    .colab-df-convert {\n",
              "      background-color: #E8F0FE;\n",
              "      border: none;\n",
              "      border-radius: 50%;\n",
              "      cursor: pointer;\n",
              "      display: none;\n",
              "      fill: #1967D2;\n",
              "      height: 32px;\n",
              "      padding: 0 0 0 0;\n",
              "      width: 32px;\n",
              "    }\n",
              "\n",
              "    .colab-df-convert:hover {\n",
              "      background-color: #E2EBFA;\n",
              "      box-shadow: 0px 1px 2px rgba(60, 64, 67, 0.3), 0px 1px 3px 1px rgba(60, 64, 67, 0.15);\n",
              "      fill: #174EA6;\n",
              "    }\n",
              "\n",
              "    [theme=dark] .colab-df-convert {\n",
              "      background-color: #3B4455;\n",
              "      fill: #D2E3FC;\n",
              "    }\n",
              "\n",
              "    [theme=dark] .colab-df-convert:hover {\n",
              "      background-color: #434B5C;\n",
              "      box-shadow: 0px 1px 3px 1px rgba(0, 0, 0, 0.15);\n",
              "      filter: drop-shadow(0px 1px 2px rgba(0, 0, 0, 0.3));\n",
              "      fill: #FFFFFF;\n",
              "    }\n",
              "  </style>\n",
              "\n",
              "      <script>\n",
              "        const buttonEl =\n",
              "          document.querySelector('#df-0228e028-83c3-4da6-b423-8b77c57f16e2 button.colab-df-convert');\n",
              "        buttonEl.style.display =\n",
              "          google.colab.kernel.accessAllowed ? 'block' : 'none';\n",
              "\n",
              "        async function convertToInteractive(key) {\n",
              "          const element = document.querySelector('#df-0228e028-83c3-4da6-b423-8b77c57f16e2');\n",
              "          const dataTable =\n",
              "            await google.colab.kernel.invokeFunction('convertToInteractive',\n",
              "                                                     [key], {});\n",
              "          if (!dataTable) return;\n",
              "\n",
              "          const docLinkHtml = 'Like what you see? Visit the ' +\n",
              "            '<a target=\"_blank\" href=https://colab.research.google.com/notebooks/data_table.ipynb>data table notebook</a>'\n",
              "            + ' to learn more about interactive tables.';\n",
              "          element.innerHTML = '';\n",
              "          dataTable['output_type'] = 'display_data';\n",
              "          await google.colab.output.renderOutput(dataTable, element);\n",
              "          const docLink = document.createElement('div');\n",
              "          docLink.innerHTML = docLinkHtml;\n",
              "          element.appendChild(docLink);\n",
              "        }\n",
              "      </script>\n",
              "    </div>\n",
              "  </div>\n",
              "  "
            ]
          },
          "metadata": {},
          "execution_count": 54
        }
      ]
    },
    {
      "cell_type": "code",
      "source": [
        "tweets_df"
      ],
      "metadata": {
        "colab": {
          "base_uri": "https://localhost:8080/",
          "height": 901
        },
        "id": "6PHKihPIb-qj",
        "outputId": "d197f5fe-e9cc-4246-9c57-c747004b7d34"
      },
      "execution_count": null,
      "outputs": [
        {
          "output_type": "execute_result",
          "data": {
            "text/plain": [
              "                                                    text              date  \\\n",
              "0      The agency also released new information for h...  12/12/2020 17:45   \n",
              "1      The US Food and Drug Administration (FDA) has ...  12/12/2020 14:58   \n",
              "2      I’ve never been so excited to get a vaccine 💉💉...  12/14/2020 23:48   \n",
              "3      #UgurSahin #ozlemtureci the #Muslim Scientists...  12/14/2020 20:00   \n",
              "4      Toronto to receive Ontario's 1st doses of Pfiz...  12/14/2020 18:27   \n",
              "...                                                  ...               ...   \n",
              "49858  45+ #URBAN #Bengaluru #CovidVaccine Availabili...   11/17/2021 6:00   \n",
              "49859  18-44 #BBMP #Bengaluru #CovidVaccine Availabil...   11/17/2021 5:30   \n",
              "49860  18-44 #URBAN #Bengaluru #CovidVaccine Availabi...   11/17/2021 5:30   \n",
              "49861  45+ #URBAN #Bengaluru #CovidVaccine Availabili...   11/17/2021 5:00   \n",
              "49862  18-44 #BBMP #Bengaluru #CovidVaccine Availabil...   11/17/2021 4:30   \n",
              "\n",
              "      user_country                                       text_cleaned  \\\n",
              "0            India  release new information health care provider p...   \n",
              "1            India                       emergency authorization mrna   \n",
              "2            India                                            excited   \n",
              "3            India                                         save world   \n",
              "4            India                                covid vaccine today   \n",
              "...            ...                                                ...   \n",
              "49858        India               availability free slot pay slot dose   \n",
              "49859        India                   availability free slot dose dose   \n",
              "49860        India               availability free slot pay slot dose   \n",
              "49861        India               availability free slot pay slot dose   \n",
              "49862        India                   availability free slot dose dose   \n",
              "\n",
              "      Dominant_Topic  Perc_Dominant_Topic  \\\n",
              "0            Topic 1                 0.80   \n",
              "1            Topic 4                 0.80   \n",
              "2            Topic 0                 0.60   \n",
              "3            Topic 0                 0.73   \n",
              "4            Topic 1                 0.51   \n",
              "...              ...                  ...   \n",
              "49858        Topic 3                 0.65   \n",
              "49859        Topic 3                 0.57   \n",
              "49860        Topic 3                 0.65   \n",
              "49861        Topic 3                 0.57   \n",
              "49862        Topic 3                 0.57   \n",
              "\n",
              "                                             nltk_scores  nltk_cmp_score  \\\n",
              "0      {'neg': 0.0, 'neu': 0.686, 'pos': 0.314, 'comp...          0.4939   \n",
              "1      {'neg': 0.565, 'neu': 0.435, 'pos': 0.0, 'comp...         -0.3818   \n",
              "2      {'neg': 0.0, 'neu': 0.0, 'pos': 1.0, 'compound...          0.3400   \n",
              "3      {'neg': 0.0, 'neu': 0.238, 'pos': 0.762, 'comp...          0.4939   \n",
              "4      {'neg': 0.0, 'neu': 1.0, 'pos': 0.0, 'compound...          0.0000   \n",
              "...                                                  ...             ...   \n",
              "49858  {'neg': 0.161, 'neu': 0.46, 'pos': 0.379, 'com...          0.4404   \n",
              "49859  {'neg': 0.0, 'neu': 0.548, 'pos': 0.452, 'comp...          0.5106   \n",
              "49860  {'neg': 0.161, 'neu': 0.46, 'pos': 0.379, 'com...          0.4404   \n",
              "49861  {'neg': 0.161, 'neu': 0.46, 'pos': 0.379, 'com...          0.4404   \n",
              "49862  {'neg': 0.0, 'neu': 0.548, 'pos': 0.452, 'comp...          0.5106   \n",
              "\n",
              "      nltk_sentiment  textblob_score textblob_sentiment  \\\n",
              "0           Positive        0.136364           Positive   \n",
              "1           Negative        0.000000            Neutral   \n",
              "2           Positive        0.375000           Positive   \n",
              "3           Positive        0.000000            Neutral   \n",
              "4            Neutral        0.000000            Neutral   \n",
              "...              ...             ...                ...   \n",
              "49858       Positive        0.400000           Positive   \n",
              "49859       Positive        0.400000           Positive   \n",
              "49860       Positive        0.400000           Positive   \n",
              "49861       Positive        0.400000           Positive   \n",
              "49862       Positive        0.400000           Positive   \n",
              "\n",
              "            Dominant_Topic_rev  \n",
              "0      Administration Coverage  \n",
              "1               Usage Approval  \n",
              "2              Clinical Trials  \n",
              "3              Clinical Trials  \n",
              "4      Administration Coverage  \n",
              "...                        ...  \n",
              "49858        Dose Availability  \n",
              "49859        Dose Availability  \n",
              "49860        Dose Availability  \n",
              "49861        Dose Availability  \n",
              "49862        Dose Availability  \n",
              "\n",
              "[49863 rows x 12 columns]"
            ],
            "text/html": [
              "\n",
              "  <div id=\"df-87fc43d8-5463-4668-be13-3dc2b878d1b1\">\n",
              "    <div class=\"colab-df-container\">\n",
              "      <div>\n",
              "<style scoped>\n",
              "    .dataframe tbody tr th:only-of-type {\n",
              "        vertical-align: middle;\n",
              "    }\n",
              "\n",
              "    .dataframe tbody tr th {\n",
              "        vertical-align: top;\n",
              "    }\n",
              "\n",
              "    .dataframe thead th {\n",
              "        text-align: right;\n",
              "    }\n",
              "</style>\n",
              "<table border=\"1\" class=\"dataframe\">\n",
              "  <thead>\n",
              "    <tr style=\"text-align: right;\">\n",
              "      <th></th>\n",
              "      <th>text</th>\n",
              "      <th>date</th>\n",
              "      <th>user_country</th>\n",
              "      <th>text_cleaned</th>\n",
              "      <th>Dominant_Topic</th>\n",
              "      <th>Perc_Dominant_Topic</th>\n",
              "      <th>nltk_scores</th>\n",
              "      <th>nltk_cmp_score</th>\n",
              "      <th>nltk_sentiment</th>\n",
              "      <th>textblob_score</th>\n",
              "      <th>textblob_sentiment</th>\n",
              "      <th>Dominant_Topic_rev</th>\n",
              "    </tr>\n",
              "  </thead>\n",
              "  <tbody>\n",
              "    <tr>\n",
              "      <th>0</th>\n",
              "      <td>The agency also released new information for h...</td>\n",
              "      <td>12/12/2020 17:45</td>\n",
              "      <td>India</td>\n",
              "      <td>release new information health care provider p...</td>\n",
              "      <td>Topic 1</td>\n",
              "      <td>0.80</td>\n",
              "      <td>{'neg': 0.0, 'neu': 0.686, 'pos': 0.314, 'comp...</td>\n",
              "      <td>0.4939</td>\n",
              "      <td>Positive</td>\n",
              "      <td>0.136364</td>\n",
              "      <td>Positive</td>\n",
              "      <td>Administration Coverage</td>\n",
              "    </tr>\n",
              "    <tr>\n",
              "      <th>1</th>\n",
              "      <td>The US Food and Drug Administration (FDA) has ...</td>\n",
              "      <td>12/12/2020 14:58</td>\n",
              "      <td>India</td>\n",
              "      <td>emergency authorization mrna</td>\n",
              "      <td>Topic 4</td>\n",
              "      <td>0.80</td>\n",
              "      <td>{'neg': 0.565, 'neu': 0.435, 'pos': 0.0, 'comp...</td>\n",
              "      <td>-0.3818</td>\n",
              "      <td>Negative</td>\n",
              "      <td>0.000000</td>\n",
              "      <td>Neutral</td>\n",
              "      <td>Usage Approval</td>\n",
              "    </tr>\n",
              "    <tr>\n",
              "      <th>2</th>\n",
              "      <td>I’ve never been so excited to get a vaccine 💉💉...</td>\n",
              "      <td>12/14/2020 23:48</td>\n",
              "      <td>India</td>\n",
              "      <td>excited</td>\n",
              "      <td>Topic 0</td>\n",
              "      <td>0.60</td>\n",
              "      <td>{'neg': 0.0, 'neu': 0.0, 'pos': 1.0, 'compound...</td>\n",
              "      <td>0.3400</td>\n",
              "      <td>Positive</td>\n",
              "      <td>0.375000</td>\n",
              "      <td>Positive</td>\n",
              "      <td>Clinical Trials</td>\n",
              "    </tr>\n",
              "    <tr>\n",
              "      <th>3</th>\n",
              "      <td>#UgurSahin #ozlemtureci the #Muslim Scientists...</td>\n",
              "      <td>12/14/2020 20:00</td>\n",
              "      <td>India</td>\n",
              "      <td>save world</td>\n",
              "      <td>Topic 0</td>\n",
              "      <td>0.73</td>\n",
              "      <td>{'neg': 0.0, 'neu': 0.238, 'pos': 0.762, 'comp...</td>\n",
              "      <td>0.4939</td>\n",
              "      <td>Positive</td>\n",
              "      <td>0.000000</td>\n",
              "      <td>Neutral</td>\n",
              "      <td>Clinical Trials</td>\n",
              "    </tr>\n",
              "    <tr>\n",
              "      <th>4</th>\n",
              "      <td>Toronto to receive Ontario's 1st doses of Pfiz...</td>\n",
              "      <td>12/14/2020 18:27</td>\n",
              "      <td>India</td>\n",
              "      <td>covid vaccine today</td>\n",
              "      <td>Topic 1</td>\n",
              "      <td>0.51</td>\n",
              "      <td>{'neg': 0.0, 'neu': 1.0, 'pos': 0.0, 'compound...</td>\n",
              "      <td>0.0000</td>\n",
              "      <td>Neutral</td>\n",
              "      <td>0.000000</td>\n",
              "      <td>Neutral</td>\n",
              "      <td>Administration Coverage</td>\n",
              "    </tr>\n",
              "    <tr>\n",
              "      <th>...</th>\n",
              "      <td>...</td>\n",
              "      <td>...</td>\n",
              "      <td>...</td>\n",
              "      <td>...</td>\n",
              "      <td>...</td>\n",
              "      <td>...</td>\n",
              "      <td>...</td>\n",
              "      <td>...</td>\n",
              "      <td>...</td>\n",
              "      <td>...</td>\n",
              "      <td>...</td>\n",
              "      <td>...</td>\n",
              "    </tr>\n",
              "    <tr>\n",
              "      <th>49858</th>\n",
              "      <td>45+ #URBAN #Bengaluru #CovidVaccine Availabili...</td>\n",
              "      <td>11/17/2021 6:00</td>\n",
              "      <td>India</td>\n",
              "      <td>availability free slot pay slot dose</td>\n",
              "      <td>Topic 3</td>\n",
              "      <td>0.65</td>\n",
              "      <td>{'neg': 0.161, 'neu': 0.46, 'pos': 0.379, 'com...</td>\n",
              "      <td>0.4404</td>\n",
              "      <td>Positive</td>\n",
              "      <td>0.400000</td>\n",
              "      <td>Positive</td>\n",
              "      <td>Dose Availability</td>\n",
              "    </tr>\n",
              "    <tr>\n",
              "      <th>49859</th>\n",
              "      <td>18-44 #BBMP #Bengaluru #CovidVaccine Availabil...</td>\n",
              "      <td>11/17/2021 5:30</td>\n",
              "      <td>India</td>\n",
              "      <td>availability free slot dose dose</td>\n",
              "      <td>Topic 3</td>\n",
              "      <td>0.57</td>\n",
              "      <td>{'neg': 0.0, 'neu': 0.548, 'pos': 0.452, 'comp...</td>\n",
              "      <td>0.5106</td>\n",
              "      <td>Positive</td>\n",
              "      <td>0.400000</td>\n",
              "      <td>Positive</td>\n",
              "      <td>Dose Availability</td>\n",
              "    </tr>\n",
              "    <tr>\n",
              "      <th>49860</th>\n",
              "      <td>18-44 #URBAN #Bengaluru #CovidVaccine Availabi...</td>\n",
              "      <td>11/17/2021 5:30</td>\n",
              "      <td>India</td>\n",
              "      <td>availability free slot pay slot dose</td>\n",
              "      <td>Topic 3</td>\n",
              "      <td>0.65</td>\n",
              "      <td>{'neg': 0.161, 'neu': 0.46, 'pos': 0.379, 'com...</td>\n",
              "      <td>0.4404</td>\n",
              "      <td>Positive</td>\n",
              "      <td>0.400000</td>\n",
              "      <td>Positive</td>\n",
              "      <td>Dose Availability</td>\n",
              "    </tr>\n",
              "    <tr>\n",
              "      <th>49861</th>\n",
              "      <td>45+ #URBAN #Bengaluru #CovidVaccine Availabili...</td>\n",
              "      <td>11/17/2021 5:00</td>\n",
              "      <td>India</td>\n",
              "      <td>availability free slot pay slot dose</td>\n",
              "      <td>Topic 3</td>\n",
              "      <td>0.57</td>\n",
              "      <td>{'neg': 0.161, 'neu': 0.46, 'pos': 0.379, 'com...</td>\n",
              "      <td>0.4404</td>\n",
              "      <td>Positive</td>\n",
              "      <td>0.400000</td>\n",
              "      <td>Positive</td>\n",
              "      <td>Dose Availability</td>\n",
              "    </tr>\n",
              "    <tr>\n",
              "      <th>49862</th>\n",
              "      <td>18-44 #BBMP #Bengaluru #CovidVaccine Availabil...</td>\n",
              "      <td>11/17/2021 4:30</td>\n",
              "      <td>India</td>\n",
              "      <td>availability free slot dose dose</td>\n",
              "      <td>Topic 3</td>\n",
              "      <td>0.57</td>\n",
              "      <td>{'neg': 0.0, 'neu': 0.548, 'pos': 0.452, 'comp...</td>\n",
              "      <td>0.5106</td>\n",
              "      <td>Positive</td>\n",
              "      <td>0.400000</td>\n",
              "      <td>Positive</td>\n",
              "      <td>Dose Availability</td>\n",
              "    </tr>\n",
              "  </tbody>\n",
              "</table>\n",
              "<p>49863 rows × 12 columns</p>\n",
              "</div>\n",
              "      <button class=\"colab-df-convert\" onclick=\"convertToInteractive('df-87fc43d8-5463-4668-be13-3dc2b878d1b1')\"\n",
              "              title=\"Convert this dataframe to an interactive table.\"\n",
              "              style=\"display:none;\">\n",
              "        \n",
              "  <svg xmlns=\"http://www.w3.org/2000/svg\" height=\"24px\"viewBox=\"0 0 24 24\"\n",
              "       width=\"24px\">\n",
              "    <path d=\"M0 0h24v24H0V0z\" fill=\"none\"/>\n",
              "    <path d=\"M18.56 5.44l.94 2.06.94-2.06 2.06-.94-2.06-.94-.94-2.06-.94 2.06-2.06.94zm-11 1L8.5 8.5l.94-2.06 2.06-.94-2.06-.94L8.5 2.5l-.94 2.06-2.06.94zm10 10l.94 2.06.94-2.06 2.06-.94-2.06-.94-.94-2.06-.94 2.06-2.06.94z\"/><path d=\"M17.41 7.96l-1.37-1.37c-.4-.4-.92-.59-1.43-.59-.52 0-1.04.2-1.43.59L10.3 9.45l-7.72 7.72c-.78.78-.78 2.05 0 2.83L4 21.41c.39.39.9.59 1.41.59.51 0 1.02-.2 1.41-.59l7.78-7.78 2.81-2.81c.8-.78.8-2.07 0-2.86zM5.41 20L4 18.59l7.72-7.72 1.47 1.35L5.41 20z\"/>\n",
              "  </svg>\n",
              "      </button>\n",
              "      \n",
              "  <style>\n",
              "    .colab-df-container {\n",
              "      display:flex;\n",
              "      flex-wrap:wrap;\n",
              "      gap: 12px;\n",
              "    }\n",
              "\n",
              "    .colab-df-convert {\n",
              "      background-color: #E8F0FE;\n",
              "      border: none;\n",
              "      border-radius: 50%;\n",
              "      cursor: pointer;\n",
              "      display: none;\n",
              "      fill: #1967D2;\n",
              "      height: 32px;\n",
              "      padding: 0 0 0 0;\n",
              "      width: 32px;\n",
              "    }\n",
              "\n",
              "    .colab-df-convert:hover {\n",
              "      background-color: #E2EBFA;\n",
              "      box-shadow: 0px 1px 2px rgba(60, 64, 67, 0.3), 0px 1px 3px 1px rgba(60, 64, 67, 0.15);\n",
              "      fill: #174EA6;\n",
              "    }\n",
              "\n",
              "    [theme=dark] .colab-df-convert {\n",
              "      background-color: #3B4455;\n",
              "      fill: #D2E3FC;\n",
              "    }\n",
              "\n",
              "    [theme=dark] .colab-df-convert:hover {\n",
              "      background-color: #434B5C;\n",
              "      box-shadow: 0px 1px 3px 1px rgba(0, 0, 0, 0.15);\n",
              "      filter: drop-shadow(0px 1px 2px rgba(0, 0, 0, 0.3));\n",
              "      fill: #FFFFFF;\n",
              "    }\n",
              "  </style>\n",
              "\n",
              "      <script>\n",
              "        const buttonEl =\n",
              "          document.querySelector('#df-87fc43d8-5463-4668-be13-3dc2b878d1b1 button.colab-df-convert');\n",
              "        buttonEl.style.display =\n",
              "          google.colab.kernel.accessAllowed ? 'block' : 'none';\n",
              "\n",
              "        async function convertToInteractive(key) {\n",
              "          const element = document.querySelector('#df-87fc43d8-5463-4668-be13-3dc2b878d1b1');\n",
              "          const dataTable =\n",
              "            await google.colab.kernel.invokeFunction('convertToInteractive',\n",
              "                                                     [key], {});\n",
              "          if (!dataTable) return;\n",
              "\n",
              "          const docLinkHtml = 'Like what you see? Visit the ' +\n",
              "            '<a target=\"_blank\" href=https://colab.research.google.com/notebooks/data_table.ipynb>data table notebook</a>'\n",
              "            + ' to learn more about interactive tables.';\n",
              "          element.innerHTML = '';\n",
              "          dataTable['output_type'] = 'display_data';\n",
              "          await google.colab.output.renderOutput(dataTable, element);\n",
              "          const docLink = document.createElement('div');\n",
              "          docLink.innerHTML = docLinkHtml;\n",
              "          element.appendChild(docLink);\n",
              "        }\n",
              "      </script>\n",
              "    </div>\n",
              "  </div>\n",
              "  "
            ]
          },
          "metadata": {},
          "execution_count": 55
        }
      ]
    },
    {
      "cell_type": "code",
      "source": [],
      "metadata": {
        "id": "uXhfk0RvRoxM"
      },
      "execution_count": null,
      "outputs": []
    },
    {
      "cell_type": "code",
      "source": [
        "sns.set_style(\"darkgrid\")\n",
        "sns.countplot(y ='topic_aspects', hue = \"textblob_sentiment\", data = tweets_data)"
      ],
      "metadata": {
        "colab": {
          "base_uri": "https://localhost:8080/",
          "height": 467
        },
        "id": "Ln6j1zQ8QtjW",
        "outputId": "debbb0d9-b325-469d-9a22-98a0c99c4f67"
      },
      "execution_count": null,
      "outputs": [
        {
          "output_type": "execute_result",
          "data": {
            "text/plain": [
              "<matplotlib.axes._subplots.AxesSubplot at 0x7fd7c0bcc220>"
            ]
          },
          "metadata": {},
          "execution_count": 23
        },
        {
          "output_type": "display_data",
          "data": {
            "text/plain": [
              "<Figure size 640x480 with 1 Axes>"
            ],
            "image/png": "[encoded data removed]"
          },
          "metadata": {}
        }
      ]
    },
    {
      "cell_type": "code",
      "source": [],
      "metadata": {
        "id": "sWAfc6NyQt4J"
      },
      "execution_count": null,
      "outputs": []
    },
    {
      "cell_type": "code",
      "source": [
        "tweets_df.rename(columns = {'Dominant_Topic_rev':'topic_aspect'}, inplace = True)\n"
      ],
      "metadata": {
        "id": "Tc883pWx5hGI"
      },
      "execution_count": null,
      "outputs": []
    },
    {
      "cell_type": "markdown",
      "source": [
        "# EDA"
      ],
      "metadata": {
        "id": "ZCb4dQDfATNk"
      }
    },
    {
      "cell_type": "code",
      "source": [
        "tweets_df.to_csv(\"/content/drive/MyDrive/P2/tweets_v10.csv\", index=False)"
      ],
      "metadata": {
        "id": "a5YfkvGv9s9U"
      },
      "execution_count": null,
      "outputs": []
    },
    {
      "cell_type": "code",
      "source": [
        "#dataset import\n",
        "tweets_data = pd.read_csv(\"/content/drive/MyDrive/P2/tweets_v10.csv\")"
      ],
      "metadata": {
        "id": "elx7hbRFRcI4"
      },
      "execution_count": null,
      "outputs": []
    },
    {
      "cell_type": "code",
      "source": [
        "import seaborn as sns\n",
        "import matplotlib.colors as mcolors\n",
        "\n",
        "# Group the data by the user_country column\n",
        "grouped_data = tweets_data.groupby('user_country')\n",
        "\n",
        "# Define a color palette for the textblob_sentiment column\n",
        "#color_palette = {\"Positive\":\"green\", \"Neutral\":\"blue\", \"Negative\":\"red\"}\n",
        "color_palette = {'Positive': mcolors.CSS4_COLORS['chartreuse'], 'Neutral': mcolors.CSS4_COLORS['gray'], 'Negative': mcolors.CSS4_COLORS['red']}\n",
        "\n",
        "# Iterate over the grouped data and create a countplot for each country\n",
        "for country, data in grouped_data:\n",
        "    country_data = tweets_data.loc[data.index]\n",
        "    plt.figure(figsize=(12,12))\n",
        "    sns.countplot(y ='topic_aspects', hue = \"textblob_sentiment\", data = country_data, palette = color_palette)\n",
        "    plt.title(f' {country}')\n",
        "    plt.show()\n"
      ],
      "metadata": {
        "colab": {
          "base_uri": "https://localhost:8080/",
          "height": 1000
        },
        "id": "5i4LjyhHBaxW",
        "outputId": "9182c537-d29b-40a7-8e31-dbeccc683575"
      },
      "execution_count": null,
      "outputs": [
        {
          "output_type": "display_data",
          "data": {
            "text/plain": [
              "<Figure size 864x864 with 1 Axes>"
            ],
            "image/png": "[encoded data removed]"
          },
          "metadata": {
            "needs_background": "light"
          }
        },
        {
          "output_type": "display_data",
          "data": {
            "text/plain": [
              "<Figure size 864x864 with 1 Axes>"
            ],
            "image/png": "[encoded data removed]"
          },
          "metadata": {
            "needs_background": "light"
          }
        },
        {
          "output_type": "display_data",
          "data": {
            "text/plain": [
              "<Figure size 864x864 with 1 Axes>"
            ],
            "image/png": "[encoded data removed]"
          },
          "metadata": {
            "needs_background": "light"
          }
        },
        {
          "output_type": "display_data",
          "data": {
            "text/plain": [
              "<Figure size 864x864 with 1 Axes>"
            ],
            "image/png": "[encoded data removed]"
          },
          "metadata": {
            "needs_background": "light"
          }
        },
        {
          "output_type": "display_data",
          "data": {
            "text/plain": [
              "<Figure size 864x864 with 1 Axes>"
            ],
            "image/png": "[encoded data removed]"
          },
          "metadata": {
            "needs_background": "light"
          }
        },
        {
          "output_type": "display_data",
          "data": {
            "text/plain": [
              "<Figure size 864x864 with 1 Axes>"
            ],
            "image/png": "[encoded data removed]"
          },
          "metadata": {
            "needs_background": "light"
          }
        }
      ]
    },
    {
      "cell_type": "code",
      "source": [
        "import seaborn as sns\n",
        "import matplotlib.pyplot as plt\n",
        "\n",
        "# Group the data by the user_country column\n",
        "grouped_data = tweets_data.groupby('user_country')\n",
        "\n",
        "# Define a color palette for the textblob_sentiment column\n",
        "color_palette = {\"Positive\":\"green\", \"Neutral\":\"gray\", \"Negative\":\"red\"}\n",
        "\n",
        "# Get the number of countries\n",
        "n = len(grouped_data)\n",
        "\n",
        "# Create a figure with n subplots\n",
        "fig, axes = plt.subplots(nrows=1, ncols=n, figsize=(30, 30))\n",
        "\n",
        "# Flatten the array of axes\n",
        "axes = axes.flatten()\n",
        "\n",
        "# Iterate over the grouped data and create a countplot for each country\n",
        "for i, (country, data) in enumerate(grouped_data):\n",
        "    country_data = tweets_data.loc[data.index]\n",
        "    sns.countplot(y ='topic_aspects', hue = \"textblob_sentiment\", data = country_data, palette = color_palette, ax=axes[i])\n",
        "    axes[i].set_title(f'Distribution of topic_aspects by textblob_sentiment for {country}')\n",
        "\n",
        "plt.show()\n"
      ],
      "metadata": {
        "id": "Kodkjb5gC3DW"
      },
      "execution_count": null,
      "outputs": []
    },
    {
      "cell_type": "code",
      "source": [],
      "metadata": {
        "id": "Im2MNURaBbwn"
      },
      "execution_count": null,
      "outputs": []
    },
    {
      "cell_type": "code",
      "source": [
        "tweets_data.head()"
      ],
      "metadata": {
        "colab": {
          "base_uri": "https://localhost:8080/",
          "height": 423
        },
        "id": "Dn8GyXNhSJE0",
        "outputId": "bdb8b540-aabf-4ba6-9965-53b9fa6e3144"
      },
      "execution_count": null,
      "outputs": [
        {
          "output_type": "execute_result",
          "data": {
            "text/plain": [
              "                                                text              date  \\\n",
              "0  The agency also released new information for h...  12/12/2020 17:45   \n",
              "1  The US Food and Drug Administration (FDA) has ...  12/12/2020 14:58   \n",
              "2  I’ve never been so excited to get a vaccine 💉💉...  12/14/2020 23:48   \n",
              "3  #UgurSahin #ozlemtureci the #Muslim Scientists...  12/14/2020 20:00   \n",
              "4  Toronto to receive Ontario's 1st doses of Pfiz...  12/14/2020 18:27   \n",
              "\n",
              "  user_country                                       text_cleaned  \\\n",
              "0        India  release new information health care provider p...   \n",
              "1        India                       emergency authorization mrna   \n",
              "2        India                                            excited   \n",
              "3        India                                         save world   \n",
              "4        India                                covid vaccine today   \n",
              "\n",
              "  Dominant_Topic  Perc_Dominant_Topic  \\\n",
              "0        Topic 1                 0.80   \n",
              "1        Topic 4                 0.80   \n",
              "2        Topic 0                 0.60   \n",
              "3        Topic 0                 0.73   \n",
              "4        Topic 1                 0.51   \n",
              "\n",
              "                                         nltk_scores  nltk_cmp_score  \\\n",
              "0  {'neg': 0.0, 'neu': 0.686, 'pos': 0.314, 'comp...          0.4939   \n",
              "1  {'neg': 0.565, 'neu': 0.435, 'pos': 0.0, 'comp...         -0.3818   \n",
              "2  {'neg': 0.0, 'neu': 0.0, 'pos': 1.0, 'compound...          0.3400   \n",
              "3  {'neg': 0.0, 'neu': 0.238, 'pos': 0.762, 'comp...          0.4939   \n",
              "4  {'neg': 0.0, 'neu': 1.0, 'pos': 0.0, 'compound...          0.0000   \n",
              "\n",
              "  nltk_sentiment  textblob_score textblob_sentiment            topic_aspects  \n",
              "0       Positive        0.136364           Positive  Administration Coverage  \n",
              "1       Negative        0.000000            Neutral           Usage Approval  \n",
              "2       Positive        0.375000           Positive          Clinical Trials  \n",
              "3       Positive        0.000000            Neutral          Clinical Trials  \n",
              "4        Neutral        0.000000            Neutral  Administration Coverage  "
            ],
            "text/html": [
              "\n",
              "  <div id=\"df-bc67318f-f81d-4128-8514-ac4b295e7110\">\n",
              "    <div class=\"colab-df-container\">\n",
              "      <div>\n",
              "<style scoped>\n",
              "    .dataframe tbody tr th:only-of-type {\n",
              "        vertical-align: middle;\n",
              "    }\n",
              "\n",
              "    .dataframe tbody tr th {\n",
              "        vertical-align: top;\n",
              "    }\n",
              "\n",
              "    .dataframe thead th {\n",
              "        text-align: right;\n",
              "    }\n",
              "</style>\n",
              "<table border=\"1\" class=\"dataframe\">\n",
              "  <thead>\n",
              "    <tr style=\"text-align: right;\">\n",
              "      <th></th>\n",
              "      <th>text</th>\n",
              "      <th>date</th>\n",
              "      <th>user_country</th>\n",
              "      <th>text_cleaned</th>\n",
              "      <th>Dominant_Topic</th>\n",
              "      <th>Perc_Dominant_Topic</th>\n",
              "      <th>nltk_scores</th>\n",
              "      <th>nltk_cmp_score</th>\n",
              "      <th>nltk_sentiment</th>\n",
              "      <th>textblob_score</th>\n",
              "      <th>textblob_sentiment</th>\n",
              "      <th>topic_aspects</th>\n",
              "    </tr>\n",
              "  </thead>\n",
              "  <tbody>\n",
              "    <tr>\n",
              "      <th>0</th>\n",
              "      <td>The agency also released new information for h...</td>\n",
              "      <td>12/12/2020 17:45</td>\n",
              "      <td>India</td>\n",
              "      <td>release new information health care provider p...</td>\n",
              "      <td>Topic 1</td>\n",
              "      <td>0.80</td>\n",
              "      <td>{'neg': 0.0, 'neu': 0.686, 'pos': 0.314, 'comp...</td>\n",
              "      <td>0.4939</td>\n",
              "      <td>Positive</td>\n",
              "      <td>0.136364</td>\n",
              "      <td>Positive</td>\n",
              "      <td>Administration Coverage</td>\n",
              "    </tr>\n",
              "    <tr>\n",
              "      <th>1</th>\n",
              "      <td>The US Food and Drug Administration (FDA) has ...</td>\n",
              "      <td>12/12/2020 14:58</td>\n",
              "      <td>India</td>\n",
              "      <td>emergency authorization mrna</td>\n",
              "      <td>Topic 4</td>\n",
              "      <td>0.80</td>\n",
              "      <td>{'neg': 0.565, 'neu': 0.435, 'pos': 0.0, 'comp...</td>\n",
              "      <td>-0.3818</td>\n",
              "      <td>Negative</td>\n",
              "      <td>0.000000</td>\n",
              "      <td>Neutral</td>\n",
              "      <td>Usage Approval</td>\n",
              "    </tr>\n",
              "    <tr>\n",
              "      <th>2</th>\n",
              "      <td>I’ve never been so excited to get a vaccine 💉💉...</td>\n",
              "      <td>12/14/2020 23:48</td>\n",
              "      <td>India</td>\n",
              "      <td>excited</td>\n",
              "      <td>Topic 0</td>\n",
              "      <td>0.60</td>\n",
              "      <td>{'neg': 0.0, 'neu': 0.0, 'pos': 1.0, 'compound...</td>\n",
              "      <td>0.3400</td>\n",
              "      <td>Positive</td>\n",
              "      <td>0.375000</td>\n",
              "      <td>Positive</td>\n",
              "      <td>Clinical Trials</td>\n",
              "    </tr>\n",
              "    <tr>\n",
              "      <th>3</th>\n",
              "      <td>#UgurSahin #ozlemtureci the #Muslim Scientists...</td>\n",
              "      <td>12/14/2020 20:00</td>\n",
              "      <td>India</td>\n",
              "      <td>save world</td>\n",
              "      <td>Topic 0</td>\n",
              "      <td>0.73</td>\n",
              "      <td>{'neg': 0.0, 'neu': 0.238, 'pos': 0.762, 'comp...</td>\n",
              "      <td>0.4939</td>\n",
              "      <td>Positive</td>\n",
              "      <td>0.000000</td>\n",
              "      <td>Neutral</td>\n",
              "      <td>Clinical Trials</td>\n",
              "    </tr>\n",
              "    <tr>\n",
              "      <th>4</th>\n",
              "      <td>Toronto to receive Ontario's 1st doses of Pfiz...</td>\n",
              "      <td>12/14/2020 18:27</td>\n",
              "      <td>India</td>\n",
              "      <td>covid vaccine today</td>\n",
              "      <td>Topic 1</td>\n",
              "      <td>0.51</td>\n",
              "      <td>{'neg': 0.0, 'neu': 1.0, 'pos': 0.0, 'compound...</td>\n",
              "      <td>0.0000</td>\n",
              "      <td>Neutral</td>\n",
              "      <td>0.000000</td>\n",
              "      <td>Neutral</td>\n",
              "      <td>Administration Coverage</td>\n",
              "    </tr>\n",
              "  </tbody>\n",
              "</table>\n",
              "</div>\n",
              "      <button class=\"colab-df-convert\" onclick=\"convertToInteractive('df-bc67318f-f81d-4128-8514-ac4b295e7110')\"\n",
              "              title=\"Convert this dataframe to an interactive table.\"\n",
              "              style=\"display:none;\">\n",
              "        \n",
              "  <svg xmlns=\"http://www.w3.org/2000/svg\" height=\"24px\"viewBox=\"0 0 24 24\"\n",
              "       width=\"24px\">\n",
              "    <path d=\"M0 0h24v24H0V0z\" fill=\"none\"/>\n",
              "    <path d=\"M18.56 5.44l.94 2.06.94-2.06 2.06-.94-2.06-.94-.94-2.06-.94 2.06-2.06.94zm-11 1L8.5 8.5l.94-2.06 2.06-.94-2.06-.94L8.5 2.5l-.94 2.06-2.06.94zm10 10l.94 2.06.94-2.06 2.06-.94-2.06-.94-.94-2.06-.94 2.06-2.06.94z\"/><path d=\"M17.41 7.96l-1.37-1.37c-.4-.4-.92-.59-1.43-.59-.52 0-1.04.2-1.43.59L10.3 9.45l-7.72 7.72c-.78.78-.78 2.05 0 2.83L4 21.41c.39.39.9.59 1.41.59.51 0 1.02-.2 1.41-.59l7.78-7.78 2.81-2.81c.8-.78.8-2.07 0-2.86zM5.41 20L4 18.59l7.72-7.72 1.47 1.35L5.41 20z\"/>\n",
              "  </svg>\n",
              "      </button>\n",
              "      \n",
              "  <style>\n",
              "    .colab-df-container {\n",
              "      display:flex;\n",
              "      flex-wrap:wrap;\n",
              "      gap: 12px;\n",
              "    }\n",
              "\n",
              "    .colab-df-convert {\n",
              "      background-color: #E8F0FE;\n",
              "      border: none;\n",
              "      border-radius: 50%;\n",
              "      cursor: pointer;\n",
              "      display: none;\n",
              "      fill: #1967D2;\n",
              "      height: 32px;\n",
              "      padding: 0 0 0 0;\n",
              "      width: 32px;\n",
              "    }\n",
              "\n",
              "    .colab-df-convert:hover {\n",
              "      background-color: #E2EBFA;\n",
              "      box-shadow: 0px 1px 2px rgba(60, 64, 67, 0.3), 0px 1px 3px 1px rgba(60, 64, 67, 0.15);\n",
              "      fill: #174EA6;\n",
              "    }\n",
              "\n",
              "    [theme=dark] .colab-df-convert {\n",
              "      background-color: #3B4455;\n",
              "      fill: #D2E3FC;\n",
              "    }\n",
              "\n",
              "    [theme=dark] .colab-df-convert:hover {\n",
              "      background-color: #434B5C;\n",
              "      box-shadow: 0px 1px 3px 1px rgba(0, 0, 0, 0.15);\n",
              "      filter: drop-shadow(0px 1px 2px rgba(0, 0, 0, 0.3));\n",
              "      fill: #FFFFFF;\n",
              "    }\n",
              "  </style>\n",
              "\n",
              "      <script>\n",
              "        const buttonEl =\n",
              "          document.querySelector('#df-bc67318f-f81d-4128-8514-ac4b295e7110 button.colab-df-convert');\n",
              "        buttonEl.style.display =\n",
              "          google.colab.kernel.accessAllowed ? 'block' : 'none';\n",
              "\n",
              "        async function convertToInteractive(key) {\n",
              "          const element = document.querySelector('#df-bc67318f-f81d-4128-8514-ac4b295e7110');\n",
              "          const dataTable =\n",
              "            await google.colab.kernel.invokeFunction('convertToInteractive',\n",
              "                                                     [key], {});\n",
              "          if (!dataTable) return;\n",
              "\n",
              "          const docLinkHtml = 'Like what you see? Visit the ' +\n",
              "            '<a target=\"_blank\" href=https://colab.research.google.com/notebooks/data_table.ipynb>data table notebook</a>'\n",
              "            + ' to learn more about interactive tables.';\n",
              "          element.innerHTML = '';\n",
              "          dataTable['output_type'] = 'display_data';\n",
              "          await google.colab.output.renderOutput(dataTable, element);\n",
              "          const docLink = document.createElement('div');\n",
              "          docLink.innerHTML = docLinkHtml;\n",
              "          element.appendChild(docLink);\n",
              "        }\n",
              "      </script>\n",
              "    </div>\n",
              "  </div>\n",
              "  "
            ]
          },
          "metadata": {},
          "execution_count": 7
        }
      ]
    },
    {
      "cell_type": "code",
      "source": [
        "import matplotlib.pyplot as plt\n",
        "\n",
        "# Group the data by topic_aspects and count the number of occurrences of each aspect\n",
        "grouped_data = tweets_data.groupby('topic_aspects').size()\n",
        "\n",
        "# Create a pie chart\n",
        "plt.pie(grouped_data, labels = grouped_data.index,autopct='%1.1f%%')\n",
        "#plt.title(\"Topic Aspects Distribution\")\n",
        "plt.show()\n"
      ],
      "metadata": {
        "colab": {
          "base_uri": "https://localhost:8080/",
          "height": 248
        },
        "id": "Uv4eyigd28l2",
        "outputId": "65220912-5661-4ad0-b9ca-3a1b9727bff9"
      },
      "execution_count": null,
      "outputs": [
        {
          "output_type": "display_data",
          "data": {
            "text/plain": [
              "<Figure size 432x288 with 1 Axes>"
            ],
            "image/png": "[encoded data removed]"
          },
          "metadata": {}
        }
      ]
    },
    {
      "cell_type": "code",
      "source": [],
      "metadata": {
        "id": "F_WFKYly0yjT"
      },
      "execution_count": null,
      "outputs": []
    },
    {
      "cell_type": "code",
      "source": [
        "import pandas as pd\n",
        "\n",
        "# Group the tweets_data dataset by user_country and textblob_sentiment columns\n",
        "grouped_data = tweets_data.groupby(['user_country','textblob_sentiment']).size().reset_index(name='counts')\n",
        "\n",
        "# Calculate the percentage of each sentiment for each user_country\n",
        "grouped_data['percentage'] = grouped_data.groupby(['user_country'])['counts'].apply(lambda x: x/x.sum()*100)\n",
        "\n",
        "# Pivot the dataframe to create a new dataframe with user_country as rows and textblob_sentiment as columns\n",
        "df = grouped_data.pivot(index='user_country', columns='textblob_sentiment', values='percentage')\n",
        "\n",
        "# Reset the index to make user_country a column\n",
        "df.reset_index(inplace=True)\n",
        "\n",
        "print(df)\n"
      ],
      "metadata": {
        "colab": {
          "base_uri": "https://localhost:8080/"
        },
        "id": "MaIUEU-1LU8m",
        "outputId": "af5b6b51-f9be-4c25-97dc-6982ba65b083"
      },
      "execution_count": null,
      "outputs": [
        {
          "output_type": "stream",
          "name": "stdout",
          "text": [
            "textblob_sentiment user_country   Negative    Neutral   Positive\n",
            "0                    Bangladesh   4.220779  76.623377  19.155844\n",
            "1                        Bhutan        NaN  72.727273  27.272727\n",
            "2                         India   3.691746  69.167910  27.140344\n",
            "3                         Nepal  13.043478  68.478261  18.478261\n",
            "4                      Pakistan   5.953533  69.070668  24.975799\n",
            "5                     Sri Lanka   4.502370  82.511848  12.985782\n"
          ]
        }
      ]
    },
    {
      "cell_type": "code",
      "source": [
        "df.head()"
      ],
      "metadata": {
        "colab": {
          "base_uri": "https://localhost:8080/",
          "height": 206
        },
        "id": "8KYUt4SxLXYe",
        "outputId": "eb4f8979-2a30-4d21-9e0f-8389bd1a6826"
      },
      "execution_count": null,
      "outputs": [
        {
          "output_type": "execute_result",
          "data": {
            "text/plain": [
              "textblob_sentiment user_country   Negative    Neutral   Positive\n",
              "0                    Bangladesh   4.220779  76.623377  19.155844\n",
              "1                        Bhutan        NaN  72.727273  27.272727\n",
              "2                         India   3.691746  69.167910  27.140344\n",
              "3                         Nepal  13.043478  68.478261  18.478261\n",
              "4                      Pakistan   5.953533  69.070668  24.975799"
            ],
            "text/html": [
              "\n",
              "  <div id=\"df-6b3d8375-f334-4549-80f4-371e5c28fa87\">\n",
              "    <div class=\"colab-df-container\">\n",
              "      <div>\n",
              "<style scoped>\n",
              "    .dataframe tbody tr th:only-of-type {\n",
              "        vertical-align: middle;\n",
              "    }\n",
              "\n",
              "    .dataframe tbody tr th {\n",
              "        vertical-align: top;\n",
              "    }\n",
              "\n",
              "    .dataframe thead th {\n",
              "        text-align: right;\n",
              "    }\n",
              "</style>\n",
              "<table border=\"1\" class=\"dataframe\">\n",
              "  <thead>\n",
              "    <tr style=\"text-align: right;\">\n",
              "      <th>textblob_sentiment</th>\n",
              "      <th>user_country</th>\n",
              "      <th>Negative</th>\n",
              "      <th>Neutral</th>\n",
              "      <th>Positive</th>\n",
              "    </tr>\n",
              "  </thead>\n",
              "  <tbody>\n",
              "    <tr>\n",
              "      <th>0</th>\n",
              "      <td>Bangladesh</td>\n",
              "      <td>4.220779</td>\n",
              "      <td>76.623377</td>\n",
              "      <td>19.155844</td>\n",
              "    </tr>\n",
              "    <tr>\n",
              "      <th>1</th>\n",
              "      <td>Bhutan</td>\n",
              "      <td>NaN</td>\n",
              "      <td>72.727273</td>\n",
              "      <td>27.272727</td>\n",
              "    </tr>\n",
              "    <tr>\n",
              "      <th>2</th>\n",
              "      <td>India</td>\n",
              "      <td>3.691746</td>\n",
              "      <td>69.167910</td>\n",
              "      <td>27.140344</td>\n",
              "    </tr>\n",
              "    <tr>\n",
              "      <th>3</th>\n",
              "      <td>Nepal</td>\n",
              "      <td>13.043478</td>\n",
              "      <td>68.478261</td>\n",
              "      <td>18.478261</td>\n",
              "    </tr>\n",
              "    <tr>\n",
              "      <th>4</th>\n",
              "      <td>Pakistan</td>\n",
              "      <td>5.953533</td>\n",
              "      <td>69.070668</td>\n",
              "      <td>24.975799</td>\n",
              "    </tr>\n",
              "  </tbody>\n",
              "</table>\n",
              "</div>\n",
              "      <button class=\"colab-df-convert\" onclick=\"convertToInteractive('df-6b3d8375-f334-4549-80f4-371e5c28fa87')\"\n",
              "              title=\"Convert this dataframe to an interactive table.\"\n",
              "              style=\"display:none;\">\n",
              "        \n",
              "  <svg xmlns=\"http://www.w3.org/2000/svg\" height=\"24px\"viewBox=\"0 0 24 24\"\n",
              "       width=\"24px\">\n",
              "    <path d=\"M0 0h24v24H0V0z\" fill=\"none\"/>\n",
              "    <path d=\"M18.56 5.44l.94 2.06.94-2.06 2.06-.94-2.06-.94-.94-2.06-.94 2.06-2.06.94zm-11 1L8.5 8.5l.94-2.06 2.06-.94-2.06-.94L8.5 2.5l-.94 2.06-2.06.94zm10 10l.94 2.06.94-2.06 2.06-.94-2.06-.94-.94-2.06-.94 2.06-2.06.94z\"/><path d=\"M17.41 7.96l-1.37-1.37c-.4-.4-.92-.59-1.43-.59-.52 0-1.04.2-1.43.59L10.3 9.45l-7.72 7.72c-.78.78-.78 2.05 0 2.83L4 21.41c.39.39.9.59 1.41.59.51 0 1.02-.2 1.41-.59l7.78-7.78 2.81-2.81c.8-.78.8-2.07 0-2.86zM5.41 20L4 18.59l7.72-7.72 1.47 1.35L5.41 20z\"/>\n",
              "  </svg>\n",
              "      </button>\n",
              "      \n",
              "  <style>\n",
              "    .colab-df-container {\n",
              "      display:flex;\n",
              "      flex-wrap:wrap;\n",
              "      gap: 12px;\n",
              "    }\n",
              "\n",
              "    .colab-df-convert {\n",
              "      background-color: #E8F0FE;\n",
              "      border: none;\n",
              "      border-radius: 50%;\n",
              "      cursor: pointer;\n",
              "      display: none;\n",
              "      fill: #1967D2;\n",
              "      height: 32px;\n",
              "      padding: 0 0 0 0;\n",
              "      width: 32px;\n",
              "    }\n",
              "\n",
              "    .colab-df-convert:hover {\n",
              "      background-color: #E2EBFA;\n",
              "      box-shadow: 0px 1px 2px rgba(60, 64, 67, 0.3), 0px 1px 3px 1px rgba(60, 64, 67, 0.15);\n",
              "      fill: #174EA6;\n",
              "    }\n",
              "\n",
              "    [theme=dark] .colab-df-convert {\n",
              "      background-color: #3B4455;\n",
              "      fill: #D2E3FC;\n",
              "    }\n",
              "\n",
              "    [theme=dark] .colab-df-convert:hover {\n",
              "      background-color: #434B5C;\n",
              "      box-shadow: 0px 1px 3px 1px rgba(0, 0, 0, 0.15);\n",
              "      filter: drop-shadow(0px 1px 2px rgba(0, 0, 0, 0.3));\n",
              "      fill: #FFFFFF;\n",
              "    }\n",
              "  </style>\n",
              "\n",
              "      <script>\n",
              "        const buttonEl =\n",
              "          document.querySelector('#df-6b3d8375-f334-4549-80f4-371e5c28fa87 button.colab-df-convert');\n",
              "        buttonEl.style.display =\n",
              "          google.colab.kernel.accessAllowed ? 'block' : 'none';\n",
              "\n",
              "        async function convertToInteractive(key) {\n",
              "          const element = document.querySelector('#df-6b3d8375-f334-4549-80f4-371e5c28fa87');\n",
              "          const dataTable =\n",
              "            await google.colab.kernel.invokeFunction('convertToInteractive',\n",
              "                                                     [key], {});\n",
              "          if (!dataTable) return;\n",
              "\n",
              "          const docLinkHtml = 'Like what you see? Visit the ' +\n",
              "            '<a target=\"_blank\" href=https://colab.research.google.com/notebooks/data_table.ipynb>data table notebook</a>'\n",
              "            + ' to learn more about interactive tables.';\n",
              "          element.innerHTML = '';\n",
              "          dataTable['output_type'] = 'display_data';\n",
              "          await google.colab.output.renderOutput(dataTable, element);\n",
              "          const docLink = document.createElement('div');\n",
              "          docLink.innerHTML = docLinkHtml;\n",
              "          element.appendChild(docLink);\n",
              "        }\n",
              "      </script>\n",
              "    </div>\n",
              "  </div>\n",
              "  "
            ]
          },
          "metadata": {},
          "execution_count": 69
        }
      ]
    },
    {
      "cell_type": "code",
      "source": [
        "import seaborn as sns\n",
        "\n",
        "# Filter the data to only include rows where user_country is India\n",
        "india_data = tweets_data[tweets_data['user_country'] == 'India']\n",
        "\n",
        "# Create a countplot of the topic_aspects column\n",
        "sns.countplot(y ='topic_aspects', hue = \"textblob_sentiment\", data = india_data)\n",
        "plt.title(' India')\n",
        "plt.show()\n"
      ],
      "metadata": {
        "colab": {
          "base_uri": "https://localhost:8080/",
          "height": 295
        },
        "id": "4i831QNOZpiN",
        "outputId": "7c3a783c-ae27-4717-be3a-f1734bcc9e70"
      },
      "execution_count": null,
      "outputs": [
        {
          "output_type": "display_data",
          "data": {
            "text/plain": [
              "<Figure size 432x288 with 1 Axes>"
            ],
            "image/png": "[encoded data removed]"
          },
          "metadata": {
            "needs_background": "light"
          }
        }
      ]
    },
    {
      "cell_type": "code",
      "source": [
        "import seaborn as sns\n",
        "\n",
        "# Filter the data to only include rows where user_country is India\n",
        "india_data = tweets_data[tweets_data['user_country'] == 'India']\n",
        "\n",
        "# Create a countplot of the topic_aspects column\n",
        "sns.countplot(y ='topic_aspects', hue = \"textblob_sentiment\", data = india_data)\n",
        "plt.title('India')\n",
        "plt.show()"
      ],
      "metadata": {
        "colab": {
          "base_uri": "https://localhost:8080/",
          "height": 295
        },
        "id": "uSP0U6bBopz3",
        "outputId": "8c967a9b-9efb-4f0e-faa0-41567727d48f"
      },
      "execution_count": null,
      "outputs": [
        {
          "output_type": "display_data",
          "data": {
            "text/plain": [
              "<Figure size 432x288 with 1 Axes>"
            ],
            "image/png": "[encoded data removed]"
          },
          "metadata": {
            "needs_background": "light"
          }
        }
      ]
    },
    {
      "cell_type": "code",
      "source": [
        "import seaborn as sns\n",
        "\n",
        "# Filter the data to only include rows where user_country is India\n",
        "india_data = tweets_data[tweets_data['user_country'] == 'Pakistan']\n",
        "\n",
        "# Create a countplot of the topic_aspects column\n",
        "sns.countplot(y ='topic_aspects', hue = \"textblob_sentiment\", data = india_data)\n",
        "plt.title('Pakistan')\n",
        "plt.show()"
      ],
      "metadata": {
        "colab": {
          "base_uri": "https://localhost:8080/",
          "height": 295
        },
        "id": "L5uWFjxjlwOk",
        "outputId": "2d67b7c2-5605-4549-a3fb-deff39f0d34b"
      },
      "execution_count": null,
      "outputs": [
        {
          "output_type": "display_data",
          "data": {
            "text/plain": [
              "<Figure size 432x288 with 1 Axes>"
            ],
            "image/png": "[encoded data removed]"
          },
          "metadata": {
            "needs_background": "light"
          }
        }
      ]
    },
    {
      "cell_type": "code",
      "source": [
        "import matplotlib.pyplot as plt\n",
        "from textblob import TextBlob\n",
        "\n",
        "grouped_data = tweets_data.groupby(['user_country','textblob_sentiment']).size().reset_index(name='counts')\n",
        "\n",
        "grouped_data['percentage'] = grouped_data.groupby(['user_country'])['counts'].apply(lambda x: x/x.sum()*100)\n",
        "\n",
        "for i,country in enumerate(grouped_data.user_country.unique()):\n",
        "    country_data = grouped_data[grouped_data.user_country == country]\n",
        "    plt.figure(i)\n",
        "    plt.pie(country_data['counts'], labels=country_data['textblob_sentiment'],autopct='%1.1f%%')\n",
        "    plt.title(country)\n",
        "plt.show()"
      ],
      "metadata": {
        "id": "hXXHsaZPmTid"
      },
      "execution_count": null,
      "outputs": []
    },
    {
      "cell_type": "code",
      "source": [
        "# First, import the necessary libraries\n",
        "import matplotlib.pyplot as plt\n",
        "\n",
        "# Create a figure with 2 columns and ceil(n/2) rows of subplots\n",
        "n = len(grouped_data.user_country.unique())\n",
        "figure, axs = plt.subplots(nrows=int(n/2)+n%2, ncols=2, figsize=(12, 5*int(n/2)+5*n%2))\n",
        "axs = axs.ravel()\n",
        "\n",
        "for i,country in enumerate(grouped_data.user_country.unique()):\n",
        "    country_data = grouped_data[grouped_data.user_country == country]\n",
        "    axs[i].pie(country_data['counts'], labels=country_data['textblob_sentiment'],autopct='%1.1f%%')\n",
        "    axs[i].set_title(country)\n",
        "\n",
        "plt.show()\n",
        "\n"
      ],
      "metadata": {
        "colab": {
          "base_uri": "https://localhost:8080/",
          "height": 880
        },
        "id": "oupxmctMGOsF",
        "outputId": "510ea8b3-8e91-4a22-eea7-a2e234e12de0"
      },
      "execution_count": null,
      "outputs": [
        {
          "output_type": "display_data",
          "data": {
            "text/plain": [
              "<Figure size 864x1080 with 6 Axes>"
            ],
            "image/png": "[encoded data removed]"
          },
          "metadata": {}
        },
        {
          "output_type": "display_data",
          "data": {
            "text/plain": [
              "<Figure size 432x288 with 0 Axes>"
            ]
          },
          "metadata": {}
        }
      ]
    },
    {
      "cell_type": "code",
      "source": [
        "plt.savefig('piechart.png')"
      ],
      "metadata": {
        "colab": {
          "base_uri": "https://localhost:8080/",
          "height": 35
        },
        "id": "pcu7KZPAGU0f",
        "outputId": "b6853d05-9fa1-4a5c-eb61-cd7b957f2f2d"
      },
      "execution_count": null,
      "outputs": [
        {
          "output_type": "display_data",
          "data": {
            "text/plain": [
              "<Figure size 432x288 with 0 Axes>"
            ]
          },
          "metadata": {}
        }
      ]
    },
    {
      "cell_type": "code",
      "source": [],
      "metadata": {
        "id": "uOgEo8wQmToZ"
      },
      "execution_count": null,
      "outputs": []
    },
    {
      "cell_type": "code",
      "source": [],
      "metadata": {
        "id": "afJb8Fs6mTvq"
      },
      "execution_count": null,
      "outputs": []
    },
    {
      "cell_type": "code",
      "source": [
        "india_data_topic = india_data.groupby([\"topic_aspects\",\"textblob_sentiment\"]).size().reset_index(name=\"Count\")\n",
        "india_data_topic['proportion'] = india_data_topic.groupby(\"topic_aspects\")[\"Count\"].apply(lambda x: x / x.sum())\n",
        "\n",
        "for topic in india_data_topic['topic_aspects'].unique():\n",
        "    topic_data = india_data_topic[india_data_topic['topic_aspects'] == topic]\n",
        "    plt.pie(topic_data['proportion'], labels = topic_data['textblob_sentiment'], autopct='%1.1f%%')\n",
        "    plt.title(f'Distribution of sentiments for {topic}')\n",
        "    plt.show()"
      ],
      "metadata": {
        "colab": {
          "base_uri": "https://localhost:8080/",
          "height": 1000
        },
        "id": "VlC3VyoGc9E3",
        "outputId": "5be1e2fe-067e-4197-d499-be9b4152df48"
      },
      "execution_count": null,
      "outputs": [
        {
          "output_type": "display_data",
          "data": {
            "text/plain": [
              "<Figure size 432x288 with 1 Axes>"
            ],
            "image/png": "[encoded data removed]"
          },
          "metadata": {}
        },
        {
          "output_type": "display_data",
          "data": {
            "text/plain": [
              "<Figure size 432x288 with 1 Axes>"
            ],
            "image/png": "[encoded data removed]"
          },
          "metadata": {}
        },
        {
          "output_type": "display_data",
          "data": {
            "text/plain": [
              "<Figure size 432x288 with 1 Axes>"
            ],
            "image/png": "[encoded data removed]"
          },
          "metadata": {}
        },
        {
          "output_type": "display_data",
          "data": {
            "text/plain": [
              "<Figure size 432x288 with 1 Axes>"
            ],
            "image/png": "[encoded data removed]"
          },
          "metadata": {}
        },
        {
          "output_type": "display_data",
          "data": {
            "text/plain": [
              "<Figure size 432x288 with 1 Axes>"
            ],
            "image/png": "[encoded data removed]"
          },
          "metadata": {}
        }
      ]
    },
    {
      "cell_type": "code",
      "source": [],
      "metadata": {
        "id": "kEcEO5_RlgOh"
      },
      "execution_count": null,
      "outputs": []
    },
    {
      "cell_type": "code",
      "source": [
        "tweets_df"
      ],
      "metadata": {
        "colab": {
          "base_uri": "https://localhost:8080/",
          "height": 901
        },
        "id": "whge3w0u9zMC",
        "outputId": "3ce1a727-e582-4f2e-aaf9-1a9e4fda2955"
      },
      "execution_count": null,
      "outputs": [
        {
          "output_type": "execute_result",
          "data": {
            "text/plain": [
              "                                                    text              date  \\\n",
              "0      The agency also released new information for h...  12/12/2020 17:45   \n",
              "1      The US Food and Drug Administration (FDA) has ...  12/12/2020 14:58   \n",
              "2      I’ve never been so excited to get a vaccine 💉💉...  12/14/2020 23:48   \n",
              "3      #UgurSahin #ozlemtureci the #Muslim Scientists...  12/14/2020 20:00   \n",
              "4      Toronto to receive Ontario's 1st doses of Pfiz...  12/14/2020 18:27   \n",
              "...                                                  ...               ...   \n",
              "49858  45+ #URBAN #Bengaluru #CovidVaccine Availabili...   11/17/2021 6:00   \n",
              "49859  18-44 #BBMP #Bengaluru #CovidVaccine Availabil...   11/17/2021 5:30   \n",
              "49860  18-44 #URBAN #Bengaluru #CovidVaccine Availabi...   11/17/2021 5:30   \n",
              "49861  45+ #URBAN #Bengaluru #CovidVaccine Availabili...   11/17/2021 5:00   \n",
              "49862  18-44 #BBMP #Bengaluru #CovidVaccine Availabil...   11/17/2021 4:30   \n",
              "\n",
              "      user_country                                       text_cleaned  \\\n",
              "0            India  release new information health care provider p...   \n",
              "1            India                       emergency authorization mrna   \n",
              "2            India                                            excited   \n",
              "3            India                                         save world   \n",
              "4            India                                covid vaccine today   \n",
              "...            ...                                                ...   \n",
              "49858        India               availability free slot pay slot dose   \n",
              "49859        India                   availability free slot dose dose   \n",
              "49860        India               availability free slot pay slot dose   \n",
              "49861        India               availability free slot pay slot dose   \n",
              "49862        India                   availability free slot dose dose   \n",
              "\n",
              "      Dominant_Topic  Perc_Dominant_Topic  \\\n",
              "0            Topic 1                 0.80   \n",
              "1            Topic 4                 0.80   \n",
              "2            Topic 0                 0.60   \n",
              "3            Topic 0                 0.73   \n",
              "4            Topic 1                 0.51   \n",
              "...              ...                  ...   \n",
              "49858        Topic 3                 0.65   \n",
              "49859        Topic 3                 0.57   \n",
              "49860        Topic 3                 0.65   \n",
              "49861        Topic 3                 0.57   \n",
              "49862        Topic 3                 0.57   \n",
              "\n",
              "                                             nltk_scores  nltk_cmp_score  \\\n",
              "0      {'neg': 0.0, 'neu': 0.686, 'pos': 0.314, 'comp...          0.4939   \n",
              "1      {'neg': 0.565, 'neu': 0.435, 'pos': 0.0, 'comp...         -0.3818   \n",
              "2      {'neg': 0.0, 'neu': 0.0, 'pos': 1.0, 'compound...          0.3400   \n",
              "3      {'neg': 0.0, 'neu': 0.238, 'pos': 0.762, 'comp...          0.4939   \n",
              "4      {'neg': 0.0, 'neu': 1.0, 'pos': 0.0, 'compound...          0.0000   \n",
              "...                                                  ...             ...   \n",
              "49858  {'neg': 0.161, 'neu': 0.46, 'pos': 0.379, 'com...          0.4404   \n",
              "49859  {'neg': 0.0, 'neu': 0.548, 'pos': 0.452, 'comp...          0.5106   \n",
              "49860  {'neg': 0.161, 'neu': 0.46, 'pos': 0.379, 'com...          0.4404   \n",
              "49861  {'neg': 0.161, 'neu': 0.46, 'pos': 0.379, 'com...          0.4404   \n",
              "49862  {'neg': 0.0, 'neu': 0.548, 'pos': 0.452, 'comp...          0.5106   \n",
              "\n",
              "      nltk_sentiment  textblob_score textblob_sentiment  \\\n",
              "0           Positive        0.136364           Positive   \n",
              "1           Negative        0.000000            Neutral   \n",
              "2           Positive        0.375000           Positive   \n",
              "3           Positive        0.000000            Neutral   \n",
              "4            Neutral        0.000000            Neutral   \n",
              "...              ...             ...                ...   \n",
              "49858       Positive        0.400000           Positive   \n",
              "49859       Positive        0.400000           Positive   \n",
              "49860       Positive        0.400000           Positive   \n",
              "49861       Positive        0.400000           Positive   \n",
              "49862       Positive        0.400000           Positive   \n",
              "\n",
              "                 topic_aspects  \n",
              "0      Administration Coverage  \n",
              "1               Usage Approval  \n",
              "2              Clinical Trials  \n",
              "3              Clinical Trials  \n",
              "4      Administration Coverage  \n",
              "...                        ...  \n",
              "49858        Dose Availability  \n",
              "49859        Dose Availability  \n",
              "49860        Dose Availability  \n",
              "49861        Dose Availability  \n",
              "49862        Dose Availability  \n",
              "\n",
              "[49807 rows x 12 columns]"
            ],
            "text/html": [
              "\n",
              "  <div id=\"df-7c38b5c1-ad3b-4755-b8e9-e1c8257781e6\">\n",
              "    <div class=\"colab-df-container\">\n",
              "      <div>\n",
              "<style scoped>\n",
              "    .dataframe tbody tr th:only-of-type {\n",
              "        vertical-align: middle;\n",
              "    }\n",
              "\n",
              "    .dataframe tbody tr th {\n",
              "        vertical-align: top;\n",
              "    }\n",
              "\n",
              "    .dataframe thead th {\n",
              "        text-align: right;\n",
              "    }\n",
              "</style>\n",
              "<table border=\"1\" class=\"dataframe\">\n",
              "  <thead>\n",
              "    <tr style=\"text-align: right;\">\n",
              "      <th></th>\n",
              "      <th>text</th>\n",
              "      <th>date</th>\n",
              "      <th>user_country</th>\n",
              "      <th>text_cleaned</th>\n",
              "      <th>Dominant_Topic</th>\n",
              "      <th>Perc_Dominant_Topic</th>\n",
              "      <th>nltk_scores</th>\n",
              "      <th>nltk_cmp_score</th>\n",
              "      <th>nltk_sentiment</th>\n",
              "      <th>textblob_score</th>\n",
              "      <th>textblob_sentiment</th>\n",
              "      <th>topic_aspects</th>\n",
              "    </tr>\n",
              "  </thead>\n",
              "  <tbody>\n",
              "    <tr>\n",
              "      <th>0</th>\n",
              "      <td>The agency also released new information for h...</td>\n",
              "      <td>12/12/2020 17:45</td>\n",
              "      <td>India</td>\n",
              "      <td>release new information health care provider p...</td>\n",
              "      <td>Topic 1</td>\n",
              "      <td>0.80</td>\n",
              "      <td>{'neg': 0.0, 'neu': 0.686, 'pos': 0.314, 'comp...</td>\n",
              "      <td>0.4939</td>\n",
              "      <td>Positive</td>\n",
              "      <td>0.136364</td>\n",
              "      <td>Positive</td>\n",
              "      <td>Administration Coverage</td>\n",
              "    </tr>\n",
              "    <tr>\n",
              "      <th>1</th>\n",
              "      <td>The US Food and Drug Administration (FDA) has ...</td>\n",
              "      <td>12/12/2020 14:58</td>\n",
              "      <td>India</td>\n",
              "      <td>emergency authorization mrna</td>\n",
              "      <td>Topic 4</td>\n",
              "      <td>0.80</td>\n",
              "      <td>{'neg': 0.565, 'neu': 0.435, 'pos': 0.0, 'comp...</td>\n",
              "      <td>-0.3818</td>\n",
              "      <td>Negative</td>\n",
              "      <td>0.000000</td>\n",
              "      <td>Neutral</td>\n",
              "      <td>Usage Approval</td>\n",
              "    </tr>\n",
              "    <tr>\n",
              "      <th>2</th>\n",
              "      <td>I’ve never been so excited to get a vaccine 💉💉...</td>\n",
              "      <td>12/14/2020 23:48</td>\n",
              "      <td>India</td>\n",
              "      <td>excited</td>\n",
              "      <td>Topic 0</td>\n",
              "      <td>0.60</td>\n",
              "      <td>{'neg': 0.0, 'neu': 0.0, 'pos': 1.0, 'compound...</td>\n",
              "      <td>0.3400</td>\n",
              "      <td>Positive</td>\n",
              "      <td>0.375000</td>\n",
              "      <td>Positive</td>\n",
              "      <td>Clinical Trials</td>\n",
              "    </tr>\n",
              "    <tr>\n",
              "      <th>3</th>\n",
              "      <td>#UgurSahin #ozlemtureci the #Muslim Scientists...</td>\n",
              "      <td>12/14/2020 20:00</td>\n",
              "      <td>India</td>\n",
              "      <td>save world</td>\n",
              "      <td>Topic 0</td>\n",
              "      <td>0.73</td>\n",
              "      <td>{'neg': 0.0, 'neu': 0.238, 'pos': 0.762, 'comp...</td>\n",
              "      <td>0.4939</td>\n",
              "      <td>Positive</td>\n",
              "      <td>0.000000</td>\n",
              "      <td>Neutral</td>\n",
              "      <td>Clinical Trials</td>\n",
              "    </tr>\n",
              "    <tr>\n",
              "      <th>4</th>\n",
              "      <td>Toronto to receive Ontario's 1st doses of Pfiz...</td>\n",
              "      <td>12/14/2020 18:27</td>\n",
              "      <td>India</td>\n",
              "      <td>covid vaccine today</td>\n",
              "      <td>Topic 1</td>\n",
              "      <td>0.51</td>\n",
              "      <td>{'neg': 0.0, 'neu': 1.0, 'pos': 0.0, 'compound...</td>\n",
              "      <td>0.0000</td>\n",
              "      <td>Neutral</td>\n",
              "      <td>0.000000</td>\n",
              "      <td>Neutral</td>\n",
              "      <td>Administration Coverage</td>\n",
              "    </tr>\n",
              "    <tr>\n",
              "      <th>...</th>\n",
              "      <td>...</td>\n",
              "      <td>...</td>\n",
              "      <td>...</td>\n",
              "      <td>...</td>\n",
              "      <td>...</td>\n",
              "      <td>...</td>\n",
              "      <td>...</td>\n",
              "      <td>...</td>\n",
              "      <td>...</td>\n",
              "      <td>...</td>\n",
              "      <td>...</td>\n",
              "      <td>...</td>\n",
              "    </tr>\n",
              "    <tr>\n",
              "      <th>49858</th>\n",
              "      <td>45+ #URBAN #Bengaluru #CovidVaccine Availabili...</td>\n",
              "      <td>11/17/2021 6:00</td>\n",
              "      <td>India</td>\n",
              "      <td>availability free slot pay slot dose</td>\n",
              "      <td>Topic 3</td>\n",
              "      <td>0.65</td>\n",
              "      <td>{'neg': 0.161, 'neu': 0.46, 'pos': 0.379, 'com...</td>\n",
              "      <td>0.4404</td>\n",
              "      <td>Positive</td>\n",
              "      <td>0.400000</td>\n",
              "      <td>Positive</td>\n",
              "      <td>Dose Availability</td>\n",
              "    </tr>\n",
              "    <tr>\n",
              "      <th>49859</th>\n",
              "      <td>18-44 #BBMP #Bengaluru #CovidVaccine Availabil...</td>\n",
              "      <td>11/17/2021 5:30</td>\n",
              "      <td>India</td>\n",
              "      <td>availability free slot dose dose</td>\n",
              "      <td>Topic 3</td>\n",
              "      <td>0.57</td>\n",
              "      <td>{'neg': 0.0, 'neu': 0.548, 'pos': 0.452, 'comp...</td>\n",
              "      <td>0.5106</td>\n",
              "      <td>Positive</td>\n",
              "      <td>0.400000</td>\n",
              "      <td>Positive</td>\n",
              "      <td>Dose Availability</td>\n",
              "    </tr>\n",
              "    <tr>\n",
              "      <th>49860</th>\n",
              "      <td>18-44 #URBAN #Bengaluru #CovidVaccine Availabi...</td>\n",
              "      <td>11/17/2021 5:30</td>\n",
              "      <td>India</td>\n",
              "      <td>availability free slot pay slot dose</td>\n",
              "      <td>Topic 3</td>\n",
              "      <td>0.65</td>\n",
              "      <td>{'neg': 0.161, 'neu': 0.46, 'pos': 0.379, 'com...</td>\n",
              "      <td>0.4404</td>\n",
              "      <td>Positive</td>\n",
              "      <td>0.400000</td>\n",
              "      <td>Positive</td>\n",
              "      <td>Dose Availability</td>\n",
              "    </tr>\n",
              "    <tr>\n",
              "      <th>49861</th>\n",
              "      <td>45+ #URBAN #Bengaluru #CovidVaccine Availabili...</td>\n",
              "      <td>11/17/2021 5:00</td>\n",
              "      <td>India</td>\n",
              "      <td>availability free slot pay slot dose</td>\n",
              "      <td>Topic 3</td>\n",
              "      <td>0.57</td>\n",
              "      <td>{'neg': 0.161, 'neu': 0.46, 'pos': 0.379, 'com...</td>\n",
              "      <td>0.4404</td>\n",
              "      <td>Positive</td>\n",
              "      <td>0.400000</td>\n",
              "      <td>Positive</td>\n",
              "      <td>Dose Availability</td>\n",
              "    </tr>\n",
              "    <tr>\n",
              "      <th>49862</th>\n",
              "      <td>18-44 #BBMP #Bengaluru #CovidVaccine Availabil...</td>\n",
              "      <td>11/17/2021 4:30</td>\n",
              "      <td>India</td>\n",
              "      <td>availability free slot dose dose</td>\n",
              "      <td>Topic 3</td>\n",
              "      <td>0.57</td>\n",
              "      <td>{'neg': 0.0, 'neu': 0.548, 'pos': 0.452, 'comp...</td>\n",
              "      <td>0.5106</td>\n",
              "      <td>Positive</td>\n",
              "      <td>0.400000</td>\n",
              "      <td>Positive</td>\n",
              "      <td>Dose Availability</td>\n",
              "    </tr>\n",
              "  </tbody>\n",
              "</table>\n",
              "<p>49807 rows × 12 columns</p>\n",
              "</div>\n",
              "      <button class=\"colab-df-convert\" onclick=\"convertToInteractive('df-7c38b5c1-ad3b-4755-b8e9-e1c8257781e6')\"\n",
              "              title=\"Convert this dataframe to an interactive table.\"\n",
              "              style=\"display:none;\">\n",
              "        \n",
              "  <svg xmlns=\"http://www.w3.org/2000/svg\" height=\"24px\"viewBox=\"0 0 24 24\"\n",
              "       width=\"24px\">\n",
              "    <path d=\"M0 0h24v24H0V0z\" fill=\"none\"/>\n",
              "    <path d=\"M18.56 5.44l.94 2.06.94-2.06 2.06-.94-2.06-.94-.94-2.06-.94 2.06-2.06.94zm-11 1L8.5 8.5l.94-2.06 2.06-.94-2.06-.94L8.5 2.5l-.94 2.06-2.06.94zm10 10l.94 2.06.94-2.06 2.06-.94-2.06-.94-.94-2.06-.94 2.06-2.06.94z\"/><path d=\"M17.41 7.96l-1.37-1.37c-.4-.4-.92-.59-1.43-.59-.52 0-1.04.2-1.43.59L10.3 9.45l-7.72 7.72c-.78.78-.78 2.05 0 2.83L4 21.41c.39.39.9.59 1.41.59.51 0 1.02-.2 1.41-.59l7.78-7.78 2.81-2.81c.8-.78.8-2.07 0-2.86zM5.41 20L4 18.59l7.72-7.72 1.47 1.35L5.41 20z\"/>\n",
              "  </svg>\n",
              "      </button>\n",
              "      \n",
              "  <style>\n",
              "    .colab-df-container {\n",
              "      display:flex;\n",
              "      flex-wrap:wrap;\n",
              "      gap: 12px;\n",
              "    }\n",
              "\n",
              "    .colab-df-convert {\n",
              "      background-color: #E8F0FE;\n",
              "      border: none;\n",
              "      border-radius: 50%;\n",
              "      cursor: pointer;\n",
              "      display: none;\n",
              "      fill: #1967D2;\n",
              "      height: 32px;\n",
              "      padding: 0 0 0 0;\n",
              "      width: 32px;\n",
              "    }\n",
              "\n",
              "    .colab-df-convert:hover {\n",
              "      background-color: #E2EBFA;\n",
              "      box-shadow: 0px 1px 2px rgba(60, 64, 67, 0.3), 0px 1px 3px 1px rgba(60, 64, 67, 0.15);\n",
              "      fill: #174EA6;\n",
              "    }\n",
              "\n",
              "    [theme=dark] .colab-df-convert {\n",
              "      background-color: #3B4455;\n",
              "      fill: #D2E3FC;\n",
              "    }\n",
              "\n",
              "    [theme=dark] .colab-df-convert:hover {\n",
              "      background-color: #434B5C;\n",
              "      box-shadow: 0px 1px 3px 1px rgba(0, 0, 0, 0.15);\n",
              "      filter: drop-shadow(0px 1px 2px rgba(0, 0, 0, 0.3));\n",
              "      fill: #FFFFFF;\n",
              "    }\n",
              "  </style>\n",
              "\n",
              "      <script>\n",
              "        const buttonEl =\n",
              "          document.querySelector('#df-7c38b5c1-ad3b-4755-b8e9-e1c8257781e6 button.colab-df-convert');\n",
              "        buttonEl.style.display =\n",
              "          google.colab.kernel.accessAllowed ? 'block' : 'none';\n",
              "\n",
              "        async function convertToInteractive(key) {\n",
              "          const element = document.querySelector('#df-7c38b5c1-ad3b-4755-b8e9-e1c8257781e6');\n",
              "          const dataTable =\n",
              "            await google.colab.kernel.invokeFunction('convertToInteractive',\n",
              "                                                     [key], {});\n",
              "          if (!dataTable) return;\n",
              "\n",
              "          const docLinkHtml = 'Like what you see? Visit the ' +\n",
              "            '<a target=\"_blank\" href=https://colab.research.google.com/notebooks/data_table.ipynb>data table notebook</a>'\n",
              "            + ' to learn more about interactive tables.';\n",
              "          element.innerHTML = '';\n",
              "          dataTable['output_type'] = 'display_data';\n",
              "          await google.colab.output.renderOutput(dataTable, element);\n",
              "          const docLink = document.createElement('div');\n",
              "          docLink.innerHTML = docLinkHtml;\n",
              "          element.appendChild(docLink);\n",
              "        }\n",
              "      </script>\n",
              "    </div>\n",
              "  </div>\n",
              "  "
            ]
          },
          "metadata": {},
          "execution_count": 139
        }
      ]
    },
    {
      "cell_type": "markdown",
      "source": [
        "# Model"
      ],
      "metadata": {
        "id": "8oK6APb8gvuk"
      }
    },
    {
      "cell_type": "markdown",
      "source": [
        "Vader"
      ],
      "metadata": {
        "id": "gIn6Mga-j6iA"
      }
    },
    {
      "cell_type": "code",
      "source": [
        "tweets_data = tweets_df[['text','text_cleaned','nltk_cmp_score','nltk_sentiment','textblob_score','textblob_sentiment','Dominant_Topic_rev']]"
      ],
      "metadata": {
        "id": "Skl-PZxojuoB"
      },
      "execution_count": null,
      "outputs": []
    },
    {
      "cell_type": "code",
      "source": [
        "tweets_data"
      ],
      "metadata": {
        "colab": {
          "base_uri": "https://localhost:8080/",
          "height": 423
        },
        "id": "VKBcvNMGlYNP",
        "outputId": "5452569d-86eb-4667-828b-82bbb7a6d831"
      },
      "execution_count": null,
      "outputs": [
        {
          "output_type": "execute_result",
          "data": {
            "text/plain": [
              "                                                    text  \\\n",
              "0      The agency also released new information for h...   \n",
              "1      The US Food and Drug Administration (FDA) has ...   \n",
              "2      I’ve never been so excited to get a vaccine 💉💉...   \n",
              "3      #UgurSahin #ozlemtureci the #Muslim Scientists...   \n",
              "4      Toronto to receive Ontario's 1st doses of Pfiz...   \n",
              "...                                                  ...   \n",
              "49858  45+ #URBAN #Bengaluru #CovidVaccine Availabili...   \n",
              "49859  18-44 #BBMP #Bengaluru #CovidVaccine Availabil...   \n",
              "49860  18-44 #URBAN #Bengaluru #CovidVaccine Availabi...   \n",
              "49861  45+ #URBAN #Bengaluru #CovidVaccine Availabili...   \n",
              "49862  18-44 #BBMP #Bengaluru #CovidVaccine Availabil...   \n",
              "\n",
              "                                                text_nlp  nltk_cmp_score  \\\n",
              "0      release new information health care provider p...          0.4939   \n",
              "1                           emergency authorization mrna         -0.3818   \n",
              "2                                                excited          0.3400   \n",
              "3                                             save world          0.4939   \n",
              "4                                    covid vaccine today          0.0000   \n",
              "...                                                  ...             ...   \n",
              "49858               availability free slot pay slot dose          0.4404   \n",
              "49859                   availability free slot dose dose          0.5106   \n",
              "49860               availability free slot pay slot dose          0.4404   \n",
              "49861               availability free slot pay slot dose          0.4404   \n",
              "49862                   availability free slot dose dose          0.5106   \n",
              "\n",
              "      nltk_sentiment  textblob_score textblob_sentiment  \\\n",
              "0           Positive        0.136364           Positive   \n",
              "1           Negative        0.000000            Neutral   \n",
              "2           Positive        0.375000           Positive   \n",
              "3           Positive        0.000000            Neutral   \n",
              "4            Neutral        0.000000            Neutral   \n",
              "...              ...             ...                ...   \n",
              "49858       Positive        0.400000           Positive   \n",
              "49859       Positive        0.400000           Positive   \n",
              "49860       Positive        0.400000           Positive   \n",
              "49861       Positive        0.400000           Positive   \n",
              "49862       Positive        0.400000           Positive   \n",
              "\n",
              "            Dominant_Topic_rev  \n",
              "0      Administration Coverage  \n",
              "1               Usage Approval  \n",
              "2              Clinical Trials  \n",
              "3              Clinical Trials  \n",
              "4      Administration Coverage  \n",
              "...                        ...  \n",
              "49858        Dose Availability  \n",
              "49859        Dose Availability  \n",
              "49860        Dose Availability  \n",
              "49861        Dose Availability  \n",
              "49862        Dose Availability  \n",
              "\n",
              "[49807 rows x 7 columns]"
            ],
            "text/html": [
              "\n",
              "  <div id=\"df-b5469888-28f3-489e-8b94-84616bc39ef5\">\n",
              "    <div class=\"colab-df-container\">\n",
              "      <div>\n",
              "<style scoped>\n",
              "    .dataframe tbody tr th:only-of-type {\n",
              "        vertical-align: middle;\n",
              "    }\n",
              "\n",
              "    .dataframe tbody tr th {\n",
              "        vertical-align: top;\n",
              "    }\n",
              "\n",
              "    .dataframe thead th {\n",
              "        text-align: right;\n",
              "    }\n",
              "</style>\n",
              "<table border=\"1\" class=\"dataframe\">\n",
              "  <thead>\n",
              "    <tr style=\"text-align: right;\">\n",
              "      <th></th>\n",
              "      <th>text</th>\n",
              "      <th>text_nlp</th>\n",
              "      <th>nltk_cmp_score</th>\n",
              "      <th>nltk_sentiment</th>\n",
              "      <th>textblob_score</th>\n",
              "      <th>textblob_sentiment</th>\n",
              "      <th>Dominant_Topic_rev</th>\n",
              "    </tr>\n",
              "  </thead>\n",
              "  <tbody>\n",
              "    <tr>\n",
              "      <th>0</th>\n",
              "      <td>The agency also released new information for h...</td>\n",
              "      <td>release new information health care provider p...</td>\n",
              "      <td>0.4939</td>\n",
              "      <td>Positive</td>\n",
              "      <td>0.136364</td>\n",
              "      <td>Positive</td>\n",
              "      <td>Administration Coverage</td>\n",
              "    </tr>\n",
              "    <tr>\n",
              "      <th>1</th>\n",
              "      <td>The US Food and Drug Administration (FDA) has ...</td>\n",
              "      <td>emergency authorization mrna</td>\n",
              "      <td>-0.3818</td>\n",
              "      <td>Negative</td>\n",
              "      <td>0.000000</td>\n",
              "      <td>Neutral</td>\n",
              "      <td>Usage Approval</td>\n",
              "    </tr>\n",
              "    <tr>\n",
              "      <th>2</th>\n",
              "      <td>I’ve never been so excited to get a vaccine 💉💉...</td>\n",
              "      <td>excited</td>\n",
              "      <td>0.3400</td>\n",
              "      <td>Positive</td>\n",
              "      <td>0.375000</td>\n",
              "      <td>Positive</td>\n",
              "      <td>Clinical Trials</td>\n",
              "    </tr>\n",
              "    <tr>\n",
              "      <th>3</th>\n",
              "      <td>#UgurSahin #ozlemtureci the #Muslim Scientists...</td>\n",
              "      <td>save world</td>\n",
              "      <td>0.4939</td>\n",
              "      <td>Positive</td>\n",
              "      <td>0.000000</td>\n",
              "      <td>Neutral</td>\n",
              "      <td>Clinical Trials</td>\n",
              "    </tr>\n",
              "    <tr>\n",
              "      <th>4</th>\n",
              "      <td>Toronto to receive Ontario's 1st doses of Pfiz...</td>\n",
              "      <td>covid vaccine today</td>\n",
              "      <td>0.0000</td>\n",
              "      <td>Neutral</td>\n",
              "      <td>0.000000</td>\n",
              "      <td>Neutral</td>\n",
              "      <td>Administration Coverage</td>\n",
              "    </tr>\n",
              "    <tr>\n",
              "      <th>...</th>\n",
              "      <td>...</td>\n",
              "      <td>...</td>\n",
              "      <td>...</td>\n",
              "      <td>...</td>\n",
              "      <td>...</td>\n",
              "      <td>...</td>\n",
              "      <td>...</td>\n",
              "    </tr>\n",
              "    <tr>\n",
              "      <th>49858</th>\n",
              "      <td>45+ #URBAN #Bengaluru #CovidVaccine Availabili...</td>\n",
              "      <td>availability free slot pay slot dose</td>\n",
              "      <td>0.4404</td>\n",
              "      <td>Positive</td>\n",
              "      <td>0.400000</td>\n",
              "      <td>Positive</td>\n",
              "      <td>Dose Availability</td>\n",
              "    </tr>\n",
              "    <tr>\n",
              "      <th>49859</th>\n",
              "      <td>18-44 #BBMP #Bengaluru #CovidVaccine Availabil...</td>\n",
              "      <td>availability free slot dose dose</td>\n",
              "      <td>0.5106</td>\n",
              "      <td>Positive</td>\n",
              "      <td>0.400000</td>\n",
              "      <td>Positive</td>\n",
              "      <td>Dose Availability</td>\n",
              "    </tr>\n",
              "    <tr>\n",
              "      <th>49860</th>\n",
              "      <td>18-44 #URBAN #Bengaluru #CovidVaccine Availabi...</td>\n",
              "      <td>availability free slot pay slot dose</td>\n",
              "      <td>0.4404</td>\n",
              "      <td>Positive</td>\n",
              "      <td>0.400000</td>\n",
              "      <td>Positive</td>\n",
              "      <td>Dose Availability</td>\n",
              "    </tr>\n",
              "    <tr>\n",
              "      <th>49861</th>\n",
              "      <td>45+ #URBAN #Bengaluru #CovidVaccine Availabili...</td>\n",
              "      <td>availability free slot pay slot dose</td>\n",
              "      <td>0.4404</td>\n",
              "      <td>Positive</td>\n",
              "      <td>0.400000</td>\n",
              "      <td>Positive</td>\n",
              "      <td>Dose Availability</td>\n",
              "    </tr>\n",
              "    <tr>\n",
              "      <th>49862</th>\n",
              "      <td>18-44 #BBMP #Bengaluru #CovidVaccine Availabil...</td>\n",
              "      <td>availability free slot dose dose</td>\n",
              "      <td>0.5106</td>\n",
              "      <td>Positive</td>\n",
              "      <td>0.400000</td>\n",
              "      <td>Positive</td>\n",
              "      <td>Dose Availability</td>\n",
              "    </tr>\n",
              "  </tbody>\n",
              "</table>\n",
              "<p>49807 rows × 7 columns</p>\n",
              "</div>\n",
              "      <button class=\"colab-df-convert\" onclick=\"convertToInteractive('df-b5469888-28f3-489e-8b94-84616bc39ef5')\"\n",
              "              title=\"Convert this dataframe to an interactive table.\"\n",
              "              style=\"display:none;\">\n",
              "        \n",
              "  <svg xmlns=\"http://www.w3.org/2000/svg\" height=\"24px\"viewBox=\"0 0 24 24\"\n",
              "       width=\"24px\">\n",
              "    <path d=\"M0 0h24v24H0V0z\" fill=\"none\"/>\n",
              "    <path d=\"M18.56 5.44l.94 2.06.94-2.06 2.06-.94-2.06-.94-.94-2.06-.94 2.06-2.06.94zm-11 1L8.5 8.5l.94-2.06 2.06-.94-2.06-.94L8.5 2.5l-.94 2.06-2.06.94zm10 10l.94 2.06.94-2.06 2.06-.94-2.06-.94-.94-2.06-.94 2.06-2.06.94z\"/><path d=\"M17.41 7.96l-1.37-1.37c-.4-.4-.92-.59-1.43-.59-.52 0-1.04.2-1.43.59L10.3 9.45l-7.72 7.72c-.78.78-.78 2.05 0 2.83L4 21.41c.39.39.9.59 1.41.59.51 0 1.02-.2 1.41-.59l7.78-7.78 2.81-2.81c.8-.78.8-2.07 0-2.86zM5.41 20L4 18.59l7.72-7.72 1.47 1.35L5.41 20z\"/>\n",
              "  </svg>\n",
              "      </button>\n",
              "      \n",
              "  <style>\n",
              "    .colab-df-container {\n",
              "      display:flex;\n",
              "      flex-wrap:wrap;\n",
              "      gap: 12px;\n",
              "    }\n",
              "\n",
              "    .colab-df-convert {\n",
              "      background-color: #E8F0FE;\n",
              "      border: none;\n",
              "      border-radius: 50%;\n",
              "      cursor: pointer;\n",
              "      display: none;\n",
              "      fill: #1967D2;\n",
              "      height: 32px;\n",
              "      padding: 0 0 0 0;\n",
              "      width: 32px;\n",
              "    }\n",
              "\n",
              "    .colab-df-convert:hover {\n",
              "      background-color: #E2EBFA;\n",
              "      box-shadow: 0px 1px 2px rgba(60, 64, 67, 0.3), 0px 1px 3px 1px rgba(60, 64, 67, 0.15);\n",
              "      fill: #174EA6;\n",
              "    }\n",
              "\n",
              "    [theme=dark] .colab-df-convert {\n",
              "      background-color: #3B4455;\n",
              "      fill: #D2E3FC;\n",
              "    }\n",
              "\n",
              "    [theme=dark] .colab-df-convert:hover {\n",
              "      background-color: #434B5C;\n",
              "      box-shadow: 0px 1px 3px 1px rgba(0, 0, 0, 0.15);\n",
              "      filter: drop-shadow(0px 1px 2px rgba(0, 0, 0, 0.3));\n",
              "      fill: #FFFFFF;\n",
              "    }\n",
              "  </style>\n",
              "\n",
              "      <script>\n",
              "        const buttonEl =\n",
              "          document.querySelector('#df-b5469888-28f3-489e-8b94-84616bc39ef5 button.colab-df-convert');\n",
              "        buttonEl.style.display =\n",
              "          google.colab.kernel.accessAllowed ? 'block' : 'none';\n",
              "\n",
              "        async function convertToInteractive(key) {\n",
              "          const element = document.querySelector('#df-b5469888-28f3-489e-8b94-84616bc39ef5');\n",
              "          const dataTable =\n",
              "            await google.colab.kernel.invokeFunction('convertToInteractive',\n",
              "                                                     [key], {});\n",
              "          if (!dataTable) return;\n",
              "\n",
              "          const docLinkHtml = 'Like what you see? Visit the ' +\n",
              "            '<a target=\"_blank\" href=https://colab.research.google.com/notebooks/data_table.ipynb>data table notebook</a>'\n",
              "            + ' to learn more about interactive tables.';\n",
              "          element.innerHTML = '';\n",
              "          dataTable['output_type'] = 'display_data';\n",
              "          await google.colab.output.renderOutput(dataTable, element);\n",
              "          const docLink = document.createElement('div');\n",
              "          docLink.innerHTML = docLinkHtml;\n",
              "          element.appendChild(docLink);\n",
              "        }\n",
              "      </script>\n",
              "    </div>\n",
              "  </div>\n",
              "  "
            ]
          },
          "metadata": {},
          "execution_count": 141
        }
      ]
    },
    {
      "cell_type": "code",
      "source": [
        "tweets_data.rename(columns = {'text_cleaned':'text_nlp'}, inplace = True)\n"
      ],
      "metadata": {
        "colab": {
          "base_uri": "https://localhost:8080/"
        },
        "id": "ezOMicIUlKNK",
        "outputId": "3bec6d1e-5a81-4642-c734-c259442b2696"
      },
      "execution_count": null,
      "outputs": [
        {
          "output_type": "stream",
          "name": "stderr",
          "text": [
            "/usr/local/lib/python3.8/dist-packages/pandas/core/frame.py:5039: SettingWithCopyWarning: \n",
            "A value is trying to be set on a copy of a slice from a DataFrame\n",
            "\n",
            "See the caveats in the documentation: https://pandas.pydata.org/pandas-docs/stable/user_guide/indexing.html#returning-a-view-versus-a-copy\n",
            "  return super().rename(\n"
          ]
        }
      ]
    },
    {
      "cell_type": "code",
      "source": [
        "#initialising dataset on which trianing is based\n",
        "X = tweets_data.text_nlp # get all the text in x variable\n",
        "y = tweets_data.nltk_sentiment # get all the sentiments into y variable\n",
        "print(X.shape) #print shape of x\n",
        "print(y.shape) # print shape of y"
      ],
      "metadata": {
        "colab": {
          "base_uri": "https://localhost:8080/"
        },
        "id": "HPExXRpDgy5L",
        "outputId": "ecdc57f4-f1bc-4eda-abd5-d8c510b29147"
      },
      "execution_count": null,
      "outputs": [
        {
          "output_type": "stream",
          "name": "stdout",
          "text": [
            "(49807,)\n",
            "(49807,)\n"
          ]
        }
      ]
    },
    {
      "cell_type": "code",
      "source": [
        "from sklearn.model_selection import train_test_split\n",
        "#from sklearn.cross_validation import train_test_split #from sklearn.cross_validation import train_test_split to split the data into training and tesing set\n",
        "X_train, X_test, y_train, y_test = train_test_split(X, y, test_size = 0.20, random_state= 1) # split the data into traing and testing set where ratio is 80:20"
      ],
      "metadata": {
        "id": "FpiOw70OgzC6"
      },
      "execution_count": null,
      "outputs": []
    },
    {
      "cell_type": "code",
      "source": [
        "#  import TF-idf vectorizer\n",
        "from sklearn.feature_extraction.text import TfidfVectorizer \n",
        "vect = TfidfVectorizer(analyzer = \"word\", ngram_range=(1,3))\n",
        "#transforming data to vector form to feed as input to the models\n",
        "vect.fit(X_train) # fit or traing data tweets to vect\n",
        "X_train_tm = vect.transform(X_train) # transform our training data tweets\n",
        "X_test_tm = vect.transform(X_test)# transform our testing data tweets"
      ],
      "metadata": {
        "id": "ldmkPLG8lslU"
      },
      "execution_count": null,
      "outputs": []
    },
    {
      "cell_type": "code",
      "source": [
        "# Oversample imbalanced dataset with SMOTE\n",
        "from collections import Counter\n",
        "counter = Counter(y_train)\n",
        "print(\"Imbalanced data:\",counter)\n",
        "from imblearn.over_sampling import SMOTE\n",
        "sm = SMOTE(random_state=2)\n",
        "X_train_res, y_train_res = sm.fit_resample(X_train_tm, y_train.ravel())\n",
        "counter = Counter(y_train_res)\n",
        "print(\"Balanced data:\",counter)"
      ],
      "metadata": {
        "colab": {
          "base_uri": "https://localhost:8080/"
        },
        "id": "TdEMW2fulvKM",
        "outputId": "c5ea8a7c-7809-4e77-c251-df6cada5105e"
      },
      "execution_count": null,
      "outputs": [
        {
          "output_type": "stream",
          "name": "stdout",
          "text": [
            "Imbalanced data: Counter({'Neutral': 24475, 'Positive': 12249, 'Negative': 3121})\n",
            "Balanced data: Counter({'Neutral': 24475, 'Negative': 24475, 'Positive': 24475})\n"
          ]
        }
      ]
    },
    {
      "cell_type": "code",
      "source": [
        "#Import modules to calculate accuracy and confusion matrix\n",
        "from sklearn.metrics import confusion_matrix, accuracy_score\n",
        "from sklearn.metrics import classification_report"
      ],
      "metadata": {
        "id": "4DZqMMeFlvNy"
      },
      "execution_count": null,
      "outputs": []
    },
    {
      "cell_type": "markdown",
      "source": [
        "**Logistic Regression**"
      ],
      "metadata": {
        "id": "1G4VHNhemnEK"
      }
    },
    {
      "cell_type": "code",
      "source": [
        "from sklearn.linear_model import LogisticRegression\n",
        "lr = LogisticRegression()"
      ],
      "metadata": {
        "id": "3GeBND1WlvTu"
      },
      "execution_count": null,
      "outputs": []
    },
    {
      "cell_type": "code",
      "source": [
        "lr.fit(X_train_res, y_train_res)\n",
        "pred_lr = lr.predict(X_test_tm)"
      ],
      "metadata": {
        "colab": {
          "base_uri": "https://localhost:8080/"
        },
        "id": "5GfolvIjlvZR",
        "outputId": "d55e1225-e17f-4b7d-ae58-825686b18144"
      },
      "execution_count": null,
      "outputs": [
        {
          "output_type": "stream",
          "name": "stderr",
          "text": [
            "/usr/local/lib/python3.8/dist-packages/sklearn/linear_model/_logistic.py:814: ConvergenceWarning: lbfgs failed to converge (status=1):\n",
            "STOP: TOTAL NO. of ITERATIONS REACHED LIMIT.\n",
            "\n",
            "Increase the number of iterations (max_iter) or scale the data as shown in:\n",
            "    https://scikit-learn.org/stable/modules/preprocessing.html\n",
            "Please also refer to the documentation for alternative solver options:\n",
            "    https://scikit-learn.org/stable/modules/linear_model.html#logistic-regression\n",
            "  n_iter_i = _check_optimize_result(\n"
          ]
        }
      ]
    },
    {
      "cell_type": "code",
      "source": [
        "accuracy = accuracy_score(y_test, pred_lr)\n",
        "print(\"LR: Test Accuracy: {:.2f}%\".format(accuracy * 100))\n",
        "print(classification_report(y_test,pred_lr))\n",
        "print(confusion_matrix(y_test,pred_lr))"
      ],
      "metadata": {
        "colab": {
          "base_uri": "https://localhost:8080/"
        },
        "id": "Kh-0RlR6lvdy",
        "outputId": "7875b20c-3b77-43b9-f366-53da6dd18514"
      },
      "execution_count": null,
      "outputs": [
        {
          "output_type": "stream",
          "name": "stdout",
          "text": [
            "LR: Test Accuracy: 94.46%\n",
            "              precision    recall  f1-score   support\n",
            "\n",
            "    Negative       0.84      0.82      0.83       835\n",
            "     Neutral       0.94      0.98      0.96      6073\n",
            "    Positive       0.98      0.90      0.94      3054\n",
            "\n",
            "    accuracy                           0.94      9962\n",
            "   macro avg       0.92      0.90      0.91      9962\n",
            "weighted avg       0.95      0.94      0.94      9962\n",
            "\n",
            "[[ 681  127   27]\n",
            " [  73 5971   29]\n",
            " [  54  242 2758]]\n"
          ]
        }
      ]
    },
    {
      "cell_type": "code",
      "source": [
        "from matplotlib import style\n",
        "style.use('ggplot')\n",
        "from sklearn.metrics import accuracy_score, classification_report, confusion_matrix, ConfusionMatrixDisplay"
      ],
      "metadata": {
        "id": "dhaOL190mt-i"
      },
      "execution_count": null,
      "outputs": []
    },
    {
      "cell_type": "code",
      "source": [
        "style.use('default')\n",
        "cm = confusion_matrix(y_test, pred_lr, labels=lr.classes_)\n",
        "disp = ConfusionMatrixDisplay(confusion_matrix = cm, display_labels=lr.classes_)\n",
        "disp.plot()"
      ],
      "metadata": {
        "colab": {
          "base_uri": "https://localhost:8080/",
          "height": 467
        },
        "id": "vSxJGdvBmv0A",
        "outputId": "6e5c128e-a7d2-49ac-ef11-19ad9ad60ac0"
      },
      "execution_count": null,
      "outputs": [
        {
          "output_type": "execute_result",
          "data": {
            "text/plain": [
              "<sklearn.metrics._plot.confusion_matrix.ConfusionMatrixDisplay at 0x7f3b385750a0>"
            ]
          },
          "metadata": {},
          "execution_count": 87
        },
        {
          "output_type": "display_data",
          "data": {
            "text/plain": [
              "<Figure size 640x480 with 2 Axes>"
            ],
            "image/png": "[encoded data removed]"
          },
          "metadata": {}
        }
      ]
    },
    {
      "cell_type": "markdown",
      "source": [
        "**Random Forest**"
      ],
      "metadata": {
        "id": "AH9wgZQCmy7t"
      }
    },
    {
      "cell_type": "code",
      "source": [
        "#random forest\n",
        "from sklearn.ensemble import RandomForestClassifier # import Random forest from sklearn\n",
        "rf = RandomForestClassifier()"
      ],
      "metadata": {
        "id": "onPcXAajm4F0"
      },
      "execution_count": null,
      "outputs": []
    },
    {
      "cell_type": "code",
      "source": [
        "rf.fit(X_train_res, y_train_res)"
      ],
      "metadata": {
        "colab": {
          "base_uri": "https://localhost:8080/"
        },
        "id": "w1u59Y0Hm4Kf",
        "outputId": "24de43e9-6f4c-4430-b4a9-d2b9cadb343e"
      },
      "execution_count": null,
      "outputs": [
        {
          "output_type": "execute_result",
          "data": {
            "text/plain": [
              "RandomForestClassifier()"
            ]
          },
          "metadata": {},
          "execution_count": 89
        }
      ]
    },
    {
      "cell_type": "code",
      "source": [
        "rf_pred = rf.predict(X_test_tm)"
      ],
      "metadata": {
        "id": "rAuohnvem4OL"
      },
      "execution_count": null,
      "outputs": []
    },
    {
      "cell_type": "code",
      "source": [
        "accuracy = accuracy_score(y_test, rf_pred)\n",
        "print(\"RF: Test Accuracy: {:.2f}%\".format(accuracy * 100))\n",
        "print(classification_report(y_test,rf_pred))\n",
        "print(confusion_matrix(y_test,rf_pred))"
      ],
      "metadata": {
        "colab": {
          "base_uri": "https://localhost:8080/"
        },
        "id": "0N9gju21m4Vn",
        "outputId": "67f3dbe7-7ce6-47ed-bca2-e76bd9f9172d"
      },
      "execution_count": null,
      "outputs": [
        {
          "output_type": "stream",
          "name": "stdout",
          "text": [
            "RF: Test Accuracy: 93.03%\n",
            "              precision    recall  f1-score   support\n",
            "\n",
            "    Negative       0.92      0.68      0.78       835\n",
            "     Neutral       0.91      0.99      0.95      6073\n",
            "    Positive       0.98      0.87      0.92      3054\n",
            "\n",
            "    accuracy                           0.93      9962\n",
            "   macro avg       0.94      0.85      0.89      9962\n",
            "weighted avg       0.93      0.93      0.93      9962\n",
            "\n",
            "[[ 571  235   29]\n",
            " [  15 6042   16]\n",
            " [  35  364 2655]]\n"
          ]
        }
      ]
    },
    {
      "cell_type": "code",
      "source": [],
      "metadata": {
        "id": "GWuS7s3-m4jA"
      },
      "execution_count": null,
      "outputs": []
    },
    {
      "cell_type": "markdown",
      "source": [
        "**Naive Bayes**\n",
        "\n"
      ],
      "metadata": {
        "id": "6PiQVxmYna0c"
      }
    },
    {
      "cell_type": "code",
      "source": [
        "from sklearn.naive_bayes import MultinomialNB # import Multinomial Naive Bayes model from sklearn.naive_bayes\n",
        "nb = MultinomialNB(alpha = 10) # get object of Multinomial naive bayes model with alpha parameter = 10\n",
        "nb.fit(X_train_res, y_train_res)# fit our both traing data tweets as well as its sentiments to the multinomial naive bayes mod\n",
        "y_pred_nb = nb.predict(X_test_tm) # predict the sentiments of testing data tweets"
      ],
      "metadata": {
        "id": "--7BEUW9ncbA"
      },
      "execution_count": null,
      "outputs": []
    },
    {
      "cell_type": "code",
      "source": [
        "accuracy = accuracy_score(y_test, y_pred_nb)\n",
        "print(\"NB: Test Accuracy: {:.2f}%\".format(accuracy * 100))\n",
        "print(classification_report(y_test,y_pred_nb))\n",
        "print(confusion_matrix(y_test,y_pred_nb))"
      ],
      "metadata": {
        "colab": {
          "base_uri": "https://localhost:8080/"
        },
        "id": "hqXNjDApnf1Q",
        "outputId": "1a6bd7dd-815c-44f5-c12f-bfcc083304bf"
      },
      "execution_count": null,
      "outputs": [
        {
          "output_type": "stream",
          "name": "stdout",
          "text": [
            "NB: Test Accuracy: 80.76%\n",
            "              precision    recall  f1-score   support\n",
            "\n",
            "    Negative       0.35      0.93      0.51       835\n",
            "     Neutral       0.94      0.79      0.86      6073\n",
            "    Positive       0.94      0.80      0.86      3054\n",
            "\n",
            "    accuracy                           0.81      9962\n",
            "   macro avg       0.74      0.84      0.74      9962\n",
            "weighted avg       0.89      0.81      0.83      9962\n",
            "\n",
            "[[ 774   44   17]\n",
            " [1100 4823  150]\n",
            " [ 344  262 2448]]\n"
          ]
        }
      ]
    },
    {
      "cell_type": "code",
      "source": [
        "from sklearn.model_selection import cross_val_score  # import cross_val_score from sklear.model_selection\n",
        "accuracies = cross_val_score(estimator = nb, X = X_train_res, y = y_train_res, cv = 10) # do K- fold cross validation on our traing data and its sentimenst with 10 fold cross validation\n",
        "accuracies.mean()"
      ],
      "metadata": {
        "colab": {
          "base_uri": "https://localhost:8080/"
        },
        "id": "g3y8CkHYniy6",
        "outputId": "f6e62678-967d-4428-f5a5-3a2e5744621b"
      },
      "execution_count": null,
      "outputs": [
        {
          "output_type": "execute_result",
          "data": {
            "text/plain": [
              "0.881703257137619"
            ]
          },
          "metadata": {},
          "execution_count": 94
        }
      ]
    },
    {
      "cell_type": "code",
      "source": [],
      "metadata": {
        "id": "6fBTlZgFnk_P"
      },
      "execution_count": null,
      "outputs": []
    },
    {
      "cell_type": "markdown",
      "source": [
        "**Linear SVM**"
      ],
      "metadata": {
        "id": "5S4BcOkAnlV7"
      }
    },
    {
      "cell_type": "code",
      "source": [
        "from sklearn.svm import LinearSVC # import SVC model from sklearn.svm\n",
        "svm_clf = LinearSVC(random_state=0) # get object of SVC model with random_state parameter = 0"
      ],
      "metadata": {
        "id": "dsy1e0jCnl6q"
      },
      "execution_count": null,
      "outputs": []
    },
    {
      "cell_type": "code",
      "source": [
        "svm_clf.fit(X_train_res, y_train_res)# fit our both traing data tweets as well as its sentiments to the SVC model\n",
        "y_pred_svm = svm_clf.predict(X_test_tm)  # predict the sentiments of testing data tweets\n",
        "\n",
        "accuracy = accuracy_score(y_test, y_pred_svm)\n",
        "print(\"SVM: Test Accuracy: {:.2f}%\".format(accuracy * 100))\n",
        "print(classification_report(y_test,y_pred_svm))\n",
        "print(confusion_matrix(y_test,y_pred_svm))"
      ],
      "metadata": {
        "colab": {
          "base_uri": "https://localhost:8080/"
        },
        "id": "NhgQ5azlno4W",
        "outputId": "a289b7a5-dd6c-47a5-f2ec-169c7c703c25"
      },
      "execution_count": null,
      "outputs": [
        {
          "output_type": "stream",
          "name": "stdout",
          "text": [
            "SVM: Test Accuracy: 96.15%\n",
            "              precision    recall  f1-score   support\n",
            "\n",
            "    Negative       0.93      0.82      0.87       835\n",
            "     Neutral       0.96      0.99      0.97      6073\n",
            "    Positive       0.98      0.94      0.96      3054\n",
            "\n",
            "    accuracy                           0.96      9962\n",
            "   macro avg       0.96      0.92      0.93      9962\n",
            "weighted avg       0.96      0.96      0.96      9962\n",
            "\n",
            "[[ 682  120   33]\n",
            " [  23 6023   27]\n",
            " [  29  152 2873]]\n"
          ]
        }
      ]
    },
    {
      "cell_type": "code",
      "source": [
        "from sklearn.model_selection import cross_val_score  # import cross_val_score from sklear.model_selection\n",
        "accuracies = cross_val_score(estimator = svm_clf, X = X_train_tm, y = y_train, cv = 10)# do K- fold cross validation on our traing data and its sentimenst with 10 fold cross validation\n",
        "accuracies.mean() # measure the mean accuray of 10 fold cross validation"
      ],
      "metadata": {
        "colab": {
          "base_uri": "https://localhost:8080/"
        },
        "id": "DE_coypgnrkT",
        "outputId": "d8cc1bb2-8016-4785-fbc1-ddd9b4219969"
      },
      "execution_count": null,
      "outputs": [
        {
          "output_type": "execute_result",
          "data": {
            "text/plain": [
              "0.9446607194146723"
            ]
          },
          "metadata": {},
          "execution_count": 97
        }
      ]
    },
    {
      "cell_type": "code",
      "source": [],
      "metadata": {
        "id": "ZLXKlMAdnpBZ"
      },
      "execution_count": null,
      "outputs": []
    },
    {
      "cell_type": "markdown",
      "source": [
        "**Decision Tree**\n"
      ],
      "metadata": {
        "id": "brpZPQWenwej"
      }
    },
    {
      "cell_type": "code",
      "source": [
        "from sklearn.tree import DecisionTreeClassifier\n",
        "dt = DecisionTreeClassifier()\n",
        "dt.fit(                                )\n",
        "dt_pred = dt.predict(X_test_tm)"
      ],
      "metadata": {
        "id": "SPGBCPHtnyNG"
      },
      "execution_count": null,
      "outputs": []
    },
    {
      "cell_type": "code",
      "source": [
        "accuracy = accuracy_score(y_test, dt_pred)\n",
        "print(\"DT: Test Accuracy: {:.2f}%\".format(accuracy * 100))\n",
        "print(classification_report(y_test,dt_pred))\n",
        "print(confusion_matrix(y_test,dt_pred))"
      ],
      "metadata": {
        "colab": {
          "base_uri": "https://localhost:8080/"
        },
        "id": "G9xSO2uUnyT_",
        "outputId": "b445e326-8700-42d9-b409-9dd3e65ae08d"
      },
      "execution_count": null,
      "outputs": [
        {
          "output_type": "stream",
          "name": "stdout",
          "text": [
            "DT: Test Accuracy: 94.59%\n",
            "              precision    recall  f1-score   support\n",
            "\n",
            "    Negative       0.88      0.75      0.81       835\n",
            "     Neutral       0.94      0.99      0.96      6073\n",
            "    Positive       0.98      0.91      0.94      3054\n",
            "\n",
            "    accuracy                           0.95      9962\n",
            "   macro avg       0.93      0.88      0.91      9962\n",
            "weighted avg       0.95      0.95      0.94      9962\n",
            "\n",
            "[[ 625  175   35]\n",
            " [  31 6013   29]\n",
            " [  53  216 2785]]\n"
          ]
        }
      ]
    },
    {
      "cell_type": "code",
      "source": [
        "from sklearn.model_selection import cross_val_score  # import cross_val_score from sklear.model_selection\n",
        "accuracies = cross_val_score(estimator = dt, X = X_train_tm, y = y_train, cv = 10)# do K- fold cross validation on our traing data and its sentimenst with 10 fold cross validation\n",
        "accuracies.mean() # measure the mean accuray of 10 fold cross validation"
      ],
      "metadata": {
        "colab": {
          "base_uri": "https://localhost:8080/"
        },
        "id": "veYeFoSqufvo",
        "outputId": "e99c4cf6-77fc-416c-8259-b609898dd455"
      },
      "execution_count": null,
      "outputs": [
        {
          "output_type": "execute_result",
          "data": {
            "text/plain": [
              "0.9683524877426896"
            ]
          },
          "metadata": {},
          "execution_count": 100
        }
      ]
    },
    {
      "cell_type": "markdown",
      "source": [
        "**Catboost**"
      ],
      "metadata": {
        "id": "EDsuubTDn2kO"
      }
    },
    {
      "cell_type": "code",
      "source": [
        "pip install catboost"
      ],
      "metadata": {
        "colab": {
          "base_uri": "https://localhost:8080/"
        },
        "id": "9qy6X8tUn5Hp",
        "outputId": "1dc5f346-254c-4636-870f-f8126ea5ae0f"
      },
      "execution_count": null,
      "outputs": [
        {
          "output_type": "stream",
          "name": "stdout",
          "text": [
            "Looking in indexes: https://pypi.org/simple, https://us-python.pkg.dev/colab-wheels/public/simple/\n",
            "Collecting catboost\n",
            "  Downloading catboost-1.1.1-cp38-none-manylinux1_x86_64.whl (76.6 MB)\n",
            "\u001b[2K     \u001b[90m━━━━━━━━━━━━━━━━━━━━━━━━━━━━━━━━━━━━━━━━\u001b[0m \u001b[32m76.6/76.6 MB\u001b[0m \u001b[31m7.8 MB/s\u001b[0m eta \u001b[36m0:00:00\u001b[0m\n",
            "\u001b[?25hRequirement already satisfied: graphviz in /usr/local/lib/python3.8/dist-packages (from catboost) (0.10.1)\n",
            "Requirement already satisfied: six in /usr/local/lib/python3.8/dist-packages (from catboost) (1.15.0)\n",
            "Requirement already satisfied: scipy in /usr/local/lib/python3.8/dist-packages (from catboost) (1.7.3)\n",
            "Requirement already satisfied: pandas>=0.24.0 in /usr/local/lib/python3.8/dist-packages (from catboost) (1.3.5)\n",
            "Requirement already satisfied: matplotlib in /usr/local/lib/python3.8/dist-packages (from catboost) (3.2.2)\n",
            "Requirement already satisfied: numpy>=1.16.0 in /usr/local/lib/python3.8/dist-packages (from catboost) (1.21.6)\n",
            "Requirement already satisfied: plotly in /usr/local/lib/python3.8/dist-packages (from catboost) (5.5.0)\n",
            "Requirement already satisfied: pytz>=2017.3 in /usr/local/lib/python3.8/dist-packages (from pandas>=0.24.0->catboost) (2022.7)\n",
            "Requirement already satisfied: python-dateutil>=2.7.3 in /usr/local/lib/python3.8/dist-packages (from pandas>=0.24.0->catboost) (2.8.2)\n",
            "Requirement already satisfied: pyparsing!=2.0.4,!=2.1.2,!=2.1.6,>=2.0.1 in /usr/local/lib/python3.8/dist-packages (from matplotlib->catboost) (3.0.9)\n",
            "Requirement already satisfied: cycler>=0.10 in /usr/local/lib/python3.8/dist-packages (from matplotlib->catboost) (0.11.0)\n",
            "Requirement already satisfied: kiwisolver>=1.0.1 in /usr/local/lib/python3.8/dist-packages (from matplotlib->catboost) (1.4.4)\n",
            "Requirement already satisfied: tenacity>=6.2.0 in /usr/local/lib/python3.8/dist-packages (from plotly->catboost) (8.1.0)\n",
            "Installing collected packages: catboost\n",
            "Successfully installed catboost-1.1.1\n"
          ]
        }
      ]
    },
    {
      "cell_type": "code",
      "source": [
        "import catboost as ctb\n",
        "model_CBC = ctb.CatBoostClassifier()"
      ],
      "metadata": {
        "id": "iSqHq9f5n9WD"
      },
      "execution_count": null,
      "outputs": []
    },
    {
      "cell_type": "code",
      "source": [
        "model_CBC.fit(X_train_res, y_train_res)"
      ],
      "metadata": {
        "id": "g9nvrDDMt7NS"
      },
      "execution_count": null,
      "outputs": []
    },
    {
      "cell_type": "code",
      "source": [
        "y_pred_cb = model_CBC.predict(X_test_tm)"
      ],
      "metadata": {
        "id": "bPFPjEf4t7X9"
      },
      "execution_count": null,
      "outputs": []
    },
    {
      "cell_type": "code",
      "source": [
        "accuracy = accuracy_score(y_test, y_pred_cb)\n",
        "print(\"catBoost: Test Accuracy: {:.2f}%\".format(accuracy * 100))\n",
        "print(classification_report(y_test,y_pred_cb))\n",
        "print(confusion_matrix(y_test,y_pred_cb))"
      ],
      "metadata": {
        "id": "QPkkiC0et_gn"
      },
      "execution_count": null,
      "outputs": []
    },
    {
      "cell_type": "code",
      "source": [],
      "metadata": {
        "id": "8VrR-v1GvPK9"
      },
      "execution_count": null,
      "outputs": []
    },
    {
      "cell_type": "markdown",
      "source": [
        "# Modeling on TextBlob sentiment"
      ],
      "metadata": {
        "id": "JdED1dxnvPpI"
      }
    },
    {
      "cell_type": "code",
      "source": [
        "tweets_data"
      ],
      "metadata": {
        "colab": {
          "base_uri": "https://localhost:8080/",
          "height": 423
        },
        "id": "QAav1D_LvXSI",
        "outputId": "3b156391-3b18-4b01-bb8d-8af5b88384e3"
      },
      "execution_count": null,
      "outputs": [
        {
          "output_type": "execute_result",
          "data": {
            "text/plain": [
              "                                                    text  \\\n",
              "0      The agency also released new information for h...   \n",
              "1      The US Food and Drug Administration (FDA) has ...   \n",
              "2      I’ve never been so excited to get a vaccine 💉💉...   \n",
              "3      #UgurSahin #ozlemtureci the #Muslim Scientists...   \n",
              "4      Toronto to receive Ontario's 1st doses of Pfiz...   \n",
              "...                                                  ...   \n",
              "49858  45+ #URBAN #Bengaluru #CovidVaccine Availabili...   \n",
              "49859  18-44 #BBMP #Bengaluru #CovidVaccine Availabil...   \n",
              "49860  18-44 #URBAN #Bengaluru #CovidVaccine Availabi...   \n",
              "49861  45+ #URBAN #Bengaluru #CovidVaccine Availabili...   \n",
              "49862  18-44 #BBMP #Bengaluru #CovidVaccine Availabil...   \n",
              "\n",
              "                                                text_nlp  nltk_cmp_score  \\\n",
              "0      release new information health care provider p...          0.4939   \n",
              "1                           emergency authorization mrna         -0.3818   \n",
              "2                                                excited          0.3400   \n",
              "3                                             save world          0.4939   \n",
              "4                                    covid vaccine today          0.0000   \n",
              "...                                                  ...             ...   \n",
              "49858               availability free slot pay slot dose          0.4404   \n",
              "49859                   availability free slot dose dose          0.5106   \n",
              "49860               availability free slot pay slot dose          0.4404   \n",
              "49861               availability free slot pay slot dose          0.4404   \n",
              "49862                   availability free slot dose dose          0.5106   \n",
              "\n",
              "      nltk_sentiment  textblob_score textblob_sentiment  \\\n",
              "0           Positive        0.136364           Positive   \n",
              "1           Negative        0.000000            Neutral   \n",
              "2           Positive        0.375000           Positive   \n",
              "3           Positive        0.000000            Neutral   \n",
              "4            Neutral        0.000000            Neutral   \n",
              "...              ...             ...                ...   \n",
              "49858       Positive        0.400000           Positive   \n",
              "49859       Positive        0.400000           Positive   \n",
              "49860       Positive        0.400000           Positive   \n",
              "49861       Positive        0.400000           Positive   \n",
              "49862       Positive        0.400000           Positive   \n",
              "\n",
              "            Dominant_Topic_rev  \n",
              "0      Administration Coverage  \n",
              "1               Usage Approval  \n",
              "2              Clinical Trials  \n",
              "3              Clinical Trials  \n",
              "4      Administration Coverage  \n",
              "...                        ...  \n",
              "49858        Dose Availability  \n",
              "49859        Dose Availability  \n",
              "49860        Dose Availability  \n",
              "49861        Dose Availability  \n",
              "49862        Dose Availability  \n",
              "\n",
              "[49807 rows x 7 columns]"
            ],
            "text/html": [
              "\n",
              "  <div id=\"df-82b2d844-4e2b-4e4e-828e-85226135e522\">\n",
              "    <div class=\"colab-df-container\">\n",
              "      <div>\n",
              "<style scoped>\n",
              "    .dataframe tbody tr th:only-of-type {\n",
              "        vertical-align: middle;\n",
              "    }\n",
              "\n",
              "    .dataframe tbody tr th {\n",
              "        vertical-align: top;\n",
              "    }\n",
              "\n",
              "    .dataframe thead th {\n",
              "        text-align: right;\n",
              "    }\n",
              "</style>\n",
              "<table border=\"1\" class=\"dataframe\">\n",
              "  <thead>\n",
              "    <tr style=\"text-align: right;\">\n",
              "      <th></th>\n",
              "      <th>text</th>\n",
              "      <th>text_nlp</th>\n",
              "      <th>nltk_cmp_score</th>\n",
              "      <th>nltk_sentiment</th>\n",
              "      <th>textblob_score</th>\n",
              "      <th>textblob_sentiment</th>\n",
              "      <th>Dominant_Topic_rev</th>\n",
              "    </tr>\n",
              "  </thead>\n",
              "  <tbody>\n",
              "    <tr>\n",
              "      <th>0</th>\n",
              "      <td>The agency also released new information for h...</td>\n",
              "      <td>release new information health care provider p...</td>\n",
              "      <td>0.4939</td>\n",
              "      <td>Positive</td>\n",
              "      <td>0.136364</td>\n",
              "      <td>Positive</td>\n",
              "      <td>Administration Coverage</td>\n",
              "    </tr>\n",
              "    <tr>\n",
              "      <th>1</th>\n",
              "      <td>The US Food and Drug Administration (FDA) has ...</td>\n",
              "      <td>emergency authorization mrna</td>\n",
              "      <td>-0.3818</td>\n",
              "      <td>Negative</td>\n",
              "      <td>0.000000</td>\n",
              "      <td>Neutral</td>\n",
              "      <td>Usage Approval</td>\n",
              "    </tr>\n",
              "    <tr>\n",
              "      <th>2</th>\n",
              "      <td>I’ve never been so excited to get a vaccine 💉💉...</td>\n",
              "      <td>excited</td>\n",
              "      <td>0.3400</td>\n",
              "      <td>Positive</td>\n",
              "      <td>0.375000</td>\n",
              "      <td>Positive</td>\n",
              "      <td>Clinical Trials</td>\n",
              "    </tr>\n",
              "    <tr>\n",
              "      <th>3</th>\n",
              "      <td>#UgurSahin #ozlemtureci the #Muslim Scientists...</td>\n",
              "      <td>save world</td>\n",
              "      <td>0.4939</td>\n",
              "      <td>Positive</td>\n",
              "      <td>0.000000</td>\n",
              "      <td>Neutral</td>\n",
              "      <td>Clinical Trials</td>\n",
              "    </tr>\n",
              "    <tr>\n",
              "      <th>4</th>\n",
              "      <td>Toronto to receive Ontario's 1st doses of Pfiz...</td>\n",
              "      <td>covid vaccine today</td>\n",
              "      <td>0.0000</td>\n",
              "      <td>Neutral</td>\n",
              "      <td>0.000000</td>\n",
              "      <td>Neutral</td>\n",
              "      <td>Administration Coverage</td>\n",
              "    </tr>\n",
              "    <tr>\n",
              "      <th>...</th>\n",
              "      <td>...</td>\n",
              "      <td>...</td>\n",
              "      <td>...</td>\n",
              "      <td>...</td>\n",
              "      <td>...</td>\n",
              "      <td>...</td>\n",
              "      <td>...</td>\n",
              "    </tr>\n",
              "    <tr>\n",
              "      <th>49858</th>\n",
              "      <td>45+ #URBAN #Bengaluru #CovidVaccine Availabili...</td>\n",
              "      <td>availability free slot pay slot dose</td>\n",
              "      <td>0.4404</td>\n",
              "      <td>Positive</td>\n",
              "      <td>0.400000</td>\n",
              "      <td>Positive</td>\n",
              "      <td>Dose Availability</td>\n",
              "    </tr>\n",
              "    <tr>\n",
              "      <th>49859</th>\n",
              "      <td>18-44 #BBMP #Bengaluru #CovidVaccine Availabil...</td>\n",
              "      <td>availability free slot dose dose</td>\n",
              "      <td>0.5106</td>\n",
              "      <td>Positive</td>\n",
              "      <td>0.400000</td>\n",
              "      <td>Positive</td>\n",
              "      <td>Dose Availability</td>\n",
              "    </tr>\n",
              "    <tr>\n",
              "      <th>49860</th>\n",
              "      <td>18-44 #URBAN #Bengaluru #CovidVaccine Availabi...</td>\n",
              "      <td>availability free slot pay slot dose</td>\n",
              "      <td>0.4404</td>\n",
              "      <td>Positive</td>\n",
              "      <td>0.400000</td>\n",
              "      <td>Positive</td>\n",
              "      <td>Dose Availability</td>\n",
              "    </tr>\n",
              "    <tr>\n",
              "      <th>49861</th>\n",
              "      <td>45+ #URBAN #Bengaluru #CovidVaccine Availabili...</td>\n",
              "      <td>availability free slot pay slot dose</td>\n",
              "      <td>0.4404</td>\n",
              "      <td>Positive</td>\n",
              "      <td>0.400000</td>\n",
              "      <td>Positive</td>\n",
              "      <td>Dose Availability</td>\n",
              "    </tr>\n",
              "    <tr>\n",
              "      <th>49862</th>\n",
              "      <td>18-44 #BBMP #Bengaluru #CovidVaccine Availabil...</td>\n",
              "      <td>availability free slot dose dose</td>\n",
              "      <td>0.5106</td>\n",
              "      <td>Positive</td>\n",
              "      <td>0.400000</td>\n",
              "      <td>Positive</td>\n",
              "      <td>Dose Availability</td>\n",
              "    </tr>\n",
              "  </tbody>\n",
              "</table>\n",
              "<p>49807 rows × 7 columns</p>\n",
              "</div>\n",
              "      <button class=\"colab-df-convert\" onclick=\"convertToInteractive('df-82b2d844-4e2b-4e4e-828e-85226135e522')\"\n",
              "              title=\"Convert this dataframe to an interactive table.\"\n",
              "              style=\"display:none;\">\n",
              "        \n",
              "  <svg xmlns=\"http://www.w3.org/2000/svg\" height=\"24px\"viewBox=\"0 0 24 24\"\n",
              "       width=\"24px\">\n",
              "    <path d=\"M0 0h24v24H0V0z\" fill=\"none\"/>\n",
              "    <path d=\"M18.56 5.44l.94 2.06.94-2.06 2.06-.94-2.06-.94-.94-2.06-.94 2.06-2.06.94zm-11 1L8.5 8.5l.94-2.06 2.06-.94-2.06-.94L8.5 2.5l-.94 2.06-2.06.94zm10 10l.94 2.06.94-2.06 2.06-.94-2.06-.94-.94-2.06-.94 2.06-2.06.94z\"/><path d=\"M17.41 7.96l-1.37-1.37c-.4-.4-.92-.59-1.43-.59-.52 0-1.04.2-1.43.59L10.3 9.45l-7.72 7.72c-.78.78-.78 2.05 0 2.83L4 21.41c.39.39.9.59 1.41.59.51 0 1.02-.2 1.41-.59l7.78-7.78 2.81-2.81c.8-.78.8-2.07 0-2.86zM5.41 20L4 18.59l7.72-7.72 1.47 1.35L5.41 20z\"/>\n",
              "  </svg>\n",
              "      </button>\n",
              "      \n",
              "  <style>\n",
              "    .colab-df-container {\n",
              "      display:flex;\n",
              "      flex-wrap:wrap;\n",
              "      gap: 12px;\n",
              "    }\n",
              "\n",
              "    .colab-df-convert {\n",
              "      background-color: #E8F0FE;\n",
              "      border: none;\n",
              "      border-radius: 50%;\n",
              "      cursor: pointer;\n",
              "      display: none;\n",
              "      fill: #1967D2;\n",
              "      height: 32px;\n",
              "      padding: 0 0 0 0;\n",
              "      width: 32px;\n",
              "    }\n",
              "\n",
              "    .colab-df-convert:hover {\n",
              "      background-color: #E2EBFA;\n",
              "      box-shadow: 0px 1px 2px rgba(60, 64, 67, 0.3), 0px 1px 3px 1px rgba(60, 64, 67, 0.15);\n",
              "      fill: #174EA6;\n",
              "    }\n",
              "\n",
              "    [theme=dark] .colab-df-convert {\n",
              "      background-color: #3B4455;\n",
              "      fill: #D2E3FC;\n",
              "    }\n",
              "\n",
              "    [theme=dark] .colab-df-convert:hover {\n",
              "      background-color: #434B5C;\n",
              "      box-shadow: 0px 1px 3px 1px rgba(0, 0, 0, 0.15);\n",
              "      filter: drop-shadow(0px 1px 2px rgba(0, 0, 0, 0.3));\n",
              "      fill: #FFFFFF;\n",
              "    }\n",
              "  </style>\n",
              "\n",
              "      <script>\n",
              "        const buttonEl =\n",
              "          document.querySelector('#df-82b2d844-4e2b-4e4e-828e-85226135e522 button.colab-df-convert');\n",
              "        buttonEl.style.display =\n",
              "          google.colab.kernel.accessAllowed ? 'block' : 'none';\n",
              "\n",
              "        async function convertToInteractive(key) {\n",
              "          const element = document.querySelector('#df-82b2d844-4e2b-4e4e-828e-85226135e522');\n",
              "          const dataTable =\n",
              "            await google.colab.kernel.invokeFunction('convertToInteractive',\n",
              "                                                     [key], {});\n",
              "          if (!dataTable) return;\n",
              "\n",
              "          const docLinkHtml = 'Like what you see? Visit the ' +\n",
              "            '<a target=\"_blank\" href=https://colab.research.google.com/notebooks/data_table.ipynb>data table notebook</a>'\n",
              "            + ' to learn more about interactive tables.';\n",
              "          element.innerHTML = '';\n",
              "          dataTable['output_type'] = 'display_data';\n",
              "          await google.colab.output.renderOutput(dataTable, element);\n",
              "          const docLink = document.createElement('div');\n",
              "          docLink.innerHTML = docLinkHtml;\n",
              "          element.appendChild(docLink);\n",
              "        }\n",
              "      </script>\n",
              "    </div>\n",
              "  </div>\n",
              "  "
            ]
          },
          "metadata": {},
          "execution_count": 142
        }
      ]
    },
    {
      "cell_type": "code",
      "source": [
        "#initialising dataset on which trianing is based\n",
        "X = tweets_data.text_nlp # get all the text in x variable\n",
        "y = tweets_data.textblob_sentiment # get all the sentiments into y variable\n",
        "print(X.shape) #print shape of x\n",
        "print(y.shape) # print shape of y"
      ],
      "metadata": {
        "colab": {
          "base_uri": "https://localhost:8080/"
        },
        "id": "HAQyqtDDvXam",
        "outputId": "09092f16-4012-416f-c172-0a807c83bd52"
      },
      "execution_count": null,
      "outputs": [
        {
          "output_type": "stream",
          "name": "stdout",
          "text": [
            "(49807,)\n",
            "(49807,)\n"
          ]
        }
      ]
    },
    {
      "cell_type": "code",
      "source": [
        "from sklearn.model_selection import train_test_split\n",
        "#from sklearn.cross_validation import train_test_split #from sklearn.cross_validation import train_test_split to split the data into training and tesing set\n",
        "X_train, X_test, y_train, y_test = train_test_split(X, y, test_size = 0.20, random_state= 1) # split the data into traing and testing set where ratio is 80:20"
      ],
      "metadata": {
        "id": "TyXBzX3Sw9ga"
      },
      "execution_count": null,
      "outputs": []
    },
    {
      "cell_type": "code",
      "source": [
        "#  import TF-idf vectorizer\n",
        "from sklearn.feature_extraction.text import TfidfVectorizer \n",
        "vect = TfidfVectorizer(analyzer = \"word\", ngram_range=(1,3))\n",
        "#transforming data to vector form to feed as input to the models\n",
        "vect.fit(X_train) # fit or traing data tweets to vect\n",
        "X_train_tm = vect.transform(X_train) # transform our training data tweets\n",
        "X_test_tm = vect.transform(X_test)# transform our testing data tweets"
      ],
      "metadata": {
        "id": "zwv970pIw_hJ"
      },
      "execution_count": null,
      "outputs": []
    },
    {
      "cell_type": "code",
      "source": [
        "# Oversample imbalanced dataset with SMOTE\n",
        "from collections import Counter\n",
        "counter = Counter(y_train)\n",
        "print(\"Imbalanced data:\",counter)\n",
        "from imblearn.over_sampling import SMOTE\n",
        "sm = SMOTE(random_state=2)\n",
        "X_train_res, y_train_res = sm.fit_resample(X_train_tm, y_train.ravel())\n",
        "counter = Counter(y_train_res)\n",
        "print(\"Balanced data:\",counter)"
      ],
      "metadata": {
        "colab": {
          "base_uri": "https://localhost:8080/"
        },
        "id": "OU6jvRyvxGgF",
        "outputId": "a3e80337-0eb8-4fe0-fc76-5b8a9a10deda"
      },
      "execution_count": null,
      "outputs": [
        {
          "output_type": "stream",
          "name": "stdout",
          "text": [
            "Imbalanced data: Counter({'Neutral': 27875, 'Positive': 10452, 'Negative': 1518})\n",
            "Balanced data: Counter({'Neutral': 27875, 'Positive': 27875, 'Negative': 27875})\n"
          ]
        }
      ]
    },
    {
      "cell_type": "code",
      "source": [],
      "metadata": {
        "id": "G1cO1R5HxdEz"
      },
      "execution_count": null,
      "outputs": []
    },
    {
      "cell_type": "markdown",
      "source": [
        "**Logistic Regression**"
      ],
      "metadata": {
        "id": "a9uJrvEVxih6"
      }
    },
    {
      "cell_type": "code",
      "source": [
        "from sklearn.linear_model import LogisticRegression\n",
        "lr = LogisticRegression()"
      ],
      "metadata": {
        "id": "NY0KjcaOxdRA"
      },
      "execution_count": null,
      "outputs": []
    },
    {
      "cell_type": "code",
      "source": [
        "lr.fit(X_train_res, y_train_res)\n",
        "pred_lr = lr.predict(X_test_tm)"
      ],
      "metadata": {
        "colab": {
          "base_uri": "https://localhost:8080/"
        },
        "id": "kZp8eoJRxdYf",
        "outputId": "30e6a8ef-81cb-4d6f-9813-b07705da6135"
      },
      "execution_count": null,
      "outputs": [
        {
          "output_type": "stream",
          "name": "stderr",
          "text": [
            "/usr/local/lib/python3.8/dist-packages/sklearn/linear_model/_logistic.py:814: ConvergenceWarning: lbfgs failed to converge (status=1):\n",
            "STOP: TOTAL NO. of ITERATIONS REACHED LIMIT.\n",
            "\n",
            "Increase the number of iterations (max_iter) or scale the data as shown in:\n",
            "    https://scikit-learn.org/stable/modules/preprocessing.html\n",
            "Please also refer to the documentation for alternative solver options:\n",
            "    https://scikit-learn.org/stable/modules/linear_model.html#logistic-regression\n",
            "  n_iter_i = _check_optimize_result(\n"
          ]
        }
      ]
    },
    {
      "cell_type": "code",
      "source": [
        "accuracy = accuracy_score(y_test, pred_lr)\n",
        "print(\"LR: Test Accuracy: {:.2f}%\".format(accuracy * 100))\n",
        "print(classification_report(y_test,pred_lr))\n",
        "print(confusion_matrix(y_test,pred_lr))"
      ],
      "metadata": {
        "colab": {
          "base_uri": "https://localhost:8080/"
        },
        "id": "BkVuvaFZxdeK",
        "outputId": "6b92d953-7ca9-4a27-d436-36014f040289"
      },
      "execution_count": null,
      "outputs": [
        {
          "output_type": "stream",
          "name": "stdout",
          "text": [
            "LR: Test Accuracy: 96.28%\n",
            "              precision    recall  f1-score   support\n",
            "\n",
            "    Negative       0.82      0.77      0.80       396\n",
            "     Neutral       0.96      0.99      0.98      6901\n",
            "    Positive       0.99      0.92      0.95      2665\n",
            "\n",
            "    accuracy                           0.96      9962\n",
            "   macro avg       0.92      0.89      0.91      9962\n",
            "weighted avg       0.96      0.96      0.96      9962\n",
            "\n",
            "[[ 305   80   11]\n",
            " [  40 6840   21]\n",
            " [  25  194 2446]]\n"
          ]
        }
      ]
    },
    {
      "cell_type": "code",
      "source": [
        "from matplotlib import style\n",
        "style.use('ggplot')\n",
        "from sklearn.metrics import accuracy_score, classification_report, confusion_matrix, ConfusionMatrixDisplay"
      ],
      "metadata": {
        "id": "1UGJOEYRxdlm"
      },
      "execution_count": null,
      "outputs": []
    },
    {
      "cell_type": "code",
      "source": [
        "style.use('default')\n",
        "cm = confusion_matrix(y_test, pred_lr, labels=lr.classes_)\n",
        "disp = ConfusionMatrixDisplay(confusion_matrix = cm, display_labels=lr.classes_)\n",
        "disp.plot()"
      ],
      "metadata": {
        "colab": {
          "base_uri": "https://localhost:8080/",
          "height": 467
        },
        "id": "VJRLpVUpxs-c",
        "outputId": "ea274f3e-573e-4659-a44f-ed011fbb5f17"
      },
      "execution_count": null,
      "outputs": [
        {
          "output_type": "execute_result",
          "data": {
            "text/plain": [
              "<sklearn.metrics._plot.confusion_matrix.ConfusionMatrixDisplay at 0x7f3b37f96760>"
            ]
          },
          "metadata": {},
          "execution_count": 113
        },
        {
          "output_type": "display_data",
          "data": {
            "text/plain": [
              "<Figure size 640x480 with 2 Axes>"
            ],
            "image/png": "[encoded data removed]"
          },
          "metadata": {}
        }
      ]
    },
    {
      "cell_type": "markdown",
      "source": [
        "**Random Forest**"
      ],
      "metadata": {
        "id": "hqRfEWIMxvph"
      }
    },
    {
      "cell_type": "code",
      "source": [
        "#random forest\n",
        "from sklearn.ensemble import RandomForestClassifier # import Random forest from sklearn\n",
        "rf = RandomForestClassifier()"
      ],
      "metadata": {
        "id": "ooGgVsFgxwQD"
      },
      "execution_count": null,
      "outputs": []
    },
    {
      "cell_type": "code",
      "source": [
        "rf.fit(X_train_res, y_train_res)"
      ],
      "metadata": {
        "colab": {
          "base_uri": "https://localhost:8080/"
        },
        "id": "Ja4qYAppxx5D",
        "outputId": "8851a945-3938-4335-b7da-343b114b18fd"
      },
      "execution_count": null,
      "outputs": [
        {
          "output_type": "execute_result",
          "data": {
            "text/plain": [
              "RandomForestClassifier()"
            ]
          },
          "metadata": {},
          "execution_count": 115
        }
      ]
    },
    {
      "cell_type": "code",
      "source": [
        "rf_pred = rf.predict(X_test_tm)"
      ],
      "metadata": {
        "id": "AePz2hRWx0ca"
      },
      "execution_count": null,
      "outputs": []
    },
    {
      "cell_type": "code",
      "source": [
        "accuracy = accuracy_score(y_test, rf_pred)\n",
        "print(\"RF: Test Accuracy: {:.2f}%\".format(accuracy * 100))\n",
        "print(classification_report(y_test,rf_pred))\n",
        "print(confusion_matrix(y_test,rf_pred))"
      ],
      "metadata": {
        "colab": {
          "base_uri": "https://localhost:8080/"
        },
        "id": "Ans80fXXx3oB",
        "outputId": "60dd5428-2293-45c3-8552-e6dfa675bad4"
      },
      "execution_count": null,
      "outputs": [
        {
          "output_type": "stream",
          "name": "stdout",
          "text": [
            "RF: Test Accuracy: 94.30%\n",
            "              precision    recall  f1-score   support\n",
            "\n",
            "    Negative       0.90      0.53      0.66       396\n",
            "     Neutral       0.93      1.00      0.96      6901\n",
            "    Positive       0.99      0.87      0.92      2665\n",
            "\n",
            "    accuracy                           0.94      9962\n",
            "   macro avg       0.94      0.80      0.85      9962\n",
            "weighted avg       0.94      0.94      0.94      9962\n",
            "\n",
            "[[ 209  173   14]\n",
            " [  14 6872   15]\n",
            " [  10  342 2313]]\n"
          ]
        }
      ]
    },
    {
      "cell_type": "markdown",
      "source": [
        "**Naive Bayes**"
      ],
      "metadata": {
        "id": "tDlqlItkyDyt"
      }
    },
    {
      "cell_type": "code",
      "source": [
        "from sklearn.naive_bayes import MultinomialNB # import Multinomial Naive Bayes model from sklearn.naive_bayes\n",
        "nb = MultinomialNB(alpha = 10) # get object of Multinomial naive bayes model with alpha parameter = 10\n",
        "nb.fit(X_train_res, y_train_res)# fit our both traing data tweets as well as its sentiments to the multinomial naive bayes mod\n",
        "y_pred_nb = nb.predict(X_test_tm) # predict the sentiments of testing data tweets"
      ],
      "metadata": {
        "id": "ijJnu-GayEwj"
      },
      "execution_count": null,
      "outputs": []
    },
    {
      "cell_type": "code",
      "source": [
        "accuracy = accuracy_score(y_test, y_pred_nb)\n",
        "print(\"NB: Test Accuracy: {:.2f}%\".format(accuracy * 100))\n",
        "print(classification_report(y_test,y_pred_nb))\n",
        "print(confusion_matrix(y_test,y_pred_nb))"
      ],
      "metadata": {
        "colab": {
          "base_uri": "https://localhost:8080/"
        },
        "id": "oZAA4AwAyHnk",
        "outputId": "1b6642cf-43c1-4365-db89-9ec5305b4f72"
      },
      "execution_count": null,
      "outputs": [
        {
          "output_type": "stream",
          "name": "stdout",
          "text": [
            "NB: Test Accuracy: 81.79%\n",
            "              precision    recall  f1-score   support\n",
            "\n",
            "    Negative       0.20      0.93      0.33       396\n",
            "     Neutral       0.97      0.80      0.88      6901\n",
            "    Positive       0.95      0.84      0.89      2665\n",
            "\n",
            "    accuracy                           0.82      9962\n",
            "   macro avg       0.70      0.86      0.70      9962\n",
            "weighted avg       0.93      0.82      0.86      9962\n",
            "\n",
            "[[ 370   18    8]\n",
            " [1251 5529  121]\n",
            " [ 242  174 2249]]\n"
          ]
        }
      ]
    },
    {
      "cell_type": "code",
      "source": [
        "from sklearn.model_selection import cross_val_score  # import cross_val_score from sklear.model_selection\n",
        "accuracies = cross_val_score(estimator = nb, X = X_train_res, y = y_train_res, cv = 10) # do K- fold cross validation on our traing data and its sentimenst with 10 fold cross validation\n",
        "accuracies.mean()"
      ],
      "metadata": {
        "id": "luS1Mxa8yHs9"
      },
      "execution_count": null,
      "outputs": []
    },
    {
      "cell_type": "code",
      "source": [],
      "metadata": {
        "id": "nhjaBlwnyHzw"
      },
      "execution_count": null,
      "outputs": []
    },
    {
      "cell_type": "markdown",
      "source": [
        "**Linear SVM**"
      ],
      "metadata": {
        "id": "XgANN0e1yPAM"
      }
    },
    {
      "cell_type": "code",
      "source": [
        "from sklearn.svm import LinearSVC # import SVC model from sklearn.svm\n",
        "svm_clf = LinearSVC(random_state=0) # get object of SVC model with random_state parameter = 0"
      ],
      "metadata": {
        "id": "9njyYAgEyH6f"
      },
      "execution_count": null,
      "outputs": []
    },
    {
      "cell_type": "code",
      "source": [
        "svm_clf.fit(X_train_res, y_train_res)# fit our both traing data tweets as well as its sentiments to the SVC model\n",
        "y_pred_svm = svm_clf.predict(X_test_tm)  # predict the sentiments of testing data tweets\n",
        "\n",
        "accuracy = accuracy_score(y_test, y_pred_svm)\n",
        "print(\"SVM: Test Accuracy: {:.2f}%\".format(accuracy * 100))\n",
        "print(classification_report(y_test,y_pred_svm))\n",
        "print(confusion_matrix(y_test,y_pred_svm))"
      ],
      "metadata": {
        "colab": {
          "base_uri": "https://localhost:8080/"
        },
        "id": "hnNhrjzTyVFN",
        "outputId": "595ddf38-4ea2-43c2-b7ad-c1483ab197d9"
      },
      "execution_count": null,
      "outputs": [
        {
          "output_type": "stream",
          "name": "stdout",
          "text": [
            "SVM: Test Accuracy: 97.31%\n",
            "              precision    recall  f1-score   support\n",
            "\n",
            "    Negative       0.90      0.75      0.82       396\n",
            "     Neutral       0.97      0.99      0.98      6901\n",
            "    Positive       0.99      0.95      0.97      2665\n",
            "\n",
            "    accuracy                           0.97      9962\n",
            "   macro avg       0.95      0.90      0.92      9962\n",
            "weighted avg       0.97      0.97      0.97      9962\n",
            "\n",
            "[[ 298   85   13]\n",
            " [  23 6856   22]\n",
            " [  10  115 2540]]\n"
          ]
        }
      ]
    },
    {
      "cell_type": "code",
      "source": [
        "from sklearn.model_selection import cross_val_score  # import cross_val_score from sklear.model_selection\n",
        "accuracies = cross_val_score(estimator = svm_clf, X = X_train_tm, y = y_train, cv = 10)# do K- fold cross validation on our traing data and its sentimenst with 10 fold cross validation\n",
        "accuracies.mean() # measure the mean accuray of 10 fold cross validation"
      ],
      "metadata": {
        "id": "l_G9XSEWybmW"
      },
      "execution_count": null,
      "outputs": []
    },
    {
      "cell_type": "markdown",
      "source": [
        "**Decision Tree**\n"
      ],
      "metadata": {
        "id": "27ZRKBSQyd04"
      }
    },
    {
      "cell_type": "code",
      "source": [
        "from sklearn.tree import DecisionTreeClassifier\n",
        "dt = DecisionTreeClassifier()\n",
        "dt.fit(X_train_res, y_train_res)\n",
        "dt_pred = dt.predict(X_test_tm)"
      ],
      "metadata": {
        "id": "ZKTrV_R2yedp"
      },
      "execution_count": null,
      "outputs": []
    },
    {
      "cell_type": "code",
      "source": [
        "accuracy = accuracy_score(y_test, dt_pred)\n",
        "print(\"DT: Test Accuracy: {:.2f}%\".format(accuracy * 100))\n",
        "print(classification_report(y_test,dt_pred))\n",
        "print(confusion_matrix(y_test,dt_pred))"
      ],
      "metadata": {
        "colab": {
          "base_uri": "https://localhost:8080/"
        },
        "id": "8JmsvvkrygHl",
        "outputId": "674f01a8-97c0-4d6d-8656-89674ee61a90"
      },
      "execution_count": null,
      "outputs": [
        {
          "output_type": "stream",
          "name": "stdout",
          "text": [
            "DT: Test Accuracy: 96.03%\n",
            "              precision    recall  f1-score   support\n",
            "\n",
            "    Negative       0.82      0.70      0.76       396\n",
            "     Neutral       0.96      0.99      0.97      6901\n",
            "    Positive       0.99      0.92      0.95      2665\n",
            "\n",
            "    accuracy                           0.96      9962\n",
            "   macro avg       0.92      0.87      0.89      9962\n",
            "weighted avg       0.96      0.96      0.96      9962\n",
            "\n",
            "[[ 278  100   18]\n",
            " [  36 6848   17]\n",
            " [  23  201 2441]]\n"
          ]
        }
      ]
    },
    {
      "cell_type": "markdown",
      "source": [
        "**Catboost**"
      ],
      "metadata": {
        "id": "quLL6M0NyiVM"
      }
    },
    {
      "cell_type": "code",
      "source": [
        "pip install catboost"
      ],
      "metadata": {
        "colab": {
          "base_uri": "https://localhost:8080/"
        },
        "id": "qpaxjajeyj8E",
        "outputId": "25ae4bfa-e5da-4e04-d28a-f37b3c8aa569"
      },
      "execution_count": null,
      "outputs": [
        {
          "output_type": "stream",
          "name": "stdout",
          "text": [
            "Looking in indexes: https://pypi.org/simple, https://us-python.pkg.dev/colab-wheels/public/simple/\n",
            "Requirement already satisfied: catboost in /usr/local/lib/python3.8/dist-packages (1.1.1)\n",
            "Requirement already satisfied: scipy in /usr/local/lib/python3.8/dist-packages (from catboost) (1.7.3)\n",
            "Requirement already satisfied: plotly in /usr/local/lib/python3.8/dist-packages (from catboost) (5.5.0)\n",
            "Requirement already satisfied: graphviz in /usr/local/lib/python3.8/dist-packages (from catboost) (0.10.1)\n",
            "Requirement already satisfied: matplotlib in /usr/local/lib/python3.8/dist-packages (from catboost) (3.2.2)\n",
            "Requirement already satisfied: six in /usr/local/lib/python3.8/dist-packages (from catboost) (1.15.0)\n",
            "Requirement already satisfied: pandas>=0.24.0 in /usr/local/lib/python3.8/dist-packages (from catboost) (1.3.5)\n",
            "Requirement already satisfied: numpy>=1.16.0 in /usr/local/lib/python3.8/dist-packages (from catboost) (1.21.6)\n",
            "Requirement already satisfied: python-dateutil>=2.7.3 in /usr/local/lib/python3.8/dist-packages (from pandas>=0.24.0->catboost) (2.8.2)\n",
            "Requirement already satisfied: pytz>=2017.3 in /usr/local/lib/python3.8/dist-packages (from pandas>=0.24.0->catboost) (2022.7)\n",
            "Requirement already satisfied: kiwisolver>=1.0.1 in /usr/local/lib/python3.8/dist-packages (from matplotlib->catboost) (1.4.4)\n",
            "Requirement already satisfied: cycler>=0.10 in /usr/local/lib/python3.8/dist-packages (from matplotlib->catboost) (0.11.0)\n",
            "Requirement already satisfied: pyparsing!=2.0.4,!=2.1.2,!=2.1.6,>=2.0.1 in /usr/local/lib/python3.8/dist-packages (from matplotlib->catboost) (3.0.9)\n",
            "Requirement already satisfied: tenacity>=6.2.0 in /usr/local/lib/python3.8/dist-packages (from plotly->catboost) (8.1.0)\n"
          ]
        }
      ]
    },
    {
      "cell_type": "code",
      "source": [
        "import catboost as ctb\n",
        "model_CBC = ctb.CatBoostClassifier()"
      ],
      "metadata": {
        "id": "R9wMbJC7yluR"
      },
      "execution_count": null,
      "outputs": []
    },
    {
      "cell_type": "code",
      "source": [
        "model_CBC.fit(X_train_tm, y_train)"
      ],
      "metadata": {
        "colab": {
          "base_uri": "https://localhost:8080/"
        },
        "id": "IJ6OLBHOynYl",
        "outputId": "6724169f-65c1-41ef-8e25-cd7b33268eed"
      },
      "execution_count": null,
      "outputs": [
        {
          "output_type": "stream",
          "name": "stdout",
          "text": [
            "Learning rate set to 0.095487\n",
            "0:\tlearn: 0.9806169\ttotal: 2.67s\tremaining: 44m 25s\n",
            "1:\tlearn: 0.8915789\ttotal: 4.93s\tremaining: 40m 59s\n",
            "2:\tlearn: 0.8152619\ttotal: 6.93s\tremaining: 38m 22s\n",
            "3:\tlearn: 0.7547709\ttotal: 9.18s\tremaining: 38m 6s\n",
            "4:\tlearn: 0.7068757\ttotal: 11.4s\tremaining: 37m 51s\n",
            "5:\tlearn: 0.6637086\ttotal: 13.7s\tremaining: 37m 48s\n",
            "6:\tlearn: 0.6285903\ttotal: 15.6s\tremaining: 36m 51s\n",
            "7:\tlearn: 0.5968259\ttotal: 17.8s\tremaining: 36m 45s\n",
            "8:\tlearn: 0.5694052\ttotal: 20.4s\tremaining: 37m 28s\n",
            "9:\tlearn: 0.5459825\ttotal: 22.8s\tremaining: 37m 39s\n",
            "10:\tlearn: 0.5250241\ttotal: 25.6s\tremaining: 38m 24s\n",
            "11:\tlearn: 0.5067850\ttotal: 28.1s\tremaining: 38m 32s\n",
            "12:\tlearn: 0.4910651\ttotal: 31.1s\tremaining: 39m 21s\n",
            "13:\tlearn: 0.4768691\ttotal: 33s\tremaining: 38m 44s\n",
            "14:\tlearn: 0.4633366\ttotal: 35.3s\tremaining: 38m 39s\n",
            "15:\tlearn: 0.4523299\ttotal: 37.6s\tremaining: 38m 30s\n",
            "16:\tlearn: 0.4425422\ttotal: 39.3s\tremaining: 37m 50s\n",
            "17:\tlearn: 0.4322230\ttotal: 40.7s\tremaining: 37m 1s\n",
            "18:\tlearn: 0.4230457\ttotal: 42.2s\tremaining: 36m 19s\n",
            "19:\tlearn: 0.4156014\ttotal: 43.8s\tremaining: 35m 45s\n",
            "20:\tlearn: 0.4080260\ttotal: 45.4s\tremaining: 35m 16s\n",
            "21:\tlearn: 0.4023293\ttotal: 47s\tremaining: 34m 47s\n",
            "22:\tlearn: 0.3960480\ttotal: 48.5s\tremaining: 34m 19s\n",
            "23:\tlearn: 0.3909313\ttotal: 49.9s\tremaining: 33m 48s\n",
            "24:\tlearn: 0.3855745\ttotal: 51s\tremaining: 33m 8s\n",
            "25:\tlearn: 0.3803272\ttotal: 51.8s\tremaining: 32m 21s\n",
            "26:\tlearn: 0.3755313\ttotal: 52.8s\tremaining: 31m 42s\n",
            "27:\tlearn: 0.3718363\ttotal: 53.6s\tremaining: 31m 1s\n",
            "28:\tlearn: 0.3689264\ttotal: 54.4s\tremaining: 30m 21s\n",
            "29:\tlearn: 0.3651293\ttotal: 55.2s\tremaining: 29m 43s\n",
            "30:\tlearn: 0.3625856\ttotal: 55.9s\tremaining: 29m 8s\n",
            "31:\tlearn: 0.3592865\ttotal: 56.7s\tremaining: 28m 35s\n",
            "32:\tlearn: 0.3568384\ttotal: 57.5s\tremaining: 28m 5s\n",
            "33:\tlearn: 0.3543554\ttotal: 58.3s\tremaining: 27m 36s\n",
            "34:\tlearn: 0.3507921\ttotal: 59.1s\tremaining: 27m 9s\n",
            "35:\tlearn: 0.3480058\ttotal: 59.9s\tremaining: 26m 44s\n",
            "36:\tlearn: 0.3453483\ttotal: 1m\tremaining: 26m 20s\n",
            "37:\tlearn: 0.3432634\ttotal: 1m 1s\tremaining: 25m 58s\n",
            "38:\tlearn: 0.3409686\ttotal: 1m 2s\tremaining: 25m 36s\n",
            "39:\tlearn: 0.3393467\ttotal: 1m 3s\tremaining: 25m 15s\n",
            "40:\tlearn: 0.3376633\ttotal: 1m 3s\tremaining: 24m 55s\n",
            "41:\tlearn: 0.3356815\ttotal: 1m 4s\tremaining: 24m 36s\n",
            "42:\tlearn: 0.3339785\ttotal: 1m 5s\tremaining: 24m 17s\n",
            "43:\tlearn: 0.3322204\ttotal: 1m 6s\tremaining: 23m 59s\n",
            "44:\tlearn: 0.3304346\ttotal: 1m 7s\tremaining: 23m 42s\n",
            "45:\tlearn: 0.3289590\ttotal: 1m 7s\tremaining: 23m 26s\n",
            "46:\tlearn: 0.3266889\ttotal: 1m 8s\tremaining: 23m 13s\n",
            "47:\tlearn: 0.3254220\ttotal: 1m 9s\tremaining: 23m\n",
            "48:\tlearn: 0.3222845\ttotal: 1m 10s\tremaining: 22m 47s\n",
            "49:\tlearn: 0.3205488\ttotal: 1m 11s\tremaining: 22m 33s\n",
            "50:\tlearn: 0.3192648\ttotal: 1m 12s\tremaining: 22m 20s\n",
            "51:\tlearn: 0.3167710\ttotal: 1m 12s\tremaining: 22m 7s\n",
            "52:\tlearn: 0.3153552\ttotal: 1m 13s\tremaining: 21m 55s\n",
            "53:\tlearn: 0.3140521\ttotal: 1m 14s\tremaining: 21m 43s\n",
            "54:\tlearn: 0.3125305\ttotal: 1m 15s\tremaining: 21m 31s\n",
            "55:\tlearn: 0.3113422\ttotal: 1m 15s\tremaining: 21m 19s\n",
            "56:\tlearn: 0.3095742\ttotal: 1m 16s\tremaining: 21m 9s\n",
            "57:\tlearn: 0.3084372\ttotal: 1m 17s\tremaining: 20m 58s\n",
            "58:\tlearn: 0.3067185\ttotal: 1m 18s\tremaining: 20m 49s\n",
            "59:\tlearn: 0.3053600\ttotal: 1m 19s\tremaining: 20m 39s\n",
            "60:\tlearn: 0.3039511\ttotal: 1m 19s\tremaining: 20m 29s\n",
            "61:\tlearn: 0.3030278\ttotal: 1m 20s\tremaining: 20m 20s\n",
            "62:\tlearn: 0.3016430\ttotal: 1m 21s\tremaining: 20m 11s\n",
            "63:\tlearn: 0.3006004\ttotal: 1m 22s\tremaining: 20m 3s\n",
            "64:\tlearn: 0.2996372\ttotal: 1m 23s\tremaining: 19m 55s\n",
            "65:\tlearn: 0.2977036\ttotal: 1m 23s\tremaining: 19m 47s\n",
            "66:\tlearn: 0.2967942\ttotal: 1m 24s\tremaining: 19m 39s\n",
            "67:\tlearn: 0.2956578\ttotal: 1m 25s\tremaining: 19m 31s\n",
            "68:\tlearn: 0.2944249\ttotal: 1m 26s\tremaining: 19m 23s\n",
            "69:\tlearn: 0.2935881\ttotal: 1m 26s\tremaining: 19m 15s\n",
            "70:\tlearn: 0.2926362\ttotal: 1m 27s\tremaining: 19m 8s\n",
            "71:\tlearn: 0.2915541\ttotal: 1m 28s\tremaining: 19m 1s\n",
            "72:\tlearn: 0.2906256\ttotal: 1m 29s\tremaining: 18m 55s\n",
            "73:\tlearn: 0.2895522\ttotal: 1m 30s\tremaining: 18m 48s\n",
            "74:\tlearn: 0.2888402\ttotal: 1m 30s\tremaining: 18m 41s\n",
            "75:\tlearn: 0.2877998\ttotal: 1m 31s\tremaining: 18m 35s\n",
            "76:\tlearn: 0.2869543\ttotal: 1m 32s\tremaining: 18m 29s\n",
            "77:\tlearn: 0.2860781\ttotal: 1m 33s\tremaining: 18m 22s\n",
            "78:\tlearn: 0.2846472\ttotal: 1m 34s\tremaining: 18m 17s\n",
            "79:\tlearn: 0.2837389\ttotal: 1m 34s\tremaining: 18m 11s\n",
            "80:\tlearn: 0.2814884\ttotal: 1m 35s\tremaining: 18m 5s\n",
            "81:\tlearn: 0.2805908\ttotal: 1m 36s\tremaining: 17m 59s\n",
            "82:\tlearn: 0.2790190\ttotal: 1m 37s\tremaining: 17m 54s\n",
            "83:\tlearn: 0.2781502\ttotal: 1m 38s\tremaining: 17m 49s\n",
            "84:\tlearn: 0.2773018\ttotal: 1m 38s\tremaining: 17m 44s\n",
            "85:\tlearn: 0.2766746\ttotal: 1m 40s\tremaining: 17m 43s\n",
            "86:\tlearn: 0.2759551\ttotal: 1m 41s\tremaining: 17m 44s\n",
            "87:\tlearn: 0.2753699\ttotal: 1m 42s\tremaining: 17m 45s\n",
            "88:\tlearn: 0.2746134\ttotal: 1m 43s\tremaining: 17m 43s\n",
            "89:\tlearn: 0.2738847\ttotal: 1m 44s\tremaining: 17m 38s\n",
            "90:\tlearn: 0.2729818\ttotal: 1m 45s\tremaining: 17m 33s\n",
            "91:\tlearn: 0.2722070\ttotal: 1m 46s\tremaining: 17m 29s\n",
            "92:\tlearn: 0.2715341\ttotal: 1m 47s\tremaining: 17m 25s\n",
            "93:\tlearn: 0.2708550\ttotal: 1m 48s\tremaining: 17m 21s\n",
            "94:\tlearn: 0.2701622\ttotal: 1m 48s\tremaining: 17m 16s\n",
            "95:\tlearn: 0.2694970\ttotal: 1m 49s\tremaining: 17m 12s\n",
            "96:\tlearn: 0.2686993\ttotal: 1m 50s\tremaining: 17m 7s\n",
            "97:\tlearn: 0.2679114\ttotal: 1m 51s\tremaining: 17m 3s\n",
            "98:\tlearn: 0.2669044\ttotal: 1m 51s\tremaining: 16m 58s\n",
            "99:\tlearn: 0.2663542\ttotal: 1m 52s\tremaining: 16m 54s\n",
            "100:\tlearn: 0.2657074\ttotal: 1m 53s\tremaining: 16m 50s\n",
            "101:\tlearn: 0.2651305\ttotal: 1m 54s\tremaining: 16m 45s\n",
            "102:\tlearn: 0.2644503\ttotal: 1m 55s\tremaining: 16m 41s\n",
            "103:\tlearn: 0.2636310\ttotal: 1m 55s\tremaining: 16m 37s\n",
            "104:\tlearn: 0.2629834\ttotal: 1m 56s\tremaining: 16m 33s\n",
            "105:\tlearn: 0.2623111\ttotal: 1m 57s\tremaining: 16m 29s\n",
            "106:\tlearn: 0.2617403\ttotal: 1m 58s\tremaining: 16m 26s\n",
            "107:\tlearn: 0.2609305\ttotal: 1m 58s\tremaining: 16m 22s\n",
            "108:\tlearn: 0.2603939\ttotal: 1m 59s\tremaining: 16m 18s\n",
            "109:\tlearn: 0.2598000\ttotal: 2m\tremaining: 16m 15s\n",
            "110:\tlearn: 0.2586128\ttotal: 2m 1s\tremaining: 16m 11s\n",
            "111:\tlearn: 0.2580800\ttotal: 2m 2s\tremaining: 16m 8s\n",
            "112:\tlearn: 0.2573802\ttotal: 2m 2s\tremaining: 16m 4s\n",
            "113:\tlearn: 0.2568785\ttotal: 2m 3s\tremaining: 16m 1s\n",
            "114:\tlearn: 0.2563188\ttotal: 2m 4s\tremaining: 15m 58s\n",
            "115:\tlearn: 0.2557927\ttotal: 2m 5s\tremaining: 15m 54s\n",
            "116:\tlearn: 0.2552933\ttotal: 2m 6s\tremaining: 15m 51s\n",
            "117:\tlearn: 0.2546666\ttotal: 2m 6s\tremaining: 15m 47s\n",
            "118:\tlearn: 0.2540765\ttotal: 2m 7s\tremaining: 15m 44s\n",
            "119:\tlearn: 0.2534005\ttotal: 2m 8s\tremaining: 15m 41s\n",
            "120:\tlearn: 0.2529138\ttotal: 2m 9s\tremaining: 15m 38s\n",
            "121:\tlearn: 0.2524382\ttotal: 2m 9s\tremaining: 15m 35s\n",
            "122:\tlearn: 0.2513317\ttotal: 2m 11s\tremaining: 15m 37s\n",
            "123:\tlearn: 0.2507281\ttotal: 2m 12s\tremaining: 15m 34s\n",
            "124:\tlearn: 0.2501730\ttotal: 2m 13s\tremaining: 15m 31s\n",
            "125:\tlearn: 0.2496467\ttotal: 2m 13s\tremaining: 15m 29s\n",
            "126:\tlearn: 0.2491839\ttotal: 2m 14s\tremaining: 15m 26s\n",
            "127:\tlearn: 0.2487357\ttotal: 2m 15s\tremaining: 15m 23s\n",
            "128:\tlearn: 0.2482599\ttotal: 2m 17s\tremaining: 15m 26s\n",
            "129:\tlearn: 0.2477420\ttotal: 2m 17s\tremaining: 15m 23s\n",
            "130:\tlearn: 0.2470970\ttotal: 2m 18s\tremaining: 15m 20s\n",
            "131:\tlearn: 0.2465188\ttotal: 2m 19s\tremaining: 15m 17s\n",
            "132:\tlearn: 0.2460687\ttotal: 2m 20s\tremaining: 15m 15s\n",
            "133:\tlearn: 0.2455610\ttotal: 2m 21s\tremaining: 15m 13s\n",
            "134:\tlearn: 0.2450627\ttotal: 2m 22s\tremaining: 15m 11s\n",
            "135:\tlearn: 0.2445514\ttotal: 2m 23s\tremaining: 15m 8s\n",
            "136:\tlearn: 0.2440590\ttotal: 2m 23s\tremaining: 15m 5s\n",
            "137:\tlearn: 0.2436213\ttotal: 2m 24s\tremaining: 15m 3s\n",
            "138:\tlearn: 0.2432010\ttotal: 2m 25s\tremaining: 15m\n",
            "139:\tlearn: 0.2425679\ttotal: 2m 26s\tremaining: 14m 57s\n",
            "140:\tlearn: 0.2421474\ttotal: 2m 26s\tremaining: 14m 55s\n",
            "141:\tlearn: 0.2416237\ttotal: 2m 27s\tremaining: 14m 52s\n",
            "142:\tlearn: 0.2412047\ttotal: 2m 28s\tremaining: 14m 50s\n",
            "143:\tlearn: 0.2407406\ttotal: 2m 29s\tremaining: 14m 48s\n",
            "144:\tlearn: 0.2402669\ttotal: 2m 30s\tremaining: 14m 45s\n",
            "145:\tlearn: 0.2387510\ttotal: 2m 31s\tremaining: 14m 43s\n",
            "146:\tlearn: 0.2381992\ttotal: 2m 31s\tremaining: 14m 41s\n",
            "147:\tlearn: 0.2378165\ttotal: 2m 32s\tremaining: 14m 38s\n",
            "148:\tlearn: 0.2373806\ttotal: 2m 33s\tremaining: 14m 36s\n",
            "149:\tlearn: 0.2369719\ttotal: 2m 34s\tremaining: 14m 33s\n",
            "150:\tlearn: 0.2363638\ttotal: 2m 35s\tremaining: 14m 31s\n",
            "151:\tlearn: 0.2359539\ttotal: 2m 35s\tremaining: 14m 29s\n",
            "152:\tlearn: 0.2355457\ttotal: 2m 37s\tremaining: 14m 30s\n",
            "153:\tlearn: 0.2351176\ttotal: 2m 38s\tremaining: 14m 32s\n",
            "154:\tlearn: 0.2347817\ttotal: 2m 39s\tremaining: 14m 29s\n",
            "155:\tlearn: 0.2342685\ttotal: 2m 40s\tremaining: 14m 27s\n",
            "156:\tlearn: 0.2338711\ttotal: 2m 41s\tremaining: 14m 25s\n",
            "157:\tlearn: 0.2333414\ttotal: 2m 41s\tremaining: 14m 23s\n",
            "158:\tlearn: 0.2329055\ttotal: 2m 42s\tremaining: 14m 21s\n",
            "159:\tlearn: 0.2317909\ttotal: 2m 43s\tremaining: 14m 18s\n",
            "160:\tlearn: 0.2313555\ttotal: 2m 44s\tremaining: 14m 16s\n",
            "161:\tlearn: 0.2309721\ttotal: 2m 45s\tremaining: 14m 14s\n",
            "162:\tlearn: 0.2306546\ttotal: 2m 45s\tremaining: 14m 12s\n",
            "163:\tlearn: 0.2302607\ttotal: 2m 46s\tremaining: 14m 10s\n",
            "164:\tlearn: 0.2299003\ttotal: 2m 47s\tremaining: 14m 7s\n",
            "165:\tlearn: 0.2295182\ttotal: 2m 48s\tremaining: 14m 5s\n",
            "166:\tlearn: 0.2289657\ttotal: 2m 49s\tremaining: 14m 3s\n",
            "167:\tlearn: 0.2286614\ttotal: 2m 49s\tremaining: 14m 1s\n",
            "168:\tlearn: 0.2281851\ttotal: 2m 50s\tremaining: 13m 59s\n",
            "169:\tlearn: 0.2273448\ttotal: 2m 51s\tremaining: 13m 57s\n",
            "170:\tlearn: 0.2269355\ttotal: 2m 52s\tremaining: 13m 55s\n",
            "171:\tlearn: 0.2266212\ttotal: 2m 53s\tremaining: 13m 53s\n",
            "172:\tlearn: 0.2263366\ttotal: 2m 53s\tremaining: 13m 51s\n",
            "173:\tlearn: 0.2259637\ttotal: 2m 54s\tremaining: 13m 49s\n",
            "174:\tlearn: 0.2254578\ttotal: 2m 55s\tremaining: 13m 47s\n",
            "175:\tlearn: 0.2251566\ttotal: 2m 56s\tremaining: 13m 45s\n",
            "176:\tlearn: 0.2247225\ttotal: 2m 57s\tremaining: 13m 43s\n",
            "177:\tlearn: 0.2243823\ttotal: 2m 57s\tremaining: 13m 41s\n",
            "178:\tlearn: 0.2240850\ttotal: 2m 58s\tremaining: 13m 39s\n",
            "179:\tlearn: 0.2238612\ttotal: 2m 59s\tremaining: 13m 37s\n",
            "180:\tlearn: 0.2235164\ttotal: 3m\tremaining: 13m 35s\n",
            "181:\tlearn: 0.2230974\ttotal: 3m 1s\tremaining: 13m 34s\n",
            "182:\tlearn: 0.2228390\ttotal: 3m 2s\tremaining: 13m 32s\n",
            "183:\tlearn: 0.2224453\ttotal: 3m 2s\tremaining: 13m 31s\n",
            "184:\tlearn: 0.2219411\ttotal: 3m 3s\tremaining: 13m 29s\n",
            "185:\tlearn: 0.2216035\ttotal: 3m 4s\tremaining: 13m 27s\n",
            "186:\tlearn: 0.2211706\ttotal: 3m 5s\tremaining: 13m 25s\n",
            "187:\tlearn: 0.2207934\ttotal: 3m 6s\tremaining: 13m 23s\n",
            "188:\tlearn: 0.2204981\ttotal: 3m 6s\tremaining: 13m 21s\n",
            "189:\tlearn: 0.2201973\ttotal: 3m 7s\tremaining: 13m 20s\n",
            "190:\tlearn: 0.2198631\ttotal: 3m 8s\tremaining: 13m 18s\n",
            "191:\tlearn: 0.2194074\ttotal: 3m 9s\tremaining: 13m 16s\n",
            "192:\tlearn: 0.2190868\ttotal: 3m 10s\tremaining: 13m 15s\n",
            "193:\tlearn: 0.2187990\ttotal: 3m 11s\tremaining: 13m 13s\n",
            "194:\tlearn: 0.2184826\ttotal: 3m 11s\tremaining: 13m 12s\n",
            "195:\tlearn: 0.2181682\ttotal: 3m 12s\tremaining: 13m 10s\n",
            "196:\tlearn: 0.2177796\ttotal: 3m 13s\tremaining: 13m 9s\n",
            "197:\tlearn: 0.2174292\ttotal: 3m 14s\tremaining: 13m 7s\n",
            "198:\tlearn: 0.2172108\ttotal: 3m 15s\tremaining: 13m 6s\n",
            "199:\tlearn: 0.2169531\ttotal: 3m 16s\tremaining: 13m 4s\n",
            "200:\tlearn: 0.2166723\ttotal: 3m 16s\tremaining: 13m 2s\n",
            "201:\tlearn: 0.2163464\ttotal: 3m 17s\tremaining: 13m\n",
            "202:\tlearn: 0.2159424\ttotal: 3m 18s\tremaining: 12m 59s\n",
            "203:\tlearn: 0.2156306\ttotal: 3m 19s\tremaining: 12m 57s\n",
            "204:\tlearn: 0.2153702\ttotal: 3m 20s\tremaining: 12m 56s\n",
            "205:\tlearn: 0.2151119\ttotal: 3m 21s\tremaining: 12m 55s\n",
            "206:\tlearn: 0.2148124\ttotal: 3m 21s\tremaining: 12m 53s\n",
            "207:\tlearn: 0.2145687\ttotal: 3m 23s\tremaining: 12m 55s\n",
            "208:\tlearn: 0.2142810\ttotal: 3m 25s\tremaining: 12m 56s\n",
            "209:\tlearn: 0.2139861\ttotal: 3m 26s\tremaining: 12m 55s\n",
            "210:\tlearn: 0.2137395\ttotal: 3m 26s\tremaining: 12m 53s\n",
            "211:\tlearn: 0.2134795\ttotal: 3m 27s\tremaining: 12m 52s\n",
            "212:\tlearn: 0.2131583\ttotal: 3m 28s\tremaining: 12m 50s\n",
            "213:\tlearn: 0.2128712\ttotal: 3m 29s\tremaining: 12m 49s\n",
            "214:\tlearn: 0.2125635\ttotal: 3m 30s\tremaining: 12m 47s\n",
            "215:\tlearn: 0.2123156\ttotal: 3m 30s\tremaining: 12m 45s\n",
            "216:\tlearn: 0.2120816\ttotal: 3m 31s\tremaining: 12m 44s\n",
            "217:\tlearn: 0.2118390\ttotal: 3m 32s\tremaining: 12m 42s\n",
            "218:\tlearn: 0.2115604\ttotal: 3m 33s\tremaining: 12m 41s\n",
            "219:\tlearn: 0.2112967\ttotal: 3m 34s\tremaining: 12m 39s\n",
            "220:\tlearn: 0.2111100\ttotal: 3m 35s\tremaining: 12m 38s\n",
            "221:\tlearn: 0.2107987\ttotal: 3m 35s\tremaining: 12m 36s\n",
            "222:\tlearn: 0.2104892\ttotal: 3m 36s\tremaining: 12m 35s\n",
            "223:\tlearn: 0.2101722\ttotal: 3m 37s\tremaining: 12m 33s\n",
            "224:\tlearn: 0.2099645\ttotal: 3m 38s\tremaining: 12m 32s\n",
            "225:\tlearn: 0.2096457\ttotal: 3m 39s\tremaining: 12m 31s\n",
            "226:\tlearn: 0.2094199\ttotal: 3m 40s\tremaining: 12m 29s\n",
            "227:\tlearn: 0.2091347\ttotal: 3m 41s\tremaining: 12m 28s\n",
            "228:\tlearn: 0.2089840\ttotal: 3m 41s\tremaining: 12m 27s\n",
            "229:\tlearn: 0.2087701\ttotal: 3m 42s\tremaining: 12m 26s\n",
            "230:\tlearn: 0.2085499\ttotal: 3m 43s\tremaining: 12m 25s\n",
            "231:\tlearn: 0.2083252\ttotal: 3m 44s\tremaining: 12m 24s\n",
            "232:\tlearn: 0.2081190\ttotal: 3m 45s\tremaining: 12m 23s\n",
            "233:\tlearn: 0.2077619\ttotal: 3m 46s\tremaining: 12m 22s\n",
            "234:\tlearn: 0.2073339\ttotal: 3m 47s\tremaining: 12m 20s\n",
            "235:\tlearn: 0.2069924\ttotal: 3m 48s\tremaining: 12m 19s\n",
            "236:\tlearn: 0.2067222\ttotal: 3m 49s\tremaining: 12m 18s\n",
            "237:\tlearn: 0.2063764\ttotal: 3m 50s\tremaining: 12m 17s\n",
            "238:\tlearn: 0.2061432\ttotal: 3m 51s\tremaining: 12m 15s\n",
            "239:\tlearn: 0.2059625\ttotal: 3m 51s\tremaining: 12m 14s\n",
            "240:\tlearn: 0.2057975\ttotal: 3m 52s\tremaining: 12m 13s\n",
            "241:\tlearn: 0.2055524\ttotal: 3m 53s\tremaining: 12m 11s\n",
            "242:\tlearn: 0.2053107\ttotal: 3m 54s\tremaining: 12m 10s\n",
            "243:\tlearn: 0.2050773\ttotal: 3m 55s\tremaining: 12m 9s\n",
            "244:\tlearn: 0.2047010\ttotal: 3m 56s\tremaining: 12m 8s\n",
            "245:\tlearn: 0.2044143\ttotal: 3m 57s\tremaining: 12m 6s\n",
            "246:\tlearn: 0.2042455\ttotal: 3m 58s\tremaining: 12m 5s\n",
            "247:\tlearn: 0.2040325\ttotal: 3m 58s\tremaining: 12m 4s\n",
            "248:\tlearn: 0.2038200\ttotal: 3m 59s\tremaining: 12m 3s\n",
            "249:\tlearn: 0.2036586\ttotal: 4m\tremaining: 12m 1s\n",
            "250:\tlearn: 0.2033895\ttotal: 4m 1s\tremaining: 12m\n",
            "251:\tlearn: 0.2030581\ttotal: 4m 2s\tremaining: 11m 59s\n",
            "252:\tlearn: 0.2028702\ttotal: 4m 3s\tremaining: 11m 57s\n",
            "253:\tlearn: 0.2026748\ttotal: 4m 3s\tremaining: 11m 56s\n",
            "254:\tlearn: 0.2024645\ttotal: 4m 4s\tremaining: 11m 55s\n",
            "255:\tlearn: 0.2023019\ttotal: 4m 5s\tremaining: 11m 53s\n",
            "256:\tlearn: 0.2019408\ttotal: 4m 6s\tremaining: 11m 52s\n",
            "257:\tlearn: 0.2017380\ttotal: 4m 7s\tremaining: 11m 50s\n",
            "258:\tlearn: 0.2014787\ttotal: 4m 7s\tremaining: 11m 49s\n",
            "259:\tlearn: 0.2012019\ttotal: 4m 8s\tremaining: 11m 47s\n",
            "260:\tlearn: 0.2010330\ttotal: 4m 9s\tremaining: 11m 46s\n",
            "261:\tlearn: 0.2008285\ttotal: 4m 10s\tremaining: 11m 44s\n",
            "262:\tlearn: 0.1998175\ttotal: 4m 11s\tremaining: 11m 43s\n",
            "263:\tlearn: 0.1995150\ttotal: 4m 11s\tremaining: 11m 42s\n",
            "264:\tlearn: 0.1993115\ttotal: 4m 12s\tremaining: 11m 40s\n",
            "265:\tlearn: 0.1990927\ttotal: 4m 13s\tremaining: 11m 39s\n",
            "266:\tlearn: 0.1987977\ttotal: 4m 14s\tremaining: 11m 37s\n",
            "267:\tlearn: 0.1986672\ttotal: 4m 14s\tremaining: 11m 36s\n",
            "268:\tlearn: 0.1985179\ttotal: 4m 15s\tremaining: 11m 35s\n",
            "269:\tlearn: 0.1982355\ttotal: 4m 16s\tremaining: 11m 33s\n",
            "270:\tlearn: 0.1980253\ttotal: 4m 17s\tremaining: 11m 32s\n",
            "271:\tlearn: 0.1978201\ttotal: 4m 18s\tremaining: 11m 30s\n",
            "272:\tlearn: 0.1976378\ttotal: 4m 18s\tremaining: 11m 29s\n",
            "273:\tlearn: 0.1974399\ttotal: 4m 19s\tremaining: 11m 27s\n",
            "274:\tlearn: 0.1972133\ttotal: 4m 20s\tremaining: 11m 26s\n",
            "275:\tlearn: 0.1970121\ttotal: 4m 21s\tremaining: 11m 25s\n",
            "276:\tlearn: 0.1968670\ttotal: 4m 22s\tremaining: 11m 23s\n",
            "277:\tlearn: 0.1966200\ttotal: 4m 22s\tremaining: 11m 22s\n",
            "278:\tlearn: 0.1963174\ttotal: 4m 23s\tremaining: 11m 21s\n",
            "279:\tlearn: 0.1961894\ttotal: 4m 25s\tremaining: 11m 21s\n",
            "280:\tlearn: 0.1959257\ttotal: 4m 26s\tremaining: 11m 21s\n",
            "281:\tlearn: 0.1956519\ttotal: 4m 28s\tremaining: 11m 22s\n",
            "282:\tlearn: 0.1954913\ttotal: 4m 28s\tremaining: 11m 21s\n",
            "283:\tlearn: 0.1953312\ttotal: 4m 29s\tremaining: 11m 19s\n",
            "284:\tlearn: 0.1951319\ttotal: 4m 30s\tremaining: 11m 18s\n",
            "285:\tlearn: 0.1949602\ttotal: 4m 31s\tremaining: 11m 17s\n",
            "286:\tlearn: 0.1948043\ttotal: 4m 32s\tremaining: 11m 15s\n",
            "287:\tlearn: 0.1946017\ttotal: 4m 32s\tremaining: 11m 14s\n",
            "288:\tlearn: 0.1944431\ttotal: 4m 33s\tremaining: 11m 13s\n",
            "289:\tlearn: 0.1942899\ttotal: 4m 34s\tremaining: 11m 11s\n",
            "290:\tlearn: 0.1940427\ttotal: 4m 35s\tremaining: 11m 10s\n",
            "291:\tlearn: 0.1938743\ttotal: 4m 35s\tremaining: 11m 9s\n",
            "292:\tlearn: 0.1937305\ttotal: 4m 36s\tremaining: 11m 7s\n",
            "293:\tlearn: 0.1934188\ttotal: 4m 37s\tremaining: 11m 6s\n",
            "294:\tlearn: 0.1932013\ttotal: 4m 38s\tremaining: 11m 5s\n",
            "295:\tlearn: 0.1930390\ttotal: 4m 39s\tremaining: 11m 3s\n",
            "296:\tlearn: 0.1927874\ttotal: 4m 39s\tremaining: 11m 2s\n",
            "297:\tlearn: 0.1926501\ttotal: 4m 40s\tremaining: 11m 1s\n",
            "298:\tlearn: 0.1924661\ttotal: 4m 41s\tremaining: 10m 59s\n",
            "299:\tlearn: 0.1923375\ttotal: 4m 42s\tremaining: 10m 58s\n",
            "300:\tlearn: 0.1921840\ttotal: 4m 43s\tremaining: 10m 57s\n",
            "301:\tlearn: 0.1920307\ttotal: 4m 43s\tremaining: 10m 56s\n",
            "302:\tlearn: 0.1918490\ttotal: 4m 44s\tremaining: 10m 54s\n",
            "303:\tlearn: 0.1916243\ttotal: 4m 45s\tremaining: 10m 53s\n",
            "304:\tlearn: 0.1914615\ttotal: 4m 46s\tremaining: 10m 52s\n",
            "305:\tlearn: 0.1912982\ttotal: 4m 47s\tremaining: 10m 51s\n",
            "306:\tlearn: 0.1910841\ttotal: 4m 47s\tremaining: 10m 49s\n",
            "307:\tlearn: 0.1904522\ttotal: 4m 48s\tremaining: 10m 48s\n",
            "308:\tlearn: 0.1902645\ttotal: 4m 49s\tremaining: 10m 47s\n",
            "309:\tlearn: 0.1893810\ttotal: 4m 50s\tremaining: 10m 45s\n",
            "310:\tlearn: 0.1892051\ttotal: 4m 50s\tremaining: 10m 44s\n",
            "311:\tlearn: 0.1890232\ttotal: 4m 51s\tremaining: 10m 43s\n",
            "312:\tlearn: 0.1888564\ttotal: 4m 52s\tremaining: 10m 42s\n",
            "313:\tlearn: 0.1885968\ttotal: 4m 53s\tremaining: 10m 41s\n",
            "314:\tlearn: 0.1882618\ttotal: 4m 54s\tremaining: 10m 39s\n",
            "315:\tlearn: 0.1880818\ttotal: 4m 55s\tremaining: 10m 38s\n",
            "316:\tlearn: 0.1878631\ttotal: 4m 55s\tremaining: 10m 37s\n",
            "317:\tlearn: 0.1877336\ttotal: 4m 56s\tremaining: 10m 36s\n",
            "318:\tlearn: 0.1872394\ttotal: 4m 57s\tremaining: 10m 34s\n",
            "319:\tlearn: 0.1871156\ttotal: 4m 58s\tremaining: 10m 33s\n",
            "320:\tlearn: 0.1869576\ttotal: 4m 58s\tremaining: 10m 32s\n",
            "321:\tlearn: 0.1868178\ttotal: 4m 59s\tremaining: 10m 31s\n",
            "322:\tlearn: 0.1866602\ttotal: 5m\tremaining: 10m 30s\n",
            "323:\tlearn: 0.1865349\ttotal: 5m 1s\tremaining: 10m 28s\n",
            "324:\tlearn: 0.1863522\ttotal: 5m 2s\tremaining: 10m 27s\n",
            "325:\tlearn: 0.1861870\ttotal: 5m 2s\tremaining: 10m 26s\n",
            "326:\tlearn: 0.1859879\ttotal: 5m 3s\tremaining: 10m 25s\n",
            "327:\tlearn: 0.1858360\ttotal: 5m 4s\tremaining: 10m 24s\n",
            "328:\tlearn: 0.1856953\ttotal: 5m 5s\tremaining: 10m 22s\n",
            "329:\tlearn: 0.1855410\ttotal: 5m 6s\tremaining: 10m 21s\n",
            "330:\tlearn: 0.1853741\ttotal: 5m 6s\tremaining: 10m 20s\n",
            "331:\tlearn: 0.1851799\ttotal: 5m 7s\tremaining: 10m 19s\n",
            "332:\tlearn: 0.1849657\ttotal: 5m 8s\tremaining: 10m 17s\n",
            "333:\tlearn: 0.1847973\ttotal: 5m 9s\tremaining: 10m 16s\n",
            "334:\tlearn: 0.1846598\ttotal: 5m 10s\tremaining: 10m 15s\n",
            "335:\tlearn: 0.1845096\ttotal: 5m 10s\tremaining: 10m 14s\n",
            "336:\tlearn: 0.1843433\ttotal: 5m 11s\tremaining: 10m 12s\n",
            "337:\tlearn: 0.1841956\ttotal: 5m 12s\tremaining: 10m 11s\n",
            "338:\tlearn: 0.1840301\ttotal: 5m 13s\tremaining: 10m 10s\n",
            "339:\tlearn: 0.1838516\ttotal: 5m 14s\tremaining: 10m 9s\n",
            "340:\tlearn: 0.1836407\ttotal: 5m 14s\tremaining: 10m 8s\n",
            "341:\tlearn: 0.1834907\ttotal: 5m 15s\tremaining: 10m 7s\n",
            "342:\tlearn: 0.1834027\ttotal: 5m 16s\tremaining: 10m 5s\n",
            "343:\tlearn: 0.1832905\ttotal: 5m 17s\tremaining: 10m 4s\n",
            "344:\tlearn: 0.1830692\ttotal: 5m 17s\tremaining: 10m 3s\n",
            "345:\tlearn: 0.1829431\ttotal: 5m 18s\tremaining: 10m 2s\n",
            "346:\tlearn: 0.1828034\ttotal: 5m 19s\tremaining: 10m 1s\n",
            "347:\tlearn: 0.1827065\ttotal: 5m 20s\tremaining: 9m 59s\n",
            "348:\tlearn: 0.1825214\ttotal: 5m 20s\tremaining: 9m 58s\n",
            "349:\tlearn: 0.1823381\ttotal: 5m 21s\tremaining: 9m 57s\n",
            "350:\tlearn: 0.1821204\ttotal: 5m 22s\tremaining: 9m 56s\n",
            "351:\tlearn: 0.1819960\ttotal: 5m 23s\tremaining: 9m 55s\n",
            "352:\tlearn: 0.1818527\ttotal: 5m 24s\tremaining: 9m 53s\n",
            "353:\tlearn: 0.1817631\ttotal: 5m 24s\tremaining: 9m 52s\n",
            "354:\tlearn: 0.1816426\ttotal: 5m 25s\tremaining: 9m 51s\n",
            "355:\tlearn: 0.1815148\ttotal: 5m 26s\tremaining: 9m 50s\n",
            "356:\tlearn: 0.1814070\ttotal: 5m 27s\tremaining: 9m 49s\n",
            "357:\tlearn: 0.1812902\ttotal: 5m 27s\tremaining: 9m 48s\n",
            "358:\tlearn: 0.1811987\ttotal: 5m 28s\tremaining: 9m 47s\n",
            "359:\tlearn: 0.1810531\ttotal: 5m 29s\tremaining: 9m 45s\n",
            "360:\tlearn: 0.1809054\ttotal: 5m 30s\tremaining: 9m 44s\n",
            "361:\tlearn: 0.1807807\ttotal: 5m 31s\tremaining: 9m 43s\n",
            "362:\tlearn: 0.1806551\ttotal: 5m 31s\tremaining: 9m 42s\n",
            "363:\tlearn: 0.1805626\ttotal: 5m 32s\tremaining: 9m 41s\n",
            "364:\tlearn: 0.1804380\ttotal: 5m 33s\tremaining: 9m 39s\n",
            "365:\tlearn: 0.1803176\ttotal: 5m 34s\tremaining: 9m 38s\n",
            "366:\tlearn: 0.1801821\ttotal: 5m 34s\tremaining: 9m 37s\n",
            "367:\tlearn: 0.1800166\ttotal: 5m 35s\tremaining: 9m 36s\n",
            "368:\tlearn: 0.1798937\ttotal: 5m 36s\tremaining: 9m 35s\n",
            "369:\tlearn: 0.1797990\ttotal: 5m 37s\tremaining: 9m 34s\n",
            "370:\tlearn: 0.1796275\ttotal: 5m 38s\tremaining: 9m 33s\n",
            "371:\tlearn: 0.1795140\ttotal: 5m 38s\tremaining: 9m 31s\n",
            "372:\tlearn: 0.1793812\ttotal: 5m 39s\tremaining: 9m 30s\n",
            "373:\tlearn: 0.1792667\ttotal: 5m 40s\tremaining: 9m 29s\n",
            "374:\tlearn: 0.1791790\ttotal: 5m 41s\tremaining: 9m 28s\n",
            "375:\tlearn: 0.1790705\ttotal: 5m 41s\tremaining: 9m 27s\n",
            "376:\tlearn: 0.1789795\ttotal: 5m 42s\tremaining: 9m 26s\n",
            "377:\tlearn: 0.1788659\ttotal: 5m 43s\tremaining: 9m 25s\n",
            "378:\tlearn: 0.1787300\ttotal: 5m 44s\tremaining: 9m 24s\n",
            "379:\tlearn: 0.1786111\ttotal: 5m 45s\tremaining: 9m 22s\n",
            "380:\tlearn: 0.1784661\ttotal: 5m 45s\tremaining: 9m 21s\n",
            "381:\tlearn: 0.1783692\ttotal: 5m 46s\tremaining: 9m 20s\n",
            "382:\tlearn: 0.1782350\ttotal: 5m 47s\tremaining: 9m 19s\n",
            "383:\tlearn: 0.1780854\ttotal: 5m 48s\tremaining: 9m 18s\n",
            "384:\tlearn: 0.1778421\ttotal: 5m 48s\tremaining: 9m 17s\n",
            "385:\tlearn: 0.1777001\ttotal: 5m 49s\tremaining: 9m 16s\n",
            "386:\tlearn: 0.1775591\ttotal: 5m 50s\tremaining: 9m 15s\n",
            "387:\tlearn: 0.1773342\ttotal: 5m 51s\tremaining: 9m 13s\n",
            "388:\tlearn: 0.1771269\ttotal: 5m 51s\tremaining: 9m 12s\n",
            "389:\tlearn: 0.1769484\ttotal: 5m 52s\tremaining: 9m 11s\n",
            "390:\tlearn: 0.1768809\ttotal: 5m 53s\tremaining: 9m 10s\n",
            "391:\tlearn: 0.1766639\ttotal: 5m 54s\tremaining: 9m 9s\n",
            "392:\tlearn: 0.1764389\ttotal: 5m 55s\tremaining: 9m 8s\n",
            "393:\tlearn: 0.1763316\ttotal: 5m 55s\tremaining: 9m 7s\n",
            "394:\tlearn: 0.1757860\ttotal: 5m 56s\tremaining: 9m 6s\n",
            "395:\tlearn: 0.1757176\ttotal: 5m 57s\tremaining: 9m 5s\n",
            "396:\tlearn: 0.1756291\ttotal: 5m 58s\tremaining: 9m 4s\n",
            "397:\tlearn: 0.1754406\ttotal: 5m 58s\tremaining: 9m 2s\n",
            "398:\tlearn: 0.1752537\ttotal: 5m 59s\tremaining: 9m 1s\n",
            "399:\tlearn: 0.1751358\ttotal: 6m\tremaining: 9m\n",
            "400:\tlearn: 0.1749719\ttotal: 6m 1s\tremaining: 8m 59s\n",
            "401:\tlearn: 0.1748202\ttotal: 6m 2s\tremaining: 8m 58s\n",
            "402:\tlearn: 0.1747163\ttotal: 6m 2s\tremaining: 8m 57s\n",
            "403:\tlearn: 0.1746039\ttotal: 6m 3s\tremaining: 8m 56s\n",
            "404:\tlearn: 0.1744824\ttotal: 6m 4s\tremaining: 8m 55s\n",
            "405:\tlearn: 0.1743479\ttotal: 6m 5s\tremaining: 8m 54s\n",
            "406:\tlearn: 0.1741600\ttotal: 6m 6s\tremaining: 8m 53s\n",
            "407:\tlearn: 0.1740595\ttotal: 6m 6s\tremaining: 8m 52s\n",
            "408:\tlearn: 0.1739911\ttotal: 6m 7s\tremaining: 8m 51s\n",
            "409:\tlearn: 0.1738652\ttotal: 6m 8s\tremaining: 8m 50s\n",
            "410:\tlearn: 0.1737689\ttotal: 6m 9s\tremaining: 8m 49s\n",
            "411:\tlearn: 0.1736670\ttotal: 6m 9s\tremaining: 8m 47s\n",
            "412:\tlearn: 0.1736074\ttotal: 6m 10s\tremaining: 8m 46s\n",
            "413:\tlearn: 0.1734295\ttotal: 6m 11s\tremaining: 8m 45s\n",
            "414:\tlearn: 0.1733289\ttotal: 6m 12s\tremaining: 8m 44s\n",
            "415:\tlearn: 0.1732593\ttotal: 6m 13s\tremaining: 8m 43s\n",
            "416:\tlearn: 0.1730820\ttotal: 6m 13s\tremaining: 8m 42s\n",
            "417:\tlearn: 0.1729514\ttotal: 6m 14s\tremaining: 8m 41s\n",
            "418:\tlearn: 0.1728103\ttotal: 6m 15s\tremaining: 8m 40s\n",
            "419:\tlearn: 0.1727103\ttotal: 6m 16s\tremaining: 8m 39s\n",
            "420:\tlearn: 0.1725732\ttotal: 6m 17s\tremaining: 8m 38s\n",
            "421:\tlearn: 0.1723332\ttotal: 6m 17s\tremaining: 8m 37s\n",
            "422:\tlearn: 0.1722539\ttotal: 6m 18s\tremaining: 8m 36s\n",
            "423:\tlearn: 0.1721799\ttotal: 6m 19s\tremaining: 8m 35s\n",
            "424:\tlearn: 0.1720648\ttotal: 6m 20s\tremaining: 8m 34s\n",
            "425:\tlearn: 0.1718937\ttotal: 6m 21s\tremaining: 8m 33s\n",
            "426:\tlearn: 0.1718059\ttotal: 6m 21s\tremaining: 8m 32s\n",
            "427:\tlearn: 0.1716013\ttotal: 6m 22s\tremaining: 8m 31s\n",
            "428:\tlearn: 0.1713876\ttotal: 6m 23s\tremaining: 8m 30s\n",
            "429:\tlearn: 0.1712496\ttotal: 6m 24s\tremaining: 8m 29s\n",
            "430:\tlearn: 0.1710974\ttotal: 6m 25s\tremaining: 8m 28s\n",
            "431:\tlearn: 0.1709404\ttotal: 6m 25s\tremaining: 8m 27s\n",
            "432:\tlearn: 0.1708455\ttotal: 6m 26s\tremaining: 8m 26s\n",
            "433:\tlearn: 0.1707557\ttotal: 6m 27s\tremaining: 8m 25s\n",
            "434:\tlearn: 0.1706092\ttotal: 6m 28s\tremaining: 8m 24s\n",
            "435:\tlearn: 0.1704617\ttotal: 6m 28s\tremaining: 8m 23s\n",
            "436:\tlearn: 0.1703323\ttotal: 6m 29s\tremaining: 8m 22s\n",
            "437:\tlearn: 0.1702525\ttotal: 6m 30s\tremaining: 8m 21s\n",
            "438:\tlearn: 0.1702051\ttotal: 6m 31s\tremaining: 8m 20s\n",
            "439:\tlearn: 0.1701076\ttotal: 6m 32s\tremaining: 8m 19s\n",
            "440:\tlearn: 0.1700529\ttotal: 6m 32s\tremaining: 8m 18s\n",
            "441:\tlearn: 0.1698648\ttotal: 6m 33s\tremaining: 8m 17s\n",
            "442:\tlearn: 0.1697821\ttotal: 6m 34s\tremaining: 8m 16s\n",
            "443:\tlearn: 0.1697163\ttotal: 6m 35s\tremaining: 8m 15s\n",
            "444:\tlearn: 0.1696067\ttotal: 6m 36s\tremaining: 8m 13s\n",
            "445:\tlearn: 0.1695126\ttotal: 6m 36s\tremaining: 8m 12s\n",
            "446:\tlearn: 0.1694121\ttotal: 6m 37s\tremaining: 8m 11s\n",
            "447:\tlearn: 0.1693145\ttotal: 6m 38s\tremaining: 8m 10s\n",
            "448:\tlearn: 0.1692276\ttotal: 6m 39s\tremaining: 8m 9s\n",
            "449:\tlearn: 0.1691376\ttotal: 6m 39s\tremaining: 8m 8s\n",
            "450:\tlearn: 0.1690502\ttotal: 6m 40s\tremaining: 8m 7s\n",
            "451:\tlearn: 0.1689634\ttotal: 6m 41s\tremaining: 8m 6s\n",
            "452:\tlearn: 0.1689077\ttotal: 6m 42s\tremaining: 8m 5s\n",
            "453:\tlearn: 0.1688368\ttotal: 6m 43s\tremaining: 8m 4s\n",
            "454:\tlearn: 0.1687568\ttotal: 6m 44s\tremaining: 8m 3s\n",
            "455:\tlearn: 0.1686742\ttotal: 6m 44s\tremaining: 8m 2s\n",
            "456:\tlearn: 0.1686104\ttotal: 6m 45s\tremaining: 8m 1s\n",
            "457:\tlearn: 0.1685107\ttotal: 6m 46s\tremaining: 8m\n",
            "458:\tlearn: 0.1683865\ttotal: 6m 47s\tremaining: 7m 59s\n",
            "459:\tlearn: 0.1681084\ttotal: 6m 47s\tremaining: 7m 58s\n",
            "460:\tlearn: 0.1680128\ttotal: 6m 48s\tremaining: 7m 57s\n",
            "461:\tlearn: 0.1679119\ttotal: 6m 49s\tremaining: 7m 56s\n",
            "462:\tlearn: 0.1678271\ttotal: 6m 50s\tremaining: 7m 55s\n",
            "463:\tlearn: 0.1677481\ttotal: 6m 50s\tremaining: 7m 54s\n",
            "464:\tlearn: 0.1676736\ttotal: 6m 51s\tremaining: 7m 53s\n",
            "465:\tlearn: 0.1675959\ttotal: 6m 52s\tremaining: 7m 52s\n",
            "466:\tlearn: 0.1674566\ttotal: 6m 53s\tremaining: 7m 51s\n",
            "467:\tlearn: 0.1673959\ttotal: 6m 54s\tremaining: 7m 50s\n",
            "468:\tlearn: 0.1673179\ttotal: 6m 54s\tremaining: 7m 49s\n",
            "469:\tlearn: 0.1672526\ttotal: 6m 55s\tremaining: 7m 48s\n",
            "470:\tlearn: 0.1671801\ttotal: 6m 56s\tremaining: 7m 47s\n",
            "471:\tlearn: 0.1671142\ttotal: 6m 57s\tremaining: 7m 46s\n",
            "472:\tlearn: 0.1670465\ttotal: 6m 57s\tremaining: 7m 45s\n",
            "473:\tlearn: 0.1669065\ttotal: 6m 58s\tremaining: 7m 44s\n",
            "474:\tlearn: 0.1667142\ttotal: 6m 59s\tremaining: 7m 43s\n",
            "475:\tlearn: 0.1666520\ttotal: 7m\tremaining: 7m 42s\n",
            "476:\tlearn: 0.1665418\ttotal: 7m 1s\tremaining: 7m 41s\n",
            "477:\tlearn: 0.1660807\ttotal: 7m 1s\tremaining: 7m 40s\n",
            "478:\tlearn: 0.1660087\ttotal: 7m 2s\tremaining: 7m 39s\n",
            "479:\tlearn: 0.1658771\ttotal: 7m 3s\tremaining: 7m 38s\n",
            "480:\tlearn: 0.1657670\ttotal: 7m 4s\tremaining: 7m 37s\n",
            "481:\tlearn: 0.1655883\ttotal: 7m 4s\tremaining: 7m 36s\n",
            "482:\tlearn: 0.1655349\ttotal: 7m 5s\tremaining: 7m 35s\n",
            "483:\tlearn: 0.1654156\ttotal: 7m 6s\tremaining: 7m 34s\n",
            "484:\tlearn: 0.1653188\ttotal: 7m 7s\tremaining: 7m 33s\n",
            "485:\tlearn: 0.1651336\ttotal: 7m 8s\tremaining: 7m 33s\n",
            "486:\tlearn: 0.1650458\ttotal: 7m 9s\tremaining: 7m 32s\n",
            "487:\tlearn: 0.1649400\ttotal: 7m 11s\tremaining: 7m 32s\n",
            "488:\tlearn: 0.1648427\ttotal: 7m 12s\tremaining: 7m 31s\n",
            "489:\tlearn: 0.1647419\ttotal: 7m 12s\tremaining: 7m 30s\n",
            "490:\tlearn: 0.1646611\ttotal: 7m 13s\tremaining: 7m 29s\n",
            "491:\tlearn: 0.1641913\ttotal: 7m 14s\tremaining: 7m 28s\n",
            "492:\tlearn: 0.1640255\ttotal: 7m 15s\tremaining: 7m 27s\n",
            "493:\tlearn: 0.1639215\ttotal: 7m 16s\tremaining: 7m 26s\n",
            "494:\tlearn: 0.1636888\ttotal: 7m 16s\tremaining: 7m 25s\n",
            "495:\tlearn: 0.1636251\ttotal: 7m 17s\tremaining: 7m 24s\n",
            "496:\tlearn: 0.1635664\ttotal: 7m 18s\tremaining: 7m 23s\n",
            "497:\tlearn: 0.1634848\ttotal: 7m 19s\tremaining: 7m 22s\n",
            "498:\tlearn: 0.1634362\ttotal: 7m 20s\tremaining: 7m 22s\n",
            "499:\tlearn: 0.1633936\ttotal: 7m 21s\tremaining: 7m 21s\n",
            "500:\tlearn: 0.1632413\ttotal: 7m 22s\tremaining: 7m 20s\n",
            "501:\tlearn: 0.1631149\ttotal: 7m 23s\tremaining: 7m 19s\n",
            "502:\tlearn: 0.1630688\ttotal: 7m 24s\tremaining: 7m 18s\n",
            "503:\tlearn: 0.1629736\ttotal: 7m 25s\tremaining: 7m 18s\n",
            "504:\tlearn: 0.1628822\ttotal: 7m 26s\tremaining: 7m 17s\n",
            "505:\tlearn: 0.1628421\ttotal: 7m 27s\tremaining: 7m 17s\n",
            "506:\tlearn: 0.1627578\ttotal: 7m 28s\tremaining: 7m 16s\n",
            "507:\tlearn: 0.1626782\ttotal: 7m 29s\tremaining: 7m 15s\n",
            "508:\tlearn: 0.1625834\ttotal: 7m 30s\tremaining: 7m 14s\n",
            "509:\tlearn: 0.1624753\ttotal: 7m 31s\tremaining: 7m 13s\n",
            "510:\tlearn: 0.1624137\ttotal: 7m 32s\tremaining: 7m 12s\n",
            "511:\tlearn: 0.1623523\ttotal: 7m 32s\tremaining: 7m 11s\n",
            "512:\tlearn: 0.1622794\ttotal: 7m 33s\tremaining: 7m 10s\n",
            "513:\tlearn: 0.1622227\ttotal: 7m 34s\tremaining: 7m 9s\n",
            "514:\tlearn: 0.1621502\ttotal: 7m 35s\tremaining: 7m 8s\n",
            "515:\tlearn: 0.1620951\ttotal: 7m 36s\tremaining: 7m 7s\n",
            "516:\tlearn: 0.1620169\ttotal: 7m 36s\tremaining: 7m 6s\n",
            "517:\tlearn: 0.1619188\ttotal: 7m 37s\tremaining: 7m 5s\n",
            "518:\tlearn: 0.1618725\ttotal: 7m 38s\tremaining: 7m 4s\n",
            "519:\tlearn: 0.1618179\ttotal: 7m 39s\tremaining: 7m 3s\n",
            "520:\tlearn: 0.1617261\ttotal: 7m 39s\tremaining: 7m 2s\n",
            "521:\tlearn: 0.1616568\ttotal: 7m 40s\tremaining: 7m 1s\n",
            "522:\tlearn: 0.1614948\ttotal: 7m 41s\tremaining: 7m\n",
            "523:\tlearn: 0.1613867\ttotal: 7m 42s\tremaining: 6m 59s\n",
            "524:\tlearn: 0.1612213\ttotal: 7m 43s\tremaining: 6m 58s\n",
            "525:\tlearn: 0.1611393\ttotal: 7m 43s\tremaining: 6m 57s\n",
            "526:\tlearn: 0.1610407\ttotal: 7m 44s\tremaining: 6m 56s\n",
            "527:\tlearn: 0.1608519\ttotal: 7m 45s\tremaining: 6m 55s\n",
            "528:\tlearn: 0.1607070\ttotal: 7m 46s\tremaining: 6m 55s\n",
            "529:\tlearn: 0.1606410\ttotal: 7m 46s\tremaining: 6m 54s\n",
            "530:\tlearn: 0.1605704\ttotal: 7m 47s\tremaining: 6m 53s\n",
            "531:\tlearn: 0.1603542\ttotal: 7m 48s\tremaining: 6m 52s\n",
            "532:\tlearn: 0.1602891\ttotal: 7m 49s\tremaining: 6m 51s\n",
            "533:\tlearn: 0.1602088\ttotal: 7m 50s\tremaining: 6m 50s\n",
            "534:\tlearn: 0.1601301\ttotal: 7m 50s\tremaining: 6m 49s\n",
            "535:\tlearn: 0.1600716\ttotal: 7m 51s\tremaining: 6m 48s\n",
            "536:\tlearn: 0.1600292\ttotal: 7m 52s\tremaining: 6m 47s\n",
            "537:\tlearn: 0.1599533\ttotal: 7m 53s\tremaining: 6m 46s\n",
            "538:\tlearn: 0.1598990\ttotal: 7m 53s\tremaining: 6m 45s\n",
            "539:\tlearn: 0.1598426\ttotal: 7m 54s\tremaining: 6m 44s\n",
            "540:\tlearn: 0.1597466\ttotal: 7m 55s\tremaining: 6m 43s\n",
            "541:\tlearn: 0.1596779\ttotal: 7m 56s\tremaining: 6m 42s\n",
            "542:\tlearn: 0.1596355\ttotal: 7m 57s\tremaining: 6m 41s\n",
            "543:\tlearn: 0.1595862\ttotal: 7m 57s\tremaining: 6m 40s\n",
            "544:\tlearn: 0.1594634\ttotal: 7m 58s\tremaining: 6m 39s\n",
            "545:\tlearn: 0.1594237\ttotal: 7m 59s\tremaining: 6m 38s\n",
            "546:\tlearn: 0.1593746\ttotal: 8m\tremaining: 6m 37s\n",
            "547:\tlearn: 0.1592788\ttotal: 8m\tremaining: 6m 36s\n",
            "548:\tlearn: 0.1592018\ttotal: 8m 1s\tremaining: 6m 35s\n",
            "549:\tlearn: 0.1591533\ttotal: 8m 2s\tremaining: 6m 34s\n",
            "550:\tlearn: 0.1590674\ttotal: 8m 3s\tremaining: 6m 33s\n",
            "551:\tlearn: 0.1589600\ttotal: 8m 4s\tremaining: 6m 32s\n",
            "552:\tlearn: 0.1588687\ttotal: 8m 4s\tremaining: 6m 31s\n",
            "553:\tlearn: 0.1587860\ttotal: 8m 5s\tremaining: 6m 30s\n",
            "554:\tlearn: 0.1587259\ttotal: 8m 6s\tremaining: 6m 30s\n",
            "555:\tlearn: 0.1586659\ttotal: 8m 7s\tremaining: 6m 29s\n",
            "556:\tlearn: 0.1585693\ttotal: 8m 8s\tremaining: 6m 28s\n",
            "557:\tlearn: 0.1584442\ttotal: 8m 8s\tremaining: 6m 27s\n",
            "558:\tlearn: 0.1584040\ttotal: 8m 9s\tremaining: 6m 26s\n",
            "559:\tlearn: 0.1581892\ttotal: 8m 10s\tremaining: 6m 25s\n",
            "560:\tlearn: 0.1581404\ttotal: 8m 11s\tremaining: 6m 24s\n",
            "561:\tlearn: 0.1579940\ttotal: 8m 12s\tremaining: 6m 23s\n",
            "562:\tlearn: 0.1579506\ttotal: 8m 12s\tremaining: 6m 22s\n",
            "563:\tlearn: 0.1578214\ttotal: 8m 13s\tremaining: 6m 21s\n",
            "564:\tlearn: 0.1577764\ttotal: 8m 14s\tremaining: 6m 20s\n",
            "565:\tlearn: 0.1576825\ttotal: 8m 15s\tremaining: 6m 19s\n",
            "566:\tlearn: 0.1575856\ttotal: 8m 15s\tremaining: 6m 18s\n",
            "567:\tlearn: 0.1574982\ttotal: 8m 16s\tremaining: 6m 17s\n",
            "568:\tlearn: 0.1574414\ttotal: 8m 17s\tremaining: 6m 16s\n",
            "569:\tlearn: 0.1573851\ttotal: 8m 18s\tremaining: 6m 15s\n",
            "570:\tlearn: 0.1573313\ttotal: 8m 19s\tremaining: 6m 14s\n",
            "571:\tlearn: 0.1572691\ttotal: 8m 19s\tremaining: 6m 13s\n",
            "572:\tlearn: 0.1572087\ttotal: 8m 20s\tremaining: 6m 13s\n",
            "573:\tlearn: 0.1571573\ttotal: 8m 21s\tremaining: 6m 12s\n",
            "574:\tlearn: 0.1570872\ttotal: 8m 22s\tremaining: 6m 11s\n",
            "575:\tlearn: 0.1569923\ttotal: 8m 22s\tremaining: 6m 10s\n",
            "576:\tlearn: 0.1568020\ttotal: 8m 23s\tremaining: 6m 9s\n",
            "577:\tlearn: 0.1567187\ttotal: 8m 24s\tremaining: 6m 8s\n",
            "578:\tlearn: 0.1566569\ttotal: 8m 25s\tremaining: 6m 7s\n",
            "579:\tlearn: 0.1565342\ttotal: 8m 26s\tremaining: 6m 6s\n",
            "580:\tlearn: 0.1564590\ttotal: 8m 26s\tremaining: 6m 5s\n",
            "581:\tlearn: 0.1564060\ttotal: 8m 27s\tremaining: 6m 4s\n",
            "582:\tlearn: 0.1563575\ttotal: 8m 28s\tremaining: 6m 3s\n",
            "583:\tlearn: 0.1562197\ttotal: 8m 29s\tremaining: 6m 2s\n",
            "584:\tlearn: 0.1561633\ttotal: 8m 30s\tremaining: 6m 1s\n",
            "585:\tlearn: 0.1561269\ttotal: 8m 30s\tremaining: 6m\n",
            "586:\tlearn: 0.1561000\ttotal: 8m 31s\tremaining: 6m\n",
            "587:\tlearn: 0.1559899\ttotal: 8m 32s\tremaining: 5m 59s\n",
            "588:\tlearn: 0.1559334\ttotal: 8m 33s\tremaining: 5m 58s\n",
            "589:\tlearn: 0.1557518\ttotal: 8m 34s\tremaining: 5m 57s\n",
            "590:\tlearn: 0.1556882\ttotal: 8m 34s\tremaining: 5m 56s\n",
            "591:\tlearn: 0.1556165\ttotal: 8m 35s\tremaining: 5m 55s\n",
            "592:\tlearn: 0.1555379\ttotal: 8m 36s\tremaining: 5m 54s\n",
            "593:\tlearn: 0.1554602\ttotal: 8m 37s\tremaining: 5m 53s\n",
            "594:\tlearn: 0.1554109\ttotal: 8m 37s\tremaining: 5m 52s\n",
            "595:\tlearn: 0.1553433\ttotal: 8m 38s\tremaining: 5m 51s\n",
            "596:\tlearn: 0.1552845\ttotal: 8m 39s\tremaining: 5m 50s\n",
            "597:\tlearn: 0.1552296\ttotal: 8m 40s\tremaining: 5m 49s\n",
            "598:\tlearn: 0.1551795\ttotal: 8m 41s\tremaining: 5m 48s\n",
            "599:\tlearn: 0.1551342\ttotal: 8m 41s\tremaining: 5m 47s\n",
            "600:\tlearn: 0.1550362\ttotal: 8m 42s\tremaining: 5m 47s\n",
            "601:\tlearn: 0.1549813\ttotal: 8m 43s\tremaining: 5m 46s\n",
            "602:\tlearn: 0.1549281\ttotal: 8m 44s\tremaining: 5m 45s\n",
            "603:\tlearn: 0.1548685\ttotal: 8m 45s\tremaining: 5m 44s\n",
            "604:\tlearn: 0.1548042\ttotal: 8m 45s\tremaining: 5m 43s\n",
            "605:\tlearn: 0.1547654\ttotal: 8m 46s\tremaining: 5m 42s\n",
            "606:\tlearn: 0.1546851\ttotal: 8m 47s\tremaining: 5m 41s\n",
            "607:\tlearn: 0.1545753\ttotal: 8m 48s\tremaining: 5m 40s\n",
            "608:\tlearn: 0.1544438\ttotal: 8m 49s\tremaining: 5m 39s\n",
            "609:\tlearn: 0.1542956\ttotal: 8m 50s\tremaining: 5m 38s\n",
            "610:\tlearn: 0.1542274\ttotal: 8m 50s\tremaining: 5m 38s\n",
            "611:\tlearn: 0.1541380\ttotal: 8m 51s\tremaining: 5m 37s\n",
            "612:\tlearn: 0.1540879\ttotal: 8m 52s\tremaining: 5m 36s\n",
            "613:\tlearn: 0.1540378\ttotal: 8m 53s\tremaining: 5m 35s\n",
            "614:\tlearn: 0.1539602\ttotal: 8m 54s\tremaining: 5m 34s\n",
            "615:\tlearn: 0.1539103\ttotal: 8m 55s\tremaining: 5m 33s\n",
            "616:\tlearn: 0.1538217\ttotal: 8m 55s\tremaining: 5m 32s\n",
            "617:\tlearn: 0.1537818\ttotal: 8m 56s\tremaining: 5m 31s\n",
            "618:\tlearn: 0.1536591\ttotal: 8m 57s\tremaining: 5m 30s\n",
            "619:\tlearn: 0.1536087\ttotal: 8m 58s\tremaining: 5m 29s\n",
            "620:\tlearn: 0.1535508\ttotal: 8m 59s\tremaining: 5m 28s\n",
            "621:\tlearn: 0.1534663\ttotal: 8m 59s\tremaining: 5m 28s\n",
            "622:\tlearn: 0.1534089\ttotal: 9m\tremaining: 5m 27s\n",
            "623:\tlearn: 0.1533280\ttotal: 9m 1s\tremaining: 5m 26s\n",
            "624:\tlearn: 0.1532833\ttotal: 9m 2s\tremaining: 5m 25s\n",
            "625:\tlearn: 0.1531673\ttotal: 9m 3s\tremaining: 5m 24s\n",
            "626:\tlearn: 0.1531027\ttotal: 9m 4s\tremaining: 5m 23s\n",
            "627:\tlearn: 0.1529995\ttotal: 9m 4s\tremaining: 5m 22s\n",
            "628:\tlearn: 0.1529198\ttotal: 9m 5s\tremaining: 5m 21s\n",
            "629:\tlearn: 0.1528670\ttotal: 9m 6s\tremaining: 5m 20s\n",
            "630:\tlearn: 0.1527460\ttotal: 9m 7s\tremaining: 5m 20s\n",
            "631:\tlearn: 0.1526936\ttotal: 9m 8s\tremaining: 5m 19s\n",
            "632:\tlearn: 0.1526084\ttotal: 9m 9s\tremaining: 5m 18s\n",
            "633:\tlearn: 0.1525400\ttotal: 9m 9s\tremaining: 5m 17s\n",
            "634:\tlearn: 0.1524675\ttotal: 9m 10s\tremaining: 5m 16s\n",
            "635:\tlearn: 0.1523138\ttotal: 9m 11s\tremaining: 5m 15s\n",
            "636:\tlearn: 0.1522692\ttotal: 9m 12s\tremaining: 5m 14s\n",
            "637:\tlearn: 0.1522421\ttotal: 9m 13s\tremaining: 5m 13s\n",
            "638:\tlearn: 0.1521465\ttotal: 9m 14s\tremaining: 5m 12s\n",
            "639:\tlearn: 0.1520933\ttotal: 9m 14s\tremaining: 5m 12s\n",
            "640:\tlearn: 0.1520573\ttotal: 9m 15s\tremaining: 5m 11s\n",
            "641:\tlearn: 0.1519839\ttotal: 9m 16s\tremaining: 5m 10s\n",
            "642:\tlearn: 0.1519342\ttotal: 9m 17s\tremaining: 5m 9s\n",
            "643:\tlearn: 0.1518747\ttotal: 9m 17s\tremaining: 5m 8s\n",
            "644:\tlearn: 0.1517966\ttotal: 9m 18s\tremaining: 5m 7s\n",
            "645:\tlearn: 0.1517428\ttotal: 9m 19s\tremaining: 5m 6s\n",
            "646:\tlearn: 0.1516969\ttotal: 9m 20s\tremaining: 5m 5s\n",
            "647:\tlearn: 0.1516565\ttotal: 9m 21s\tremaining: 5m 4s\n",
            "648:\tlearn: 0.1515894\ttotal: 9m 21s\tremaining: 5m 3s\n",
            "649:\tlearn: 0.1515190\ttotal: 9m 22s\tremaining: 5m 2s\n",
            "650:\tlearn: 0.1514783\ttotal: 9m 23s\tremaining: 5m 2s\n",
            "651:\tlearn: 0.1514425\ttotal: 9m 24s\tremaining: 5m 1s\n",
            "652:\tlearn: 0.1513925\ttotal: 9m 25s\tremaining: 5m\n",
            "653:\tlearn: 0.1513308\ttotal: 9m 25s\tremaining: 4m 59s\n",
            "654:\tlearn: 0.1512802\ttotal: 9m 26s\tremaining: 4m 58s\n",
            "655:\tlearn: 0.1511705\ttotal: 9m 27s\tremaining: 4m 57s\n",
            "656:\tlearn: 0.1511306\ttotal: 9m 28s\tremaining: 4m 56s\n",
            "657:\tlearn: 0.1510386\ttotal: 9m 29s\tremaining: 4m 55s\n",
            "658:\tlearn: 0.1509504\ttotal: 9m 30s\tremaining: 4m 54s\n",
            "659:\tlearn: 0.1509148\ttotal: 9m 30s\tremaining: 4m 54s\n",
            "660:\tlearn: 0.1508483\ttotal: 9m 31s\tremaining: 4m 53s\n",
            "661:\tlearn: 0.1507870\ttotal: 9m 32s\tremaining: 4m 52s\n",
            "662:\tlearn: 0.1507631\ttotal: 9m 33s\tremaining: 4m 51s\n",
            "663:\tlearn: 0.1507271\ttotal: 9m 33s\tremaining: 4m 50s\n",
            "664:\tlearn: 0.1506642\ttotal: 9m 34s\tremaining: 4m 49s\n",
            "665:\tlearn: 0.1505935\ttotal: 9m 35s\tremaining: 4m 48s\n",
            "666:\tlearn: 0.1505443\ttotal: 9m 36s\tremaining: 4m 47s\n",
            "667:\tlearn: 0.1504947\ttotal: 9m 37s\tremaining: 4m 46s\n",
            "668:\tlearn: 0.1504327\ttotal: 9m 38s\tremaining: 4m 46s\n",
            "669:\tlearn: 0.1503507\ttotal: 9m 38s\tremaining: 4m 45s\n",
            "670:\tlearn: 0.1503165\ttotal: 9m 39s\tremaining: 4m 44s\n",
            "671:\tlearn: 0.1501645\ttotal: 9m 40s\tremaining: 4m 43s\n",
            "672:\tlearn: 0.1501452\ttotal: 9m 41s\tremaining: 4m 42s\n",
            "673:\tlearn: 0.1500419\ttotal: 9m 42s\tremaining: 4m 41s\n",
            "674:\tlearn: 0.1499951\ttotal: 9m 42s\tremaining: 4m 40s\n",
            "675:\tlearn: 0.1499577\ttotal: 9m 43s\tremaining: 4m 39s\n",
            "676:\tlearn: 0.1499103\ttotal: 9m 44s\tremaining: 4m 38s\n",
            "677:\tlearn: 0.1498510\ttotal: 9m 45s\tremaining: 4m 37s\n",
            "678:\tlearn: 0.1498184\ttotal: 9m 45s\tremaining: 4m 37s\n",
            "679:\tlearn: 0.1497597\ttotal: 9m 46s\tremaining: 4m 36s\n",
            "680:\tlearn: 0.1497117\ttotal: 9m 47s\tremaining: 4m 35s\n",
            "681:\tlearn: 0.1495794\ttotal: 9m 48s\tremaining: 4m 34s\n",
            "682:\tlearn: 0.1495413\ttotal: 9m 49s\tremaining: 4m 33s\n",
            "683:\tlearn: 0.1494929\ttotal: 9m 49s\tremaining: 4m 32s\n",
            "684:\tlearn: 0.1494336\ttotal: 9m 50s\tremaining: 4m 31s\n",
            "685:\tlearn: 0.1493969\ttotal: 9m 51s\tremaining: 4m 30s\n",
            "686:\tlearn: 0.1493547\ttotal: 9m 52s\tremaining: 4m 30s\n",
            "687:\tlearn: 0.1493270\ttotal: 9m 54s\tremaining: 4m 29s\n",
            "688:\tlearn: 0.1491806\ttotal: 9m 55s\tremaining: 4m 28s\n",
            "689:\tlearn: 0.1491456\ttotal: 9m 56s\tremaining: 4m 27s\n",
            "690:\tlearn: 0.1490906\ttotal: 9m 57s\tremaining: 4m 27s\n",
            "691:\tlearn: 0.1490467\ttotal: 9m 57s\tremaining: 4m 26s\n",
            "692:\tlearn: 0.1489138\ttotal: 9m 58s\tremaining: 4m 25s\n",
            "693:\tlearn: 0.1488650\ttotal: 9m 59s\tremaining: 4m 24s\n",
            "694:\tlearn: 0.1487480\ttotal: 10m\tremaining: 4m 23s\n",
            "695:\tlearn: 0.1486986\ttotal: 10m 1s\tremaining: 4m 22s\n",
            "696:\tlearn: 0.1486426\ttotal: 10m 1s\tremaining: 4m 21s\n",
            "697:\tlearn: 0.1485982\ttotal: 10m 2s\tremaining: 4m 20s\n",
            "698:\tlearn: 0.1485012\ttotal: 10m 3s\tremaining: 4m 19s\n",
            "699:\tlearn: 0.1484275\ttotal: 10m 4s\tremaining: 4m 18s\n",
            "700:\tlearn: 0.1483529\ttotal: 10m 4s\tremaining: 4m 18s\n",
            "701:\tlearn: 0.1482943\ttotal: 10m 5s\tremaining: 4m 17s\n",
            "702:\tlearn: 0.1482308\ttotal: 10m 6s\tremaining: 4m 16s\n",
            "703:\tlearn: 0.1481643\ttotal: 10m 7s\tremaining: 4m 15s\n",
            "704:\tlearn: 0.1480460\ttotal: 10m 8s\tremaining: 4m 14s\n",
            "705:\tlearn: 0.1480116\ttotal: 10m 8s\tremaining: 4m 13s\n",
            "706:\tlearn: 0.1479837\ttotal: 10m 9s\tremaining: 4m 12s\n",
            "707:\tlearn: 0.1479560\ttotal: 10m 10s\tremaining: 4m 11s\n",
            "708:\tlearn: 0.1479121\ttotal: 10m 11s\tremaining: 4m 10s\n",
            "709:\tlearn: 0.1478132\ttotal: 10m 11s\tremaining: 4m 9s\n",
            "710:\tlearn: 0.1477597\ttotal: 10m 12s\tremaining: 4m 9s\n",
            "711:\tlearn: 0.1476982\ttotal: 10m 13s\tremaining: 4m 8s\n",
            "712:\tlearn: 0.1476238\ttotal: 10m 14s\tremaining: 4m 7s\n",
            "713:\tlearn: 0.1475613\ttotal: 10m 15s\tremaining: 4m 6s\n",
            "714:\tlearn: 0.1473879\ttotal: 10m 15s\tremaining: 4m 5s\n",
            "715:\tlearn: 0.1473660\ttotal: 10m 16s\tremaining: 4m 4s\n",
            "716:\tlearn: 0.1473364\ttotal: 10m 17s\tremaining: 4m 3s\n",
            "717:\tlearn: 0.1472889\ttotal: 10m 18s\tremaining: 4m 2s\n",
            "718:\tlearn: 0.1472387\ttotal: 10m 18s\tremaining: 4m 1s\n",
            "719:\tlearn: 0.1471987\ttotal: 10m 19s\tremaining: 4m 1s\n",
            "720:\tlearn: 0.1471361\ttotal: 10m 20s\tremaining: 4m\n",
            "721:\tlearn: 0.1470861\ttotal: 10m 21s\tremaining: 3m 59s\n",
            "722:\tlearn: 0.1470515\ttotal: 10m 22s\tremaining: 3m 58s\n",
            "723:\tlearn: 0.1470246\ttotal: 10m 22s\tremaining: 3m 57s\n",
            "724:\tlearn: 0.1469893\ttotal: 10m 23s\tremaining: 3m 56s\n",
            "725:\tlearn: 0.1469324\ttotal: 10m 24s\tremaining: 3m 55s\n",
            "726:\tlearn: 0.1468716\ttotal: 10m 25s\tremaining: 3m 54s\n",
            "727:\tlearn: 0.1467942\ttotal: 10m 25s\tremaining: 3m 53s\n",
            "728:\tlearn: 0.1467504\ttotal: 10m 26s\tremaining: 3m 52s\n",
            "729:\tlearn: 0.1466932\ttotal: 10m 27s\tremaining: 3m 52s\n",
            "730:\tlearn: 0.1466623\ttotal: 10m 28s\tremaining: 3m 51s\n",
            "731:\tlearn: 0.1465871\ttotal: 10m 29s\tremaining: 3m 50s\n",
            "732:\tlearn: 0.1465211\ttotal: 10m 29s\tremaining: 3m 49s\n",
            "733:\tlearn: 0.1464189\ttotal: 10m 30s\tremaining: 3m 48s\n",
            "734:\tlearn: 0.1462353\ttotal: 10m 31s\tremaining: 3m 47s\n",
            "735:\tlearn: 0.1460932\ttotal: 10m 32s\tremaining: 3m 46s\n",
            "736:\tlearn: 0.1460390\ttotal: 10m 32s\tremaining: 3m 45s\n",
            "737:\tlearn: 0.1459778\ttotal: 10m 33s\tremaining: 3m 44s\n",
            "738:\tlearn: 0.1459438\ttotal: 10m 34s\tremaining: 3m 44s\n",
            "739:\tlearn: 0.1458773\ttotal: 10m 35s\tremaining: 3m 43s\n",
            "740:\tlearn: 0.1457870\ttotal: 10m 36s\tremaining: 3m 42s\n",
            "741:\tlearn: 0.1457468\ttotal: 10m 36s\tremaining: 3m 41s\n",
            "742:\tlearn: 0.1456816\ttotal: 10m 37s\tremaining: 3m 40s\n",
            "743:\tlearn: 0.1456533\ttotal: 10m 38s\tremaining: 3m 39s\n",
            "744:\tlearn: 0.1456124\ttotal: 10m 39s\tremaining: 3m 38s\n",
            "745:\tlearn: 0.1455260\ttotal: 10m 39s\tremaining: 3m 37s\n",
            "746:\tlearn: 0.1454771\ttotal: 10m 40s\tremaining: 3m 36s\n",
            "747:\tlearn: 0.1454216\ttotal: 10m 41s\tremaining: 3m 36s\n",
            "748:\tlearn: 0.1453626\ttotal: 10m 42s\tremaining: 3m 35s\n",
            "749:\tlearn: 0.1452808\ttotal: 10m 42s\tremaining: 3m 34s\n",
            "750:\tlearn: 0.1452067\ttotal: 10m 43s\tremaining: 3m 33s\n",
            "751:\tlearn: 0.1451193\ttotal: 10m 44s\tremaining: 3m 32s\n",
            "752:\tlearn: 0.1450822\ttotal: 10m 45s\tremaining: 3m 31s\n",
            "753:\tlearn: 0.1450497\ttotal: 10m 46s\tremaining: 3m 30s\n",
            "754:\tlearn: 0.1450293\ttotal: 10m 46s\tremaining: 3m 29s\n",
            "755:\tlearn: 0.1449933\ttotal: 10m 47s\tremaining: 3m 29s\n",
            "756:\tlearn: 0.1449641\ttotal: 10m 48s\tremaining: 3m 28s\n",
            "757:\tlearn: 0.1449285\ttotal: 10m 49s\tremaining: 3m 27s\n",
            "758:\tlearn: 0.1448724\ttotal: 10m 49s\tremaining: 3m 26s\n",
            "759:\tlearn: 0.1448225\ttotal: 10m 50s\tremaining: 3m 25s\n",
            "760:\tlearn: 0.1447061\ttotal: 10m 51s\tremaining: 3m 24s\n",
            "761:\tlearn: 0.1445521\ttotal: 10m 52s\tremaining: 3m 23s\n",
            "762:\tlearn: 0.1445241\ttotal: 10m 53s\tremaining: 3m 22s\n",
            "763:\tlearn: 0.1444697\ttotal: 10m 53s\tremaining: 3m 21s\n",
            "764:\tlearn: 0.1444317\ttotal: 10m 54s\tremaining: 3m 21s\n",
            "765:\tlearn: 0.1443992\ttotal: 10m 55s\tremaining: 3m 20s\n",
            "766:\tlearn: 0.1443453\ttotal: 10m 56s\tremaining: 3m 19s\n",
            "767:\tlearn: 0.1442103\ttotal: 10m 56s\tremaining: 3m 18s\n",
            "768:\tlearn: 0.1441565\ttotal: 10m 57s\tremaining: 3m 17s\n",
            "769:\tlearn: 0.1441078\ttotal: 10m 58s\tremaining: 3m 16s\n",
            "770:\tlearn: 0.1440745\ttotal: 10m 59s\tremaining: 3m 15s\n",
            "771:\tlearn: 0.1440500\ttotal: 10m 59s\tremaining: 3m 14s\n",
            "772:\tlearn: 0.1439991\ttotal: 11m\tremaining: 3m 14s\n",
            "773:\tlearn: 0.1439712\ttotal: 11m 1s\tremaining: 3m 13s\n",
            "774:\tlearn: 0.1439427\ttotal: 11m 2s\tremaining: 3m 12s\n",
            "775:\tlearn: 0.1438714\ttotal: 11m 3s\tremaining: 3m 11s\n",
            "776:\tlearn: 0.1438253\ttotal: 11m 3s\tremaining: 3m 10s\n",
            "777:\tlearn: 0.1437816\ttotal: 11m 4s\tremaining: 3m 9s\n",
            "778:\tlearn: 0.1437633\ttotal: 11m 5s\tremaining: 3m 8s\n",
            "779:\tlearn: 0.1437277\ttotal: 11m 6s\tremaining: 3m 7s\n",
            "780:\tlearn: 0.1436597\ttotal: 11m 6s\tremaining: 3m 7s\n",
            "781:\tlearn: 0.1436303\ttotal: 11m 7s\tremaining: 3m 6s\n",
            "782:\tlearn: 0.1435899\ttotal: 11m 8s\tremaining: 3m 5s\n",
            "783:\tlearn: 0.1435422\ttotal: 11m 9s\tremaining: 3m 4s\n",
            "784:\tlearn: 0.1434614\ttotal: 11m 10s\tremaining: 3m 3s\n",
            "785:\tlearn: 0.1434289\ttotal: 11m 10s\tremaining: 3m 2s\n",
            "786:\tlearn: 0.1433361\ttotal: 11m 11s\tremaining: 3m 1s\n",
            "787:\tlearn: 0.1432871\ttotal: 11m 12s\tremaining: 3m\n",
            "788:\tlearn: 0.1432511\ttotal: 11m 13s\tremaining: 3m\n",
            "789:\tlearn: 0.1432108\ttotal: 11m 13s\tremaining: 2m 59s\n",
            "790:\tlearn: 0.1431185\ttotal: 11m 14s\tremaining: 2m 58s\n",
            "791:\tlearn: 0.1430775\ttotal: 11m 15s\tremaining: 2m 57s\n",
            "792:\tlearn: 0.1430310\ttotal: 11m 16s\tremaining: 2m 56s\n",
            "793:\tlearn: 0.1429921\ttotal: 11m 17s\tremaining: 2m 55s\n",
            "794:\tlearn: 0.1428926\ttotal: 11m 17s\tremaining: 2m 54s\n",
            "795:\tlearn: 0.1427010\ttotal: 11m 18s\tremaining: 2m 53s\n",
            "796:\tlearn: 0.1426325\ttotal: 11m 19s\tremaining: 2m 53s\n",
            "797:\tlearn: 0.1425878\ttotal: 11m 20s\tremaining: 2m 52s\n",
            "798:\tlearn: 0.1425130\ttotal: 11m 20s\tremaining: 2m 51s\n",
            "799:\tlearn: 0.1424770\ttotal: 11m 21s\tremaining: 2m 50s\n",
            "800:\tlearn: 0.1424380\ttotal: 11m 22s\tremaining: 2m 49s\n",
            "801:\tlearn: 0.1423981\ttotal: 11m 23s\tremaining: 2m 48s\n",
            "802:\tlearn: 0.1423579\ttotal: 11m 24s\tremaining: 2m 47s\n",
            "803:\tlearn: 0.1423110\ttotal: 11m 24s\tremaining: 2m 46s\n",
            "804:\tlearn: 0.1422856\ttotal: 11m 25s\tremaining: 2m 46s\n",
            "805:\tlearn: 0.1422232\ttotal: 11m 26s\tremaining: 2m 45s\n",
            "806:\tlearn: 0.1421919\ttotal: 11m 27s\tremaining: 2m 44s\n",
            "807:\tlearn: 0.1421553\ttotal: 11m 27s\tremaining: 2m 43s\n",
            "808:\tlearn: 0.1420736\ttotal: 11m 28s\tremaining: 2m 42s\n",
            "809:\tlearn: 0.1419566\ttotal: 11m 29s\tremaining: 2m 41s\n",
            "810:\tlearn: 0.1419104\ttotal: 11m 30s\tremaining: 2m 40s\n",
            "811:\tlearn: 0.1418699\ttotal: 11m 31s\tremaining: 2m 40s\n",
            "812:\tlearn: 0.1417730\ttotal: 11m 31s\tremaining: 2m 39s\n",
            "813:\tlearn: 0.1417457\ttotal: 11m 32s\tremaining: 2m 38s\n",
            "814:\tlearn: 0.1416542\ttotal: 11m 33s\tremaining: 2m 37s\n",
            "815:\tlearn: 0.1415690\ttotal: 11m 34s\tremaining: 2m 36s\n",
            "816:\tlearn: 0.1414982\ttotal: 11m 34s\tremaining: 2m 35s\n",
            "817:\tlearn: 0.1414543\ttotal: 11m 35s\tremaining: 2m 34s\n",
            "818:\tlearn: 0.1414167\ttotal: 11m 36s\tremaining: 2m 33s\n",
            "819:\tlearn: 0.1413706\ttotal: 11m 37s\tremaining: 2m 33s\n",
            "820:\tlearn: 0.1413299\ttotal: 11m 38s\tremaining: 2m 32s\n",
            "821:\tlearn: 0.1413063\ttotal: 11m 38s\tremaining: 2m 31s\n",
            "822:\tlearn: 0.1411766\ttotal: 11m 39s\tremaining: 2m 30s\n",
            "823:\tlearn: 0.1411401\ttotal: 11m 40s\tremaining: 2m 29s\n",
            "824:\tlearn: 0.1410926\ttotal: 11m 41s\tremaining: 2m 28s\n",
            "825:\tlearn: 0.1410470\ttotal: 11m 41s\tremaining: 2m 27s\n",
            "826:\tlearn: 0.1410182\ttotal: 11m 42s\tremaining: 2m 26s\n",
            "827:\tlearn: 0.1409890\ttotal: 11m 43s\tremaining: 2m 26s\n",
            "828:\tlearn: 0.1408921\ttotal: 11m 44s\tremaining: 2m 25s\n",
            "829:\tlearn: 0.1408590\ttotal: 11m 45s\tremaining: 2m 24s\n",
            "830:\tlearn: 0.1408278\ttotal: 11m 45s\tremaining: 2m 23s\n",
            "831:\tlearn: 0.1407971\ttotal: 11m 46s\tremaining: 2m 22s\n",
            "832:\tlearn: 0.1406406\ttotal: 11m 47s\tremaining: 2m 21s\n",
            "833:\tlearn: 0.1405923\ttotal: 11m 48s\tremaining: 2m 20s\n",
            "834:\tlearn: 0.1405630\ttotal: 11m 48s\tremaining: 2m 20s\n",
            "835:\tlearn: 0.1405187\ttotal: 11m 49s\tremaining: 2m 19s\n",
            "836:\tlearn: 0.1404794\ttotal: 11m 50s\tremaining: 2m 18s\n",
            "837:\tlearn: 0.1404455\ttotal: 11m 51s\tremaining: 2m 17s\n",
            "838:\tlearn: 0.1403771\ttotal: 11m 52s\tremaining: 2m 16s\n",
            "839:\tlearn: 0.1402739\ttotal: 11m 52s\tremaining: 2m 15s\n",
            "840:\tlearn: 0.1402403\ttotal: 11m 53s\tremaining: 2m 14s\n",
            "841:\tlearn: 0.1401954\ttotal: 11m 54s\tremaining: 2m 14s\n",
            "842:\tlearn: 0.1401366\ttotal: 11m 55s\tremaining: 2m 13s\n",
            "843:\tlearn: 0.1400706\ttotal: 11m 55s\tremaining: 2m 12s\n",
            "844:\tlearn: 0.1400520\ttotal: 11m 56s\tremaining: 2m 11s\n",
            "845:\tlearn: 0.1400075\ttotal: 11m 57s\tremaining: 2m 10s\n",
            "846:\tlearn: 0.1399726\ttotal: 11m 58s\tremaining: 2m 9s\n",
            "847:\tlearn: 0.1398978\ttotal: 11m 59s\tremaining: 2m 8s\n",
            "848:\tlearn: 0.1398148\ttotal: 11m 59s\tremaining: 2m 8s\n",
            "849:\tlearn: 0.1397807\ttotal: 12m\tremaining: 2m 7s\n",
            "850:\tlearn: 0.1397549\ttotal: 12m 1s\tremaining: 2m 6s\n",
            "851:\tlearn: 0.1397279\ttotal: 12m 2s\tremaining: 2m 5s\n",
            "852:\tlearn: 0.1396993\ttotal: 12m 3s\tremaining: 2m 4s\n",
            "853:\tlearn: 0.1396325\ttotal: 12m 3s\tremaining: 2m 3s\n",
            "854:\tlearn: 0.1396061\ttotal: 12m 4s\tremaining: 2m 2s\n",
            "855:\tlearn: 0.1395642\ttotal: 12m 5s\tremaining: 2m 2s\n",
            "856:\tlearn: 0.1395262\ttotal: 12m 6s\tremaining: 2m 1s\n",
            "857:\tlearn: 0.1394825\ttotal: 12m 6s\tremaining: 2m\n",
            "858:\tlearn: 0.1394588\ttotal: 12m 7s\tremaining: 1m 59s\n",
            "859:\tlearn: 0.1393692\ttotal: 12m 8s\tremaining: 1m 58s\n",
            "860:\tlearn: 0.1393115\ttotal: 12m 9s\tremaining: 1m 57s\n",
            "861:\tlearn: 0.1392806\ttotal: 12m 10s\tremaining: 1m 56s\n",
            "862:\tlearn: 0.1392492\ttotal: 12m 10s\tremaining: 1m 56s\n",
            "863:\tlearn: 0.1392318\ttotal: 12m 11s\tremaining: 1m 55s\n",
            "864:\tlearn: 0.1391731\ttotal: 12m 12s\tremaining: 1m 54s\n",
            "865:\tlearn: 0.1391347\ttotal: 12m 13s\tremaining: 1m 53s\n",
            "866:\tlearn: 0.1390966\ttotal: 12m 14s\tremaining: 1m 52s\n",
            "867:\tlearn: 0.1389814\ttotal: 12m 14s\tremaining: 1m 51s\n",
            "868:\tlearn: 0.1388847\ttotal: 12m 15s\tremaining: 1m 50s\n",
            "869:\tlearn: 0.1388628\ttotal: 12m 16s\tremaining: 1m 50s\n",
            "870:\tlearn: 0.1388260\ttotal: 12m 17s\tremaining: 1m 49s\n",
            "871:\tlearn: 0.1387978\ttotal: 12m 18s\tremaining: 1m 48s\n",
            "872:\tlearn: 0.1387808\ttotal: 12m 18s\tremaining: 1m 47s\n",
            "873:\tlearn: 0.1386802\ttotal: 12m 19s\tremaining: 1m 46s\n",
            "874:\tlearn: 0.1386590\ttotal: 12m 20s\tremaining: 1m 45s\n",
            "875:\tlearn: 0.1386132\ttotal: 12m 21s\tremaining: 1m 44s\n",
            "876:\tlearn: 0.1385331\ttotal: 12m 22s\tremaining: 1m 44s\n",
            "877:\tlearn: 0.1385067\ttotal: 12m 22s\tremaining: 1m 43s\n",
            "878:\tlearn: 0.1384485\ttotal: 12m 23s\tremaining: 1m 42s\n",
            "879:\tlearn: 0.1383845\ttotal: 12m 24s\tremaining: 1m 41s\n",
            "880:\tlearn: 0.1383498\ttotal: 12m 25s\tremaining: 1m 40s\n",
            "881:\tlearn: 0.1382988\ttotal: 12m 25s\tremaining: 1m 39s\n",
            "882:\tlearn: 0.1382686\ttotal: 12m 26s\tremaining: 1m 38s\n",
            "883:\tlearn: 0.1382379\ttotal: 12m 27s\tremaining: 1m 38s\n",
            "884:\tlearn: 0.1382103\ttotal: 12m 28s\tremaining: 1m 37s\n",
            "885:\tlearn: 0.1381353\ttotal: 12m 29s\tremaining: 1m 36s\n",
            "886:\tlearn: 0.1380903\ttotal: 12m 30s\tremaining: 1m 35s\n",
            "887:\tlearn: 0.1380624\ttotal: 12m 30s\tremaining: 1m 34s\n",
            "888:\tlearn: 0.1378944\ttotal: 12m 31s\tremaining: 1m 33s\n",
            "889:\tlearn: 0.1378727\ttotal: 12m 32s\tremaining: 1m 32s\n",
            "890:\tlearn: 0.1378452\ttotal: 12m 33s\tremaining: 1m 32s\n",
            "891:\tlearn: 0.1378231\ttotal: 12m 34s\tremaining: 1m 31s\n",
            "892:\tlearn: 0.1377789\ttotal: 12m 35s\tremaining: 1m 30s\n",
            "893:\tlearn: 0.1377468\ttotal: 12m 36s\tremaining: 1m 29s\n",
            "894:\tlearn: 0.1377201\ttotal: 12m 38s\tremaining: 1m 28s\n",
            "895:\tlearn: 0.1376904\ttotal: 12m 39s\tremaining: 1m 28s\n",
            "896:\tlearn: 0.1376450\ttotal: 12m 40s\tremaining: 1m 27s\n",
            "897:\tlearn: 0.1376009\ttotal: 12m 40s\tremaining: 1m 26s\n",
            "898:\tlearn: 0.1375449\ttotal: 12m 41s\tremaining: 1m 25s\n",
            "899:\tlearn: 0.1375220\ttotal: 12m 42s\tremaining: 1m 24s\n",
            "900:\tlearn: 0.1373823\ttotal: 12m 43s\tremaining: 1m 23s\n",
            "901:\tlearn: 0.1373597\ttotal: 12m 43s\tremaining: 1m 23s\n",
            "902:\tlearn: 0.1373444\ttotal: 12m 44s\tremaining: 1m 22s\n",
            "903:\tlearn: 0.1372633\ttotal: 12m 45s\tremaining: 1m 21s\n",
            "904:\tlearn: 0.1371431\ttotal: 12m 46s\tremaining: 1m 20s\n",
            "905:\tlearn: 0.1371095\ttotal: 12m 47s\tremaining: 1m 19s\n",
            "906:\tlearn: 0.1370942\ttotal: 12m 47s\tremaining: 1m 18s\n",
            "907:\tlearn: 0.1370693\ttotal: 12m 48s\tremaining: 1m 17s\n",
            "908:\tlearn: 0.1370464\ttotal: 12m 49s\tremaining: 1m 17s\n",
            "909:\tlearn: 0.1369328\ttotal: 12m 50s\tremaining: 1m 16s\n",
            "910:\tlearn: 0.1369173\ttotal: 12m 51s\tremaining: 1m 15s\n",
            "911:\tlearn: 0.1368849\ttotal: 12m 51s\tremaining: 1m 14s\n",
            "912:\tlearn: 0.1365273\ttotal: 12m 52s\tremaining: 1m 13s\n",
            "913:\tlearn: 0.1364907\ttotal: 12m 53s\tremaining: 1m 12s\n",
            "914:\tlearn: 0.1364527\ttotal: 12m 54s\tremaining: 1m 11s\n",
            "915:\tlearn: 0.1364256\ttotal: 12m 55s\tremaining: 1m 11s\n",
            "916:\tlearn: 0.1363984\ttotal: 12m 55s\tremaining: 1m 10s\n",
            "917:\tlearn: 0.1363609\ttotal: 12m 56s\tremaining: 1m 9s\n",
            "918:\tlearn: 0.1363242\ttotal: 12m 57s\tremaining: 1m 8s\n",
            "919:\tlearn: 0.1363024\ttotal: 12m 58s\tremaining: 1m 7s\n",
            "920:\tlearn: 0.1362712\ttotal: 12m 59s\tremaining: 1m 6s\n",
            "921:\tlearn: 0.1361977\ttotal: 12m 59s\tremaining: 1m 5s\n",
            "922:\tlearn: 0.1360305\ttotal: 13m\tremaining: 1m 5s\n",
            "923:\tlearn: 0.1360024\ttotal: 13m 1s\tremaining: 1m 4s\n",
            "924:\tlearn: 0.1359592\ttotal: 13m 2s\tremaining: 1m 3s\n",
            "925:\tlearn: 0.1358849\ttotal: 13m 3s\tremaining: 1m 2s\n",
            "926:\tlearn: 0.1358713\ttotal: 13m 3s\tremaining: 1m 1s\n",
            "927:\tlearn: 0.1358290\ttotal: 13m 4s\tremaining: 1m\n",
            "928:\tlearn: 0.1357945\ttotal: 13m 5s\tremaining: 1m\n",
            "929:\tlearn: 0.1357535\ttotal: 13m 6s\tremaining: 59.2s\n",
            "930:\tlearn: 0.1356702\ttotal: 13m 6s\tremaining: 58.3s\n",
            "931:\tlearn: 0.1355704\ttotal: 13m 7s\tremaining: 57.5s\n",
            "932:\tlearn: 0.1355121\ttotal: 13m 8s\tremaining: 56.6s\n",
            "933:\tlearn: 0.1354892\ttotal: 13m 9s\tremaining: 55.8s\n",
            "934:\tlearn: 0.1354469\ttotal: 13m 10s\tremaining: 54.9s\n",
            "935:\tlearn: 0.1354143\ttotal: 13m 10s\tremaining: 54.1s\n",
            "936:\tlearn: 0.1353775\ttotal: 13m 11s\tremaining: 53.2s\n",
            "937:\tlearn: 0.1353513\ttotal: 13m 12s\tremaining: 52.4s\n",
            "938:\tlearn: 0.1353249\ttotal: 13m 13s\tremaining: 51.5s\n",
            "939:\tlearn: 0.1352967\ttotal: 13m 14s\tremaining: 50.7s\n",
            "940:\tlearn: 0.1352408\ttotal: 13m 14s\tremaining: 49.8s\n",
            "941:\tlearn: 0.1352150\ttotal: 13m 15s\tremaining: 49s\n",
            "942:\tlearn: 0.1351618\ttotal: 13m 16s\tremaining: 48.1s\n",
            "943:\tlearn: 0.1351251\ttotal: 13m 17s\tremaining: 47.3s\n",
            "944:\tlearn: 0.1351112\ttotal: 13m 18s\tremaining: 46.5s\n",
            "945:\tlearn: 0.1350617\ttotal: 13m 18s\tremaining: 45.6s\n",
            "946:\tlearn: 0.1350288\ttotal: 13m 19s\tremaining: 44.8s\n",
            "947:\tlearn: 0.1349819\ttotal: 13m 20s\tremaining: 43.9s\n",
            "948:\tlearn: 0.1349495\ttotal: 13m 21s\tremaining: 43.1s\n",
            "949:\tlearn: 0.1349267\ttotal: 13m 22s\tremaining: 42.2s\n",
            "950:\tlearn: 0.1348924\ttotal: 13m 23s\tremaining: 41.4s\n",
            "951:\tlearn: 0.1348616\ttotal: 13m 24s\tremaining: 40.5s\n",
            "952:\tlearn: 0.1347934\ttotal: 13m 24s\tremaining: 39.7s\n",
            "953:\tlearn: 0.1347755\ttotal: 13m 25s\tremaining: 38.8s\n",
            "954:\tlearn: 0.1347391\ttotal: 13m 26s\tremaining: 38s\n",
            "955:\tlearn: 0.1346891\ttotal: 13m 27s\tremaining: 37.2s\n",
            "956:\tlearn: 0.1345983\ttotal: 13m 28s\tremaining: 36.3s\n",
            "957:\tlearn: 0.1345726\ttotal: 13m 28s\tremaining: 35.5s\n",
            "958:\tlearn: 0.1345514\ttotal: 13m 29s\tremaining: 34.6s\n",
            "959:\tlearn: 0.1345246\ttotal: 13m 30s\tremaining: 33.8s\n",
            "960:\tlearn: 0.1344983\ttotal: 13m 31s\tremaining: 32.9s\n",
            "961:\tlearn: 0.1344814\ttotal: 13m 32s\tremaining: 32.1s\n",
            "962:\tlearn: 0.1344428\ttotal: 13m 32s\tremaining: 31.2s\n",
            "963:\tlearn: 0.1344074\ttotal: 13m 33s\tremaining: 30.4s\n",
            "964:\tlearn: 0.1343506\ttotal: 13m 34s\tremaining: 29.5s\n",
            "965:\tlearn: 0.1343087\ttotal: 13m 35s\tremaining: 28.7s\n",
            "966:\tlearn: 0.1342853\ttotal: 13m 36s\tremaining: 27.8s\n",
            "967:\tlearn: 0.1342578\ttotal: 13m 36s\tremaining: 27s\n",
            "968:\tlearn: 0.1342057\ttotal: 13m 37s\tremaining: 26.2s\n",
            "969:\tlearn: 0.1341489\ttotal: 13m 38s\tremaining: 25.3s\n",
            "970:\tlearn: 0.1341243\ttotal: 13m 39s\tremaining: 24.5s\n",
            "971:\tlearn: 0.1340931\ttotal: 13m 40s\tremaining: 23.6s\n",
            "972:\tlearn: 0.1340482\ttotal: 13m 40s\tremaining: 22.8s\n",
            "973:\tlearn: 0.1340173\ttotal: 13m 41s\tremaining: 21.9s\n",
            "974:\tlearn: 0.1339705\ttotal: 13m 42s\tremaining: 21.1s\n",
            "975:\tlearn: 0.1339308\ttotal: 13m 43s\tremaining: 20.2s\n",
            "976:\tlearn: 0.1338691\ttotal: 13m 44s\tremaining: 19.4s\n",
            "977:\tlearn: 0.1338020\ttotal: 13m 44s\tremaining: 18.6s\n",
            "978:\tlearn: 0.1337495\ttotal: 13m 45s\tremaining: 17.7s\n",
            "979:\tlearn: 0.1337298\ttotal: 13m 46s\tremaining: 16.9s\n",
            "980:\tlearn: 0.1337001\ttotal: 13m 47s\tremaining: 16s\n",
            "981:\tlearn: 0.1336021\ttotal: 13m 48s\tremaining: 15.2s\n",
            "982:\tlearn: 0.1335363\ttotal: 13m 49s\tremaining: 14.3s\n",
            "983:\tlearn: 0.1334903\ttotal: 13m 50s\tremaining: 13.5s\n",
            "984:\tlearn: 0.1334683\ttotal: 13m 51s\tremaining: 12.7s\n",
            "985:\tlearn: 0.1334006\ttotal: 13m 51s\tremaining: 11.8s\n",
            "986:\tlearn: 0.1333836\ttotal: 13m 52s\tremaining: 11s\n",
            "987:\tlearn: 0.1333375\ttotal: 13m 53s\tremaining: 10.1s\n",
            "988:\tlearn: 0.1333035\ttotal: 13m 54s\tremaining: 9.28s\n",
            "989:\tlearn: 0.1332712\ttotal: 13m 55s\tremaining: 8.44s\n",
            "990:\tlearn: 0.1331698\ttotal: 13m 55s\tremaining: 7.59s\n",
            "991:\tlearn: 0.1331094\ttotal: 13m 56s\tremaining: 6.75s\n",
            "992:\tlearn: 0.1330664\ttotal: 13m 57s\tremaining: 5.9s\n",
            "993:\tlearn: 0.1330271\ttotal: 13m 58s\tremaining: 5.06s\n",
            "994:\tlearn: 0.1329877\ttotal: 13m 59s\tremaining: 4.22s\n",
            "995:\tlearn: 0.1329633\ttotal: 13m 59s\tremaining: 3.37s\n",
            "996:\tlearn: 0.1329366\ttotal: 14m\tremaining: 2.53s\n",
            "997:\tlearn: 0.1329069\ttotal: 14m 1s\tremaining: 1.69s\n",
            "998:\tlearn: 0.1328934\ttotal: 14m 2s\tremaining: 843ms\n",
            "999:\tlearn: 0.1328333\ttotal: 14m 3s\tremaining: 0us\n"
          ]
        },
        {
          "output_type": "execute_result",
          "data": {
            "text/plain": [
              "<catboost.core.CatBoostClassifier at 0x7f3b38596eb0>"
            ]
          },
          "metadata": {},
          "execution_count": 127
        }
      ]
    },
    {
      "cell_type": "code",
      "source": [
        "y_pred_cb = model_CBC.predict(X_test_tm)"
      ],
      "metadata": {
        "id": "bBzkD-Twyrk4"
      },
      "execution_count": null,
      "outputs": []
    },
    {
      "cell_type": "code",
      "source": [
        "accuracy = accuracy_score(y_test, y_pred_cb)\n",
        "print(\"catBoost: Test Accuracy: {:.2f}%\".format(accuracy * 100))\n",
        "print(classification_report(y_test,y_pred_cb))\n",
        "print(confusion_matrix(y_test,y_pred_cb))"
      ],
      "metadata": {
        "colab": {
          "base_uri": "https://localhost:8080/"
        },
        "id": "uunG8TTYytlI",
        "outputId": "eef9b178-ced1-491d-d590-e4d3442321a6"
      },
      "execution_count": null,
      "outputs": [
        {
          "output_type": "stream",
          "name": "stdout",
          "text": [
            "catBoost: Test Accuracy: 96.31%\n",
            "              precision    recall  f1-score   support\n",
            "\n",
            "    Negative       0.91      0.60      0.73       396\n",
            "     Neutral       0.96      0.99      0.98      6901\n",
            "    Positive       0.99      0.93      0.96      2665\n",
            "\n",
            "    accuracy                           0.96      9962\n",
            "   macro avg       0.95      0.84      0.89      9962\n",
            "weighted avg       0.96      0.96      0.96      9962\n",
            "\n",
            "[[ 239  144   13]\n",
            " [  15 6864   22]\n",
            " [   9  165 2491]]\n"
          ]
        }
      ]
    }
  ]
}